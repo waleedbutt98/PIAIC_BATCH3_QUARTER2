{
 "cells": [
  {
   "cell_type": "code",
   "execution_count": 1,
   "metadata": {},
   "outputs": [],
   "source": [
    "import tensorflow as tf\n",
    "from tensorflow import keras\n",
    "from keras.datasets import mnist\n",
    "from keras import models, layers\n",
    "from keras.utils import to_categorical\n",
    "\n",
    "import numpy as np\n",
    "import pandas as pd\n",
    "import matplotlib.pyplot as plt"
   ]
  },
  {
   "cell_type": "code",
   "execution_count": 2,
   "metadata": {},
   "outputs": [],
   "source": [
    "(train_images, train_labels), (test_images, test_labels) = mnist.load_data()"
   ]
  },
  {
   "cell_type": "code",
   "execution_count": 3,
   "metadata": {},
   "outputs": [],
   "source": [
    "network = models.Sequential()\n",
    "\n",
    "transforming_length = len(train_images[0]) * len(train_images[0][0])\n",
    "\n",
    "network.add(layers.Dense(512, activation='relu', input_shape=(transforming_length, ) ))\n",
    "\n",
    "network.add(layers.Dense(256, activation='relu'))\n",
    "\n",
    "network.add(layers.Dense(128, activation='relu'))\n",
    "\n",
    "network.add(layers.Dense(10, activation='softmax'))"
   ]
  },
  {
   "cell_type": "code",
   "execution_count": 4,
   "metadata": {},
   "outputs": [],
   "source": [
    "train_images = train_images.reshape((len(train_images), transforming_length ))\n",
    "\n",
    "test_images = test_images.reshape((len(test_images), transforming_length ))"
   ]
  },
  {
   "cell_type": "code",
   "execution_count": 5,
   "metadata": {},
   "outputs": [],
   "source": [
    "train_images = train_images / 255\n",
    "\n",
    "test_images = test_images / 255"
   ]
  },
  {
   "cell_type": "code",
   "execution_count": 6,
   "metadata": {},
   "outputs": [],
   "source": [
    "train_labels = to_categorical(train_labels)\n",
    "\n",
    "test_labels = to_categorical(test_labels)"
   ]
  },
  {
   "cell_type": "code",
   "execution_count": 7,
   "metadata": {},
   "outputs": [],
   "source": [
    "network.compile(optimizer='rmsprop', loss='categorical_crossentropy', metrics=['accuracy'])"
   ]
  },
  {
   "cell_type": "code",
   "execution_count": 8,
   "metadata": {},
   "outputs": [
    {
     "name": "stdout",
     "output_type": "stream",
     "text": [
      "Epoch 1/5\n",
      "469/469 [==============================] - 6s 14ms/step - loss: 0.2400 - accuracy: 0.9257\n",
      "Epoch 2/5\n",
      "469/469 [==============================] - 6s 14ms/step - loss: 0.0880 - accuracy: 0.9731\n",
      "Epoch 3/5\n",
      "469/469 [==============================] - 6s 13ms/step - loss: 0.0581 - accuracy: 0.9822\n",
      "Epoch 4/5\n",
      "469/469 [==============================] - 6s 13ms/step - loss: 0.0431 - accuracy: 0.9868\n",
      "Epoch 5/5\n",
      "469/469 [==============================] - 7s 14ms/step - loss: 0.0335 - accuracy: 0.9902\n"
     ]
    },
    {
     "data": {
      "text/plain": [
       "<tensorflow.python.keras.callbacks.History at 0x2c46a600ee0>"
      ]
     },
     "execution_count": 8,
     "metadata": {},
     "output_type": "execute_result"
    }
   ],
   "source": [
    "network.fit( train_images, train_labels, epochs=5, batch_size = 128 )"
   ]
  },
  {
   "cell_type": "code",
   "execution_count": 9,
   "metadata": {
    "scrolled": true
   },
   "outputs": [
    {
     "name": "stdout",
     "output_type": "stream",
     "text": [
      "313/313 [==============================] - 1s 3ms/step - loss: 0.0850 - accuracy: 0.9790\n"
     ]
    },
    {
     "data": {
      "text/plain": [
       "[0.08499400317668915, 0.9789999723434448]"
      ]
     },
     "execution_count": 9,
     "metadata": {},
     "output_type": "execute_result"
    }
   ],
   "source": [
    "network.evaluate(test_images, test_labels)"
   ]
  },
  {
   "cell_type": "markdown",
   "metadata": {},
   "source": [
    "### IMDB Dataset"
   ]
  },
  {
   "cell_type": "code",
   "execution_count": 1,
   "metadata": {},
   "outputs": [],
   "source": [
    "import tensorflow as tf\n",
    "import tensorflow.keras as keras"
   ]
  },
  {
   "cell_type": "code",
   "execution_count": 2,
   "metadata": {},
   "outputs": [],
   "source": [
    "from keras.datasets import imdb"
   ]
  },
  {
   "cell_type": "code",
   "execution_count": 3,
   "metadata": {},
   "outputs": [],
   "source": [
    "(train_data, train_labels), (test_data, test_labels) = imdb.load_data(num_words = 10000)"
   ]
  },
  {
   "cell_type": "code",
   "execution_count": 4,
   "metadata": {
    "scrolled": true
   },
   "outputs": [
    {
     "data": {
      "text/plain": [
       "array([list([1, 14, 22, 16, 43, 530, 973, 1622, 1385, 65, 458, 4468, 66, 3941, 4, 173, 36, 256, 5, 25, 100, 43, 838, 112, 50, 670, 2, 9, 35, 480, 284, 5, 150, 4, 172, 112, 167, 2, 336, 385, 39, 4, 172, 4536, 1111, 17, 546, 38, 13, 447, 4, 192, 50, 16, 6, 147, 2025, 19, 14, 22, 4, 1920, 4613, 469, 4, 22, 71, 87, 12, 16, 43, 530, 38, 76, 15, 13, 1247, 4, 22, 17, 515, 17, 12, 16, 626, 18, 2, 5, 62, 386, 12, 8, 316, 8, 106, 5, 4, 2223, 5244, 16, 480, 66, 3785, 33, 4, 130, 12, 16, 38, 619, 5, 25, 124, 51, 36, 135, 48, 25, 1415, 33, 6, 22, 12, 215, 28, 77, 52, 5, 14, 407, 16, 82, 2, 8, 4, 107, 117, 5952, 15, 256, 4, 2, 7, 3766, 5, 723, 36, 71, 43, 530, 476, 26, 400, 317, 46, 7, 4, 2, 1029, 13, 104, 88, 4, 381, 15, 297, 98, 32, 2071, 56, 26, 141, 6, 194, 7486, 18, 4, 226, 22, 21, 134, 476, 26, 480, 5, 144, 30, 5535, 18, 51, 36, 28, 224, 92, 25, 104, 4, 226, 65, 16, 38, 1334, 88, 12, 16, 283, 5, 16, 4472, 113, 103, 32, 15, 16, 5345, 19, 178, 32]),\n",
       "       list([1, 194, 1153, 194, 8255, 78, 228, 5, 6, 1463, 4369, 5012, 134, 26, 4, 715, 8, 118, 1634, 14, 394, 20, 13, 119, 954, 189, 102, 5, 207, 110, 3103, 21, 14, 69, 188, 8, 30, 23, 7, 4, 249, 126, 93, 4, 114, 9, 2300, 1523, 5, 647, 4, 116, 9, 35, 8163, 4, 229, 9, 340, 1322, 4, 118, 9, 4, 130, 4901, 19, 4, 1002, 5, 89, 29, 952, 46, 37, 4, 455, 9, 45, 43, 38, 1543, 1905, 398, 4, 1649, 26, 6853, 5, 163, 11, 3215, 2, 4, 1153, 9, 194, 775, 7, 8255, 2, 349, 2637, 148, 605, 2, 8003, 15, 123, 125, 68, 2, 6853, 15, 349, 165, 4362, 98, 5, 4, 228, 9, 43, 2, 1157, 15, 299, 120, 5, 120, 174, 11, 220, 175, 136, 50, 9, 4373, 228, 8255, 5, 2, 656, 245, 2350, 5, 4, 9837, 131, 152, 491, 18, 2, 32, 7464, 1212, 14, 9, 6, 371, 78, 22, 625, 64, 1382, 9, 8, 168, 145, 23, 4, 1690, 15, 16, 4, 1355, 5, 28, 6, 52, 154, 462, 33, 89, 78, 285, 16, 145, 95]),\n",
       "       list([1, 14, 47, 8, 30, 31, 7, 4, 249, 108, 7, 4, 5974, 54, 61, 369, 13, 71, 149, 14, 22, 112, 4, 2401, 311, 12, 16, 3711, 33, 75, 43, 1829, 296, 4, 86, 320, 35, 534, 19, 263, 4821, 1301, 4, 1873, 33, 89, 78, 12, 66, 16, 4, 360, 7, 4, 58, 316, 334, 11, 4, 1716, 43, 645, 662, 8, 257, 85, 1200, 42, 1228, 2578, 83, 68, 3912, 15, 36, 165, 1539, 278, 36, 69, 2, 780, 8, 106, 14, 6905, 1338, 18, 6, 22, 12, 215, 28, 610, 40, 6, 87, 326, 23, 2300, 21, 23, 22, 12, 272, 40, 57, 31, 11, 4, 22, 47, 6, 2307, 51, 9, 170, 23, 595, 116, 595, 1352, 13, 191, 79, 638, 89, 2, 14, 9, 8, 106, 607, 624, 35, 534, 6, 227, 7, 129, 113]),\n",
       "       ...,\n",
       "       list([1, 11, 6, 230, 245, 6401, 9, 6, 1225, 446, 2, 45, 2174, 84, 8322, 4007, 21, 4, 912, 84, 2, 325, 725, 134, 2, 1715, 84, 5, 36, 28, 57, 1099, 21, 8, 140, 8, 703, 5, 2, 84, 56, 18, 1644, 14, 9, 31, 7, 4, 9406, 1209, 2295, 2, 1008, 18, 6, 20, 207, 110, 563, 12, 8, 2901, 2, 8, 97, 6, 20, 53, 4767, 74, 4, 460, 364, 1273, 29, 270, 11, 960, 108, 45, 40, 29, 2961, 395, 11, 6, 4065, 500, 7, 2, 89, 364, 70, 29, 140, 4, 64, 4780, 11, 4, 2678, 26, 178, 4, 529, 443, 2, 5, 27, 710, 117, 2, 8123, 165, 47, 84, 37, 131, 818, 14, 595, 10, 10, 61, 1242, 1209, 10, 10, 288, 2260, 1702, 34, 2901, 2, 4, 65, 496, 4, 231, 7, 790, 5, 6, 320, 234, 2766, 234, 1119, 1574, 7, 496, 4, 139, 929, 2901, 2, 7750, 5, 4241, 18, 4, 8497, 2, 250, 11, 1818, 7561, 4, 4217, 5408, 747, 1115, 372, 1890, 1006, 541, 9303, 7, 4, 59, 2, 4, 3586, 2]),\n",
       "       list([1, 1446, 7079, 69, 72, 3305, 13, 610, 930, 8, 12, 582, 23, 5, 16, 484, 685, 54, 349, 11, 4120, 2959, 45, 58, 1466, 13, 197, 12, 16, 43, 23, 2, 5, 62, 30, 145, 402, 11, 4131, 51, 575, 32, 61, 369, 71, 66, 770, 12, 1054, 75, 100, 2198, 8, 4, 105, 37, 69, 147, 712, 75, 3543, 44, 257, 390, 5, 69, 263, 514, 105, 50, 286, 1814, 23, 4, 123, 13, 161, 40, 5, 421, 4, 116, 16, 897, 13, 2, 40, 319, 5872, 112, 6700, 11, 4803, 121, 25, 70, 3468, 4, 719, 3798, 13, 18, 31, 62, 40, 8, 7200, 4, 2, 7, 14, 123, 5, 942, 25, 8, 721, 12, 145, 5, 202, 12, 160, 580, 202, 12, 6, 52, 58, 2, 92, 401, 728, 12, 39, 14, 251, 8, 15, 251, 5, 2, 12, 38, 84, 80, 124, 12, 9, 23]),\n",
       "       list([1, 17, 6, 194, 337, 7, 4, 204, 22, 45, 254, 8, 106, 14, 123, 4, 2, 270, 2, 5, 2, 2, 732, 2098, 101, 405, 39, 14, 1034, 4, 1310, 9, 115, 50, 305, 12, 47, 4, 168, 5, 235, 7, 38, 111, 699, 102, 7, 4, 4039, 9245, 9, 24, 6, 78, 1099, 17, 2345, 2, 21, 27, 9685, 6139, 5, 2, 1603, 92, 1183, 4, 1310, 7, 4, 204, 42, 97, 90, 35, 221, 109, 29, 127, 27, 118, 8, 97, 12, 157, 21, 6789, 2, 9, 6, 66, 78, 1099, 4, 631, 1191, 5, 2642, 272, 191, 1070, 6, 7585, 8, 2197, 2, 2, 544, 5, 383, 1271, 848, 1468, 2, 497, 2, 8, 1597, 8778, 2, 21, 60, 27, 239, 9, 43, 8368, 209, 405, 10, 10, 12, 764, 40, 4, 248, 20, 12, 16, 5, 174, 1791, 72, 7, 51, 6, 1739, 22, 4, 204, 131, 9])],\n",
       "      dtype=object)"
      ]
     },
     "execution_count": 4,
     "metadata": {},
     "output_type": "execute_result"
    }
   ],
   "source": [
    "train_data"
   ]
  },
  {
   "cell_type": "code",
   "execution_count": 5,
   "metadata": {},
   "outputs": [],
   "source": [
    "word_index = imdb.get_word_index()"
   ]
  },
  {
   "cell_type": "code",
   "execution_count": 6,
   "metadata": {},
   "outputs": [],
   "source": [
    "reverese_word_index = dict ([ (value,key) for (key,value) in word_index.items() ])"
   ]
  },
  {
   "cell_type": "code",
   "execution_count": 7,
   "metadata": {},
   "outputs": [
    {
     "data": {
      "text/plain": [
       "\" this film was just brilliant casting location scenery story direction everyone's really suited the part they played and you could just imagine being there robert  is an amazing actor and now the same being director  father came from the same scottish island as myself so i loved the fact there was a real connection with this film the witty remarks throughout the film were great it was just brilliant so much that i bought the film as soon as it was released for  and would recommend it to everyone to watch and the fly fishing was amazing really cried at the end it was so sad and you know what they say if you cry at a film it must have been good and this definitely was also  to the two little boy's that played the  of norman and paul they were just brilliant children are often left out of the  list i think because the stars that play them all grown up are such a big profile for the whole film but these children are amazing and should be praised for what they have done don't you think the whole story was so lovely because it was true and was someone's life after all that was shared with us all\""
      ]
     },
     "execution_count": 7,
     "metadata": {},
     "output_type": "execute_result"
    }
   ],
   "source": [
    "\" \".join([ reverese_word_index.get( i-3 ,\"\") for i in train_data[0] ])"
   ]
  },
  {
   "cell_type": "code",
   "execution_count": 8,
   "metadata": {},
   "outputs": [
    {
     "data": {
      "text/plain": [
       "\" this film was just brilliant casting location scenery story direction everyone's really suited the part they played and you could just imagine being there robert  is an amazing actor and now the same being director  father came from the same scottish island as myself so i loved the fact there was a real connection with this film the witty remarks throughout the film were great it was just brilliant so much that i bought the film as soon as it was released for  and would recommend it to everyone to watch and the fly fishing was amazing really cried at the end it was so sad and you know what they say if you cry at a film it must have been good and this definitely was also  to the two little boy's that played the  of norman and paul they were just brilliant children are often left out of the  list i think because the stars that play them all grown up are such a big profile for the whole film but these children are amazing and should be praised for what they have done don't you think the whole story was so lovely because it was true and was someone's life after all that was shared with us all\""
      ]
     },
     "execution_count": 8,
     "metadata": {},
     "output_type": "execute_result"
    }
   ],
   "source": [
    "def decode(reverese_word_index, value):\n",
    "    return \" \".join([ reverese_word_index.get( i-3 ,\"\") for i in value ])\n",
    "\n",
    "def decode_all(reverese_word_index, array):\n",
    "    return [decode(reverese_word_index, value) for value in array ]\n",
    "    \n",
    "decode_all(reverese_word_index,train_data)[0]"
   ]
  },
  {
   "cell_type": "code",
   "execution_count": 9,
   "metadata": {},
   "outputs": [],
   "source": [
    "import numpy as np\n",
    "\n",
    "def vectorize_seq(seq, dim = 10000):\n",
    "    results = np.zeros((len(seq), dim))\n",
    "    for i, sequence in enumerate(seq):\n",
    "        results[i, sequence] = 1.\n",
    "    return results\n",
    "\n",
    "x_train = vectorize_seq(train_data)\n",
    "x_test = vectorize_seq(test_data)\n",
    "\n",
    "y_train = np.asarray(train_labels).astype('float32')\n",
    "y_test = np.asarray(test_labels).astype('float32')"
   ]
  },
  {
   "cell_type": "code",
   "execution_count": 10,
   "metadata": {},
   "outputs": [
    {
     "data": {
      "text/plain": [
       "array([[0., 1., 1., ..., 0., 0., 0.],\n",
       "       [0., 1., 1., ..., 0., 0., 0.],\n",
       "       [0., 1., 1., ..., 0., 0., 0.],\n",
       "       ...,\n",
       "       [0., 1., 1., ..., 0., 0., 0.],\n",
       "       [0., 1., 1., ..., 0., 0., 0.],\n",
       "       [0., 1., 1., ..., 0., 0., 0.]])"
      ]
     },
     "execution_count": 10,
     "metadata": {},
     "output_type": "execute_result"
    }
   ],
   "source": [
    "x_train"
   ]
  },
  {
   "cell_type": "code",
   "execution_count": 11,
   "metadata": {},
   "outputs": [],
   "source": [
    "from keras import models, layers\n",
    "\n",
    "model = models.Sequential()\n",
    "\n",
    "model.add(layers.Dense(16, activation='relu', input_shape=(10000,)))\n",
    "\n",
    "model.add(layers.Dense(16, activation='relu'))\n",
    "\n",
    "model.add(layers.Dense(1, activation='sigmoid'))"
   ]
  },
  {
   "cell_type": "code",
   "execution_count": 12,
   "metadata": {},
   "outputs": [],
   "source": [
    "model.compile(optimizer='rmsprop', loss='categorical_crossentropy', metrics=['accuracy'])"
   ]
  },
  {
   "cell_type": "code",
   "execution_count": 13,
   "metadata": {},
   "outputs": [],
   "source": [
    "# Other ways to compile\n",
    "\n",
    "# from keras import optimizers\n",
    "# model.compile(optimizer=optimizers.RMSprop(lr=0.001),\n",
    "# loss='binary_crossentropy',\n",
    "# metrics=['accuracy'])\n",
    "# from keras import losses\n",
    "# from keras import metrics\n",
    "# model.compile(optimizer=optimizers.RMSprop(lr=0.001),\n",
    "# loss=losses.binary_crossentropy,\n",
    "# metrics=[metrics.binary_accuracy])"
   ]
  },
  {
   "cell_type": "code",
   "execution_count": 14,
   "metadata": {},
   "outputs": [],
   "source": [
    "x_val = x_train[:10000]\n",
    "partial_x_train = x_train[10000:]\n",
    "\n",
    "y_val = y_train[:10000]\n",
    "partial_y_train = y_train[10000:]"
   ]
  },
  {
   "cell_type": "code",
   "execution_count": 15,
   "metadata": {},
   "outputs": [],
   "source": [
    "model.compile(optimizer='rmsprop', loss='binary_crossentropy', metrics=['acc'])"
   ]
  },
  {
   "cell_type": "code",
   "execution_count": 16,
   "metadata": {
    "scrolled": true
   },
   "outputs": [
    {
     "name": "stdout",
     "output_type": "stream",
     "text": [
      "Epoch 1/20\n",
      "30/30 [==============================] - 2s 77ms/step - loss: 0.5548 - acc: 0.7889 - val_loss: 0.4335 - val_acc: 0.8621\n",
      "Epoch 2/20\n",
      "30/30 [==============================] - 1s 34ms/step - loss: 0.3431 - acc: 0.8963 - val_loss: 0.3233 - val_acc: 0.8852\n",
      "Epoch 3/20\n",
      "30/30 [==============================] - 1s 29ms/step - loss: 0.2428 - acc: 0.9246 - val_loss: 0.2859 - val_acc: 0.8877\n",
      "Epoch 4/20\n",
      "30/30 [==============================] - 1s 29ms/step - loss: 0.1891 - acc: 0.9397 - val_loss: 0.2776 - val_acc: 0.8883\n",
      "Epoch 5/20\n",
      "30/30 [==============================] - 1s 29ms/step - loss: 0.1542 - acc: 0.9494 - val_loss: 0.2790 - val_acc: 0.8884\n",
      "Epoch 6/20\n",
      "30/30 [==============================] - 1s 28ms/step - loss: 0.1270 - acc: 0.9598 - val_loss: 0.2980 - val_acc: 0.8852\n",
      "Epoch 7/20\n",
      "30/30 [==============================] - 1s 28ms/step - loss: 0.1039 - acc: 0.9691 - val_loss: 0.3165 - val_acc: 0.8824\n",
      "Epoch 8/20\n",
      "30/30 [==============================] - 1s 29ms/step - loss: 0.0885 - acc: 0.9731 - val_loss: 0.3286 - val_acc: 0.8787\n",
      "Epoch 9/20\n",
      "30/30 [==============================] - 1s 30ms/step - loss: 0.0724 - acc: 0.9791 - val_loss: 0.3599 - val_acc: 0.8809\n",
      "Epoch 10/20\n",
      "30/30 [==============================] - 1s 32ms/step - loss: 0.0583 - acc: 0.9862 - val_loss: 0.3743 - val_acc: 0.8790\n",
      "Epoch 11/20\n",
      "30/30 [==============================] - 1s 29ms/step - loss: 0.0482 - acc: 0.9881 - val_loss: 0.4166 - val_acc: 0.8783\n",
      "Epoch 12/20\n",
      "30/30 [==============================] - 1s 29ms/step - loss: 0.0395 - acc: 0.9909 - val_loss: 0.4348 - val_acc: 0.8733\n",
      "Epoch 13/20\n",
      "30/30 [==============================] - 1s 32ms/step - loss: 0.0315 - acc: 0.9935 - val_loss: 0.4694 - val_acc: 0.8741\n",
      "Epoch 14/20\n",
      "30/30 [==============================] - 1s 30ms/step - loss: 0.0246 - acc: 0.9953 - val_loss: 0.5018 - val_acc: 0.8703\n",
      "Epoch 15/20\n",
      "30/30 [==============================] - 1s 31ms/step - loss: 0.0200 - acc: 0.9966 - val_loss: 0.5407 - val_acc: 0.8692\n",
      "Epoch 16/20\n",
      "30/30 [==============================] - 1s 33ms/step - loss: 0.0151 - acc: 0.9979 - val_loss: 0.5790 - val_acc: 0.8696\n",
      "Epoch 17/20\n",
      "30/30 [==============================] - 1s 33ms/step - loss: 0.0114 - acc: 0.9988 - val_loss: 0.6519 - val_acc: 0.8574\n",
      "Epoch 18/20\n",
      "30/30 [==============================] - 1s 31ms/step - loss: 0.0094 - acc: 0.9988 - val_loss: 0.6495 - val_acc: 0.8663\n",
      "Epoch 19/20\n",
      "30/30 [==============================] - 1s 27ms/step - loss: 0.0093 - acc: 0.9983 - val_loss: 0.6931 - val_acc: 0.8660\n",
      "Epoch 20/20\n",
      "30/30 [==============================] - 1s 33ms/step - loss: 0.0039 - acc: 0.9998 - val_loss: 0.7170 - val_acc: 0.8655\n"
     ]
    }
   ],
   "source": [
    "history = model.fit(partial_x_train, partial_y_train, epochs=20, batch_size=512, validation_data=(x_val, y_val))"
   ]
  },
  {
   "cell_type": "code",
   "execution_count": 17,
   "metadata": {},
   "outputs": [],
   "source": [
    "import matplotlib.pyplot as plt\n",
    "\n",
    "loss_values = history.history['loss']\n",
    "\n",
    "val_loss_values = history.history['val_loss']\n",
    "\n",
    "epochs = range(1, len(history.history['acc']) + 1)"
   ]
  },
  {
   "cell_type": "code",
   "execution_count": 18,
   "metadata": {},
   "outputs": [
    {
     "data": {
      "image/png": "[encoded data removed]",
      "text/plain": [
       "<Figure size 432x288 with 1 Axes>"
      ]
     },
     "metadata": {
      "needs_background": "light"
     },
     "output_type": "display_data"
    }
   ],
   "source": [
    "plt.plot(epochs, loss_values, 'bo', label='Training loss')\n",
    "\n",
    "plt.plot(epochs, val_loss_values, 'b', label='Validation loss')\n",
    "\n",
    "plt.title('Training and Validation loss')\n",
    "\n",
    "plt.xlabel('Epochs')\n",
    "\n",
    "plt.ylabel('Loss')\n",
    "\n",
    "plt.legend()\n",
    "\n",
    "plt.show()"
   ]
  },
  {
   "cell_type": "code",
   "execution_count": 19,
   "metadata": {},
   "outputs": [
    {
     "data": {
      "image/png": "[encoded data removed]",
      "text/plain": [
       "<Figure size 432x288 with 1 Axes>"
      ]
     },
     "metadata": {
      "needs_background": "light"
     },
     "output_type": "display_data"
    }
   ],
   "source": [
    "acc_values = history.history['acc']\n",
    "val_acc_values = history.history['val_acc']\n",
    "plt.plot(epochs, history.history['acc'], 'bo', label='Training acc')\n",
    "plt.plot(epochs, history.history['val_acc'], 'b', label='Validation acc')\n",
    "plt.title('Training and validation accuracy')\n",
    "plt.xlabel('Epochs')\n",
    "plt.ylabel('Loss')\n",
    "plt.legend()\n",
    "plt.show()"
   ]
  },
  {
   "cell_type": "code",
   "execution_count": 20,
   "metadata": {},
   "outputs": [
    {
     "name": "stdout",
     "output_type": "stream",
     "text": [
      "Epoch 1/4\n",
      "49/49 [==============================] - 1s 24ms/step - loss: 0.4505 - accuracy: 0.8270\n",
      "Epoch 2/4\n",
      "49/49 [==============================] - 1s 22ms/step - loss: 0.2575 - accuracy: 0.9104\n",
      "Epoch 3/4\n",
      "49/49 [==============================] - 1s 25ms/step - loss: 0.2000 - accuracy: 0.9289\n",
      "Epoch 4/4\n",
      "49/49 [==============================] - 1s 21ms/step - loss: 0.1666 - accuracy: 0.9425\n",
      "782/782 [==============================] - 2s 3ms/step - loss: 0.2919 - accuracy: 0.8845\n"
     ]
    }
   ],
   "source": [
    "model = models.Sequential()\n",
    "model.add(layers.Dense(16, activation='relu', input_shape=(10000,)))\n",
    "model.add(layers.Dense(16, activation='relu'))\n",
    "model.add(layers.Dense(1, activation='sigmoid'))\n",
    "model.compile(optimizer='rmsprop',\n",
    "loss='binary_crossentropy',\n",
    "metrics=['accuracy'])\n",
    "model.fit(x_train, y_train, epochs=4, batch_size=512)\n",
    "results = model.evaluate(x_test, y_test)"
   ]
  },
  {
   "cell_type": "code",
   "execution_count": 21,
   "metadata": {},
   "outputs": [
    {
     "data": {
      "text/plain": [
       "array([[0.22297263],\n",
       "       [0.9998121 ],\n",
       "       [0.89501476],\n",
       "       ...,\n",
       "       [0.16329336],\n",
       "       [0.06110927],\n",
       "       [0.59175295]], dtype=float32)"
      ]
     },
     "execution_count": 21,
     "metadata": {},
     "output_type": "execute_result"
    }
   ],
   "source": [
    "model.predict(x_test)"
   ]
  },
  {
   "cell_type": "code",
   "execution_count": 22,
   "metadata": {},
   "outputs": [],
   "source": [
    "from keras.datasets import reuters\n",
    "(train_data, train_labels), (test_data, test_labels) = reuters.load_data(\n",
    "num_words=10000)"
   ]
  },
  {
   "cell_type": "code",
   "execution_count": 23,
   "metadata": {},
   "outputs": [],
   "source": [
    "x_train = vectorize_seq(train_data)\n",
    "x_test = vectorize_seq(test_data)"
   ]
  },
  {
   "cell_type": "code",
   "execution_count": 24,
   "metadata": {},
   "outputs": [],
   "source": [
    "def to_one_hot(labels, dimension=46):\n",
    "    results = np.zeros((len(labels), dimension))\n",
    "    for i, label in enumerate(labels):\n",
    "        results[i, label] = 1.\n",
    "    return results\n",
    "one_hot_train_labels = to_one_hot(train_labels)\n",
    "one_hot_test_labels = to_one_hot(test_labels)"
   ]
  },
  {
   "cell_type": "code",
   "execution_count": 25,
   "metadata": {},
   "outputs": [],
   "source": [
    "# Built-in method\n",
    "\n",
    "# from keras.utils.np_utils import to_categorical\n",
    "# one_hot_train_labels = to_categorical(train_labels)\n",
    "# one_hot_test_labels = to_categorical(test_labels)"
   ]
  },
  {
   "cell_type": "code",
   "execution_count": 26,
   "metadata": {},
   "outputs": [],
   "source": [
    "model = models.Sequential()\n",
    "model.add(layers.Dense(64, activation='relu', input_shape=(10000,)))\n",
    "model.add(layers.Dense(64, activation='relu'))\n",
    "model.add(layers.Dense(46, activation='softmax'))"
   ]
  },
  {
   "cell_type": "code",
   "execution_count": 27,
   "metadata": {},
   "outputs": [],
   "source": [
    "model.compile(optimizer='rmsprop', loss='categorical_crossentropy', metrics=['accuracy'])"
   ]
  },
  {
   "cell_type": "code",
   "execution_count": 28,
   "metadata": {},
   "outputs": [],
   "source": [
    "x_val = x_train[:1000]\n",
    "partial_x_train = x_train[1000:]\n",
    "y_val = one_hot_train_labels[:1000]\n",
    "partial_y_train = one_hot_train_labels[1000:]"
   ]
  },
  {
   "cell_type": "code",
   "execution_count": 29,
   "metadata": {
    "scrolled": true
   },
   "outputs": [
    {
     "name": "stdout",
     "output_type": "stream",
     "text": [
      "Epoch 1/20\n",
      "16/16 [==============================] - 1s 50ms/step - loss: 2.5707 - accuracy: 0.5361 - val_loss: 1.7534 - val_accuracy: 0.6430\n",
      "Epoch 2/20\n",
      "16/16 [==============================] - 1s 39ms/step - loss: 1.4358 - accuracy: 0.7115 - val_loss: 1.3262 - val_accuracy: 0.7120\n",
      "Epoch 3/20\n",
      "16/16 [==============================] - 1s 40ms/step - loss: 1.0641 - accuracy: 0.7761 - val_loss: 1.1415 - val_accuracy: 0.7560\n",
      "Epoch 4/20\n",
      "16/16 [==============================] - 1s 39ms/step - loss: 0.8413 - accuracy: 0.8225 - val_loss: 1.0483 - val_accuracy: 0.7820\n",
      "Epoch 5/20\n",
      "16/16 [==============================] - 1s 39ms/step - loss: 0.6712 - accuracy: 0.8608 - val_loss: 0.9737 - val_accuracy: 0.7930\n",
      "Epoch 6/20\n",
      "16/16 [==============================] - 1s 42ms/step - loss: 0.5373 - accuracy: 0.8877 - val_loss: 0.9391 - val_accuracy: 0.8060\n",
      "Epoch 7/20\n",
      "16/16 [==============================] - 1s 50ms/step - loss: 0.4341 - accuracy: 0.9113 - val_loss: 0.8982 - val_accuracy: 0.8170\n",
      "Epoch 8/20\n",
      "16/16 [==============================] - 1s 43ms/step - loss: 0.3481 - accuracy: 0.9290 - val_loss: 0.9222 - val_accuracy: 0.7980\n",
      "Epoch 9/20\n",
      "16/16 [==============================] - 1s 43ms/step - loss: 0.2880 - accuracy: 0.9385 - val_loss: 0.9115 - val_accuracy: 0.8140\n",
      "Epoch 10/20\n",
      "16/16 [==============================] - 1s 40ms/step - loss: 0.2414 - accuracy: 0.9463 - val_loss: 0.9176 - val_accuracy: 0.8110\n",
      "Epoch 11/20\n",
      "16/16 [==============================] - 1s 51ms/step - loss: 0.2084 - accuracy: 0.9481 - val_loss: 0.9876 - val_accuracy: 0.8000\n",
      "Epoch 12/20\n",
      "16/16 [==============================] - 1s 50ms/step - loss: 0.1841 - accuracy: 0.9513 - val_loss: 1.0015 - val_accuracy: 0.8020\n",
      "Epoch 13/20\n",
      "16/16 [==============================] - 1s 48ms/step - loss: 0.1642 - accuracy: 0.9538 - val_loss: 0.9784 - val_accuracy: 0.8100\n",
      "Epoch 14/20\n",
      "16/16 [==============================] - 1s 50ms/step - loss: 0.1516 - accuracy: 0.9539 - val_loss: 1.0261 - val_accuracy: 0.7940\n",
      "Epoch 15/20\n",
      "16/16 [==============================] - 1s 47ms/step - loss: 0.1410 - accuracy: 0.9554 - val_loss: 0.9973 - val_accuracy: 0.8120\n",
      "Epoch 16/20\n",
      "16/16 [==============================] - 1s 46ms/step - loss: 0.1304 - accuracy: 0.9565 - val_loss: 1.0249 - val_accuracy: 0.8030\n",
      "Epoch 17/20\n",
      "16/16 [==============================] - 1s 41ms/step - loss: 0.1232 - accuracy: 0.9553 - val_loss: 1.0599 - val_accuracy: 0.8050\n",
      "Epoch 18/20\n",
      "16/16 [==============================] - 1s 40ms/step - loss: 0.1225 - accuracy: 0.9565 - val_loss: 1.0407 - val_accuracy: 0.8100\n",
      "Epoch 19/20\n",
      "16/16 [==============================] - 1s 41ms/step - loss: 0.1168 - accuracy: 0.9567 - val_loss: 1.0439 - val_accuracy: 0.8100\n",
      "Epoch 20/20\n",
      "16/16 [==============================] - 1s 37ms/step - loss: 0.1088 - accuracy: 0.9602 - val_loss: 1.0716 - val_accuracy: 0.8040\n"
     ]
    }
   ],
   "source": [
    "history = model.fit(partial_x_train, partial_y_train, epochs=20, batch_size=512, validation_data=(x_val, y_val))"
   ]
  },
  {
   "cell_type": "code",
   "execution_count": 30,
   "metadata": {},
   "outputs": [
    {
     "data": {
      "image/png": "[encoded data removed]",
      "text/plain": [
       "<Figure size 432x288 with 1 Axes>"
      ]
     },
     "metadata": {
      "needs_background": "light"
     },
     "output_type": "display_data"
    }
   ],
   "source": [
    "loss = history.history['loss']\n",
    "val_loss = history.history['val_loss']\n",
    "epochs = range(1, len(loss) + 1)\n",
    "plt.plot(epochs, loss, 'bo', label='Training loss')\n",
    "plt.plot(epochs, val_loss, 'b', label='Validation loss')\n",
    "plt.title('Training and validation loss')\n",
    "plt.xlabel('Epochs')\n",
    "plt.ylabel('Loss')\n",
    "plt.legend()\n",
    "plt.show()"
   ]
  },
  {
   "cell_type": "code",
   "execution_count": 31,
   "metadata": {},
   "outputs": [
    {
     "data": {
      "image/png": "[encoded data removed]",
      "text/plain": [
       "<Figure size 432x288 with 1 Axes>"
      ]
     },
     "metadata": {
      "needs_background": "light"
     },
     "output_type": "display_data"
    }
   ],
   "source": [
    "acc = history.history['accuracy']\n",
    "val_acc = history.history['val_accuracy']\n",
    "plt.plot(epochs, acc, 'bo', label='Training accuracy')\n",
    "plt.plot(epochs, val_acc, 'b', label='Validation accuracy')\n",
    "plt.title('Training and validation accuracy')\n",
    "plt.xlabel('Epochs')\n",
    "plt.ylabel('Loss')\n",
    "plt.legend()\n",
    "plt.show()"
   ]
  },
  {
   "cell_type": "code",
   "execution_count": 32,
   "metadata": {
    "scrolled": true
   },
   "outputs": [
    {
     "name": "stdout",
     "output_type": "stream",
     "text": [
      "Epoch 1/9\n",
      "16/16 [==============================] - 1s 62ms/step - loss: 2.6220 - accuracy: 0.5462 - val_loss: 1.7530 - val_accuracy: 0.6430\n",
      "Epoch 2/9\n",
      "16/16 [==============================] - 1s 40ms/step - loss: 1.4428 - accuracy: 0.7030 - val_loss: 1.3404 - val_accuracy: 0.7050\n",
      "Epoch 3/9\n",
      "16/16 [==============================] - 1s 40ms/step - loss: 1.0756 - accuracy: 0.7705 - val_loss: 1.1499 - val_accuracy: 0.7500\n",
      "Epoch 4/9\n",
      "16/16 [==============================] - 1s 40ms/step - loss: 0.8475 - accuracy: 0.8136 - val_loss: 1.0469 - val_accuracy: 0.7750\n",
      "Epoch 5/9\n",
      "16/16 [==============================] - 1s 39ms/step - loss: 0.6770 - accuracy: 0.8621 - val_loss: 1.0175 - val_accuracy: 0.7860\n",
      "Epoch 6/9\n",
      "16/16 [==============================] - 1s 42ms/step - loss: 0.5428 - accuracy: 0.8903 - val_loss: 0.9440 - val_accuracy: 0.8050\n",
      "Epoch 7/9\n",
      "16/16 [==============================] - 1s 39ms/step - loss: 0.4327 - accuracy: 0.9129 - val_loss: 0.9162 - val_accuracy: 0.8090\n",
      "Epoch 8/9\n",
      "16/16 [==============================] - 1s 39ms/step - loss: 0.3508 - accuracy: 0.9286 - val_loss: 0.9336 - val_accuracy: 0.8140\n",
      "Epoch 9/9\n",
      "16/16 [==============================] - 1s 49ms/step - loss: 0.2915 - accuracy: 0.9385 - val_loss: 0.9432 - val_accuracy: 0.8080\n",
      "71/71 [==============================] - 0s 3ms/step - loss: 1.0177 - accuracy: 0.7827\n"
     ]
    }
   ],
   "source": [
    "model = models.Sequential()\n",
    "model.add(layers.Dense(64, activation='relu', input_shape=(10000,)))\n",
    "model.add(layers.Dense(64, activation='relu'))\n",
    "model.add(layers.Dense(46, activation='softmax'))\n",
    "model.compile(optimizer='rmsprop', loss='categorical_crossentropy', metrics=['accuracy'])\n",
    "\n",
    "model.fit(partial_x_train, partial_y_train, epochs=9, batch_size=512, validation_data=(x_val, y_val))\n",
    "\n",
    "results = model.evaluate(x_test, one_hot_test_labels)"
   ]
  },
  {
   "cell_type": "code",
   "execution_count": 33,
   "metadata": {},
   "outputs": [
    {
     "data": {
      "text/plain": [
       "[1.0177124738693237, 0.7827248573303223]"
      ]
     },
     "execution_count": 33,
     "metadata": {},
     "output_type": "execute_result"
    }
   ],
   "source": [
    "results"
   ]
  },
  {
   "cell_type": "code",
   "execution_count": 34,
   "metadata": {},
   "outputs": [
    {
     "data": {
      "text/plain": [
       "0.18388245770258238"
      ]
     },
     "execution_count": 34,
     "metadata": {},
     "output_type": "execute_result"
    }
   ],
   "source": [
    "import copy\n",
    "test_labels_copy = copy.copy(test_labels)\n",
    "np.random.shuffle(test_labels_copy)\n",
    "hits_array = np.array(test_labels) == np.array(test_labels_copy)\n",
    "float(np.sum(hits_array)) / len(test_labels)"
   ]
  },
  {
   "cell_type": "code",
   "execution_count": 35,
   "metadata": {},
   "outputs": [
    {
     "data": {
      "text/plain": [
       "(46,)"
      ]
     },
     "execution_count": 35,
     "metadata": {},
     "output_type": "execute_result"
    }
   ],
   "source": [
    "predictions = model.predict(x_test)\n",
    "predictions[0].shape"
   ]
  },
  {
   "cell_type": "code",
   "execution_count": 36,
   "metadata": {},
   "outputs": [
    {
     "data": {
      "text/plain": [
       "0.9999999"
      ]
     },
     "execution_count": 36,
     "metadata": {},
     "output_type": "execute_result"
    }
   ],
   "source": [
    "np.sum(predictions[0])"
   ]
  },
  {
   "cell_type": "code",
   "execution_count": 37,
   "metadata": {},
   "outputs": [
    {
     "data": {
      "text/plain": [
       "3"
      ]
     },
     "execution_count": 37,
     "metadata": {},
     "output_type": "execute_result"
    }
   ],
   "source": [
    "np.argmax(predictions[0])"
   ]
  },
  {
   "cell_type": "code",
   "execution_count": 38,
   "metadata": {},
   "outputs": [],
   "source": [
    "y_train = np.array(train_labels)\n",
    "y_test = np.array(test_labels)"
   ]
  },
  {
   "cell_type": "code",
   "execution_count": 39,
   "metadata": {},
   "outputs": [],
   "source": [
    "model.compile(optimizer='rmsprop', loss='sparse_categorical_crossentropy', metrics=['acc'])"
   ]
  },
  {
   "cell_type": "code",
   "execution_count": 40,
   "metadata": {
    "scrolled": true
   },
   "outputs": [
    {
     "name": "stdout",
     "output_type": "stream",
     "text": [
      "Epoch 1/20\n",
      "63/63 [==============================] - 2s 25ms/step - loss: 3.3735 - accuracy: 0.3682 - val_loss: 3.0454 - val_accuracy: 0.3080\n",
      "Epoch 2/20\n",
      "63/63 [==============================] - 2s 25ms/step - loss: 2.7977 - accuracy: 0.2553 - val_loss: 2.6794 - val_accuracy: 0.2570\n",
      "Epoch 3/20\n",
      "63/63 [==============================] - 1s 21ms/step - loss: 2.4280 - accuracy: 0.2577 - val_loss: 2.3655 - val_accuracy: 0.2600\n",
      "Epoch 4/20\n",
      "63/63 [==============================] - 1s 23ms/step - loss: 2.0165 - accuracy: 0.3017 - val_loss: 1.9361 - val_accuracy: 0.2990\n",
      "Epoch 5/20\n",
      "63/63 [==============================] - 1s 19ms/step - loss: 1.6580 - accuracy: 0.4831 - val_loss: 1.7603 - val_accuracy: 0.5480\n",
      "Epoch 6/20\n",
      "63/63 [==============================] - 1s 19ms/step - loss: 1.4817 - accuracy: 0.6081 - val_loss: 1.6641 - val_accuracy: 0.6000\n",
      "Epoch 7/20\n",
      "63/63 [==============================] - 1s 21ms/step - loss: 1.3503 - accuracy: 0.6329 - val_loss: 1.6601 - val_accuracy: 0.5960\n",
      "Epoch 8/20\n",
      "63/63 [==============================] - 1s 20ms/step - loss: 1.2764 - accuracy: 0.6448 - val_loss: 1.6424 - val_accuracy: 0.6170\n",
      "Epoch 9/20\n",
      "63/63 [==============================] - 1s 22ms/step - loss: 1.2272 - accuracy: 0.6538 - val_loss: 1.7148 - val_accuracy: 0.6190\n",
      "Epoch 10/20\n",
      "63/63 [==============================] - 1s 20ms/step - loss: 1.1884 - accuracy: 0.6614 - val_loss: 1.6823 - val_accuracy: 0.6220\n",
      "Epoch 11/20\n",
      "63/63 [==============================] - 1s 20ms/step - loss: 1.1561 - accuracy: 0.6705 - val_loss: 1.7044 - val_accuracy: 0.6210\n",
      "Epoch 12/20\n",
      "63/63 [==============================] - 1s 22ms/step - loss: 1.1289 - accuracy: 0.6713 - val_loss: 1.7475 - val_accuracy: 0.6330\n",
      "Epoch 13/20\n",
      "63/63 [==============================] - 2s 26ms/step - loss: 1.1065 - accuracy: 0.6828 - val_loss: 1.8571 - val_accuracy: 0.6200\n",
      "Epoch 14/20\n",
      "63/63 [==============================] - 1s 23ms/step - loss: 1.0849 - accuracy: 0.6884 - val_loss: 1.8344 - val_accuracy: 0.6330\n",
      "Epoch 15/20\n",
      "63/63 [==============================] - 1s 20ms/step - loss: 1.0667 - accuracy: 0.6944 - val_loss: 1.9230 - val_accuracy: 0.6190\n",
      "Epoch 16/20\n",
      "63/63 [==============================] - 1s 24ms/step - loss: 1.0465 - accuracy: 0.6989 - val_loss: 1.9175 - val_accuracy: 0.6320\n",
      "Epoch 17/20\n",
      "63/63 [==============================] - 1s 21ms/step - loss: 1.0292 - accuracy: 0.7041 - val_loss: 1.9861 - val_accuracy: 0.6290\n",
      "Epoch 18/20\n",
      "63/63 [==============================] - 1s 22ms/step - loss: 1.0155 - accuracy: 0.7139 - val_loss: 2.1129 - val_accuracy: 0.6220\n",
      "Epoch 19/20\n",
      "63/63 [==============================] - 1s 23ms/step - loss: 1.0038 - accuracy: 0.7226 - val_loss: 2.0722 - val_accuracy: 0.6340\n",
      "Epoch 20/20\n",
      "63/63 [==============================] - 1s 22ms/step - loss: 0.9896 - accuracy: 0.7248 - val_loss: 2.1665 - val_accuracy: 0.6190\n"
     ]
    },
    {
     "data": {
      "text/plain": [
       "<tensorflow.python.keras.callbacks.History at 0x1bd2122b790>"
      ]
     },
     "execution_count": 40,
     "metadata": {},
     "output_type": "execute_result"
    }
   ],
   "source": [
    "model = models.Sequential()\n",
    "\n",
    "model.add(layers.Dense(64, activation='relu', input_shape=(10000,)))\n",
    "\n",
    "model.add(layers.Dense(4, activation='relu'))\n",
    "\n",
    "model.add(layers.Dense(46, activation='softmax'))\n",
    "\n",
    "model.compile(optimizer='rmsprop', loss='categorical_crossentropy', metrics=['accuracy'])\n",
    "\n",
    "model.fit(partial_x_train, partial_y_train, epochs=20, batch_size=128, validation_data=(x_val, y_val))"
   ]
  },
  {
   "cell_type": "markdown",
   "metadata": {},
   "source": [
    "### Boston Housing"
   ]
  },
  {
   "cell_type": "code",
   "execution_count": 1,
   "metadata": {},
   "outputs": [],
   "source": [
    "from keras.datasets import boston_housing\n",
    "(train_data, train_targets), (test_data, test_targets) = boston_housing.load_data()"
   ]
  },
  {
   "cell_type": "code",
   "execution_count": 2,
   "metadata": {},
   "outputs": [
    {
     "data": {
      "text/plain": [
       "(404, 13)"
      ]
     },
     "execution_count": 2,
     "metadata": {},
     "output_type": "execute_result"
    }
   ],
   "source": [
    "train_data.shape"
   ]
  },
  {
   "cell_type": "code",
   "execution_count": 3,
   "metadata": {},
   "outputs": [
    {
     "data": {
      "text/plain": [
       "(102, 13)"
      ]
     },
     "execution_count": 3,
     "metadata": {},
     "output_type": "execute_result"
    }
   ],
   "source": [
    "test_data.shape"
   ]
  },
  {
   "cell_type": "code",
   "execution_count": 4,
   "metadata": {},
   "outputs": [],
   "source": [
    "mean = train_data.mean(axis=0)\n",
    "train_data -= mean\n",
    "std = train_data.std(axis=0)\n",
    "train_data /= std\n",
    "test_data -= mean\n",
    "test_data /= std"
   ]
  },
  {
   "cell_type": "code",
   "execution_count": 5,
   "metadata": {},
   "outputs": [],
   "source": [
    "from keras import models\n",
    "from keras import layers\n",
    "def build_model():\n",
    "    model = models.Sequential()\n",
    "    model.add(layers.Dense(64, activation='relu',\n",
    "    input_shape=(train_data.shape[1],)))\n",
    "    model.add(layers.Dense(64, activation='relu'))\n",
    "    model.add(layers.Dense(1))\n",
    "    model.compile(optimizer='rmsprop', loss='mse', metrics=['mae'])\n",
    "    return model\n",
    "\n",
    "import numpy as np\n",
    "k = 4\n",
    "num_val_samples = len(train_data) // k\n",
    "num_epochs = 100\n",
    "all_scores = []"
   ]
  },
  {
   "cell_type": "code",
   "execution_count": 6,
   "metadata": {},
   "outputs": [
    {
     "name": "stdout",
     "output_type": "stream",
     "text": [
      "processing fold # 0\n",
      "processing fold # 1\n",
      "processing fold # 2\n",
      "processing fold # 3\n"
     ]
    }
   ],
   "source": [
    "for i in range(k):\n",
    "    print('processing fold #', i)\n",
    "    val_data = train_data[i * num_val_samples: (i + 1) * num_val_samples]\n",
    "    val_targets = train_targets[i * num_val_samples: (i + 1) * num_val_samples]\n",
    "    partial_train_data = np.concatenate(\n",
    "    [train_data[:i * num_val_samples],\n",
    "    train_data[(i + 1) * num_val_samples:]],\n",
    "    axis=0)\n",
    "    partial_train_targets = np.concatenate(\n",
    "    [train_targets[:i * num_val_samples],\n",
    "    train_targets[(i + 1) * num_val_samples:]],\n",
    "    axis=0)\n",
    "    model = build_model()\n",
    "    model.fit(partial_train_data, partial_train_targets,\n",
    "    epochs=num_epochs, batch_size=1, verbose=0)\n",
    "    val_mse, val_mae = model.evaluate(val_data, val_targets, verbose=0)\n",
    "    all_scores.append(val_mae)"
   ]
  },
  {
   "cell_type": "code",
   "execution_count": 7,
   "metadata": {},
   "outputs": [
    {
     "data": {
      "text/plain": [
       "[2.0404868125915527,\n",
       " 3.5406203269958496,\n",
       " 2.9049293994903564,\n",
       " 2.6306536197662354]"
      ]
     },
     "execution_count": 7,
     "metadata": {},
     "output_type": "execute_result"
    }
   ],
   "source": [
    "all_scores"
   ]
  },
  {
   "cell_type": "code",
   "execution_count": 8,
   "metadata": {},
   "outputs": [
    {
     "data": {
      "text/plain": [
       "2.7791725397109985"
      ]
     },
     "execution_count": 8,
     "metadata": {},
     "output_type": "execute_result"
    }
   ],
   "source": [
    "np.mean(all_scores)"
   ]
  },
  {
   "cell_type": "code",
   "execution_count": 12,
   "metadata": {},
   "outputs": [
    {
     "name": "stdout",
     "output_type": "stream",
     "text": [
      "processing fold # 0\n",
      "processing fold # 1\n",
      "processing fold # 2\n",
      "processing fold # 3\n"
     ]
    }
   ],
   "source": [
    "num_epochs = 500\n",
    "all_mae_histories = []\n",
    "for i in range(k):\n",
    "    print('processing fold #', i)\n",
    "    val_data = train_data[i * num_val_samples: (i + 1) * num_val_samples]\n",
    "    val_targets = train_targets[i * num_val_samples: (i + 1) * num_val_samples]\n",
    "    partial_train_data = np.concatenate([train_data[:i * num_val_samples], train_data[(i + 1) * num_val_samples:]], axis=0)\n",
    "    \n",
    "    partial_train_targets = np.concatenate([train_targets[:i * num_val_samples],train_targets[(i + 1) * num_val_samples:]],\n",
    "                            axis=0)\n",
    "    model = build_model()\n",
    "    history = model.fit(partial_train_data, partial_train_targets,\n",
    "    validation_data=(val_data, val_targets),\n",
    "    epochs=num_epochs, batch_size=1, verbose=0)\n",
    "    mae_history = history.history['mae']\n",
    "    all_mae_histories.append(mae_history)"
   ]
  },
  {
   "cell_type": "code",
   "execution_count": 13,
   "metadata": {},
   "outputs": [],
   "source": [
    "average_mae_history = [np.mean([x[i] for x in all_mae_histories]) for i in range(num_epochs)]"
   ]
  },
  {
   "cell_type": "code",
   "execution_count": 14,
   "metadata": {},
   "outputs": [
    {
     "data": {
      "image/png": "[encoded data removed]",
      "text/plain": [
       "<Figure size 432x288 with 1 Axes>"
      ]
     },
     "metadata": {
      "needs_background": "light"
     },
     "output_type": "display_data"
    }
   ],
   "source": [
    "import matplotlib.pyplot as plt\n",
    "plt.plot(range(1, len(average_mae_history) + 1), average_mae_history)\n",
    "plt.xlabel('Epochs')\n",
    "plt.ylabel('Validation MAE')\n",
    "plt.show()"
   ]
  },
  {
   "cell_type": "code",
   "execution_count": 15,
   "metadata": {},
   "outputs": [
    {
     "data": {
      "image/png": "[encoded data removed]",
      "text/plain": [
       "<Figure size 432x288 with 1 Axes>"
      ]
     },
     "metadata": {
      "needs_background": "light"
     },
     "output_type": "display_data"
    }
   ],
   "source": [
    "def smooth_curve(points, factor=0.9):\n",
    "    smoothed_points = []\n",
    "    for point in points:\n",
    "        if smoothed_points:\n",
    "            previous = smoothed_points[-1]\n",
    "            smoothed_points.append(previous * factor + point * (1 - factor))\n",
    "        else:\n",
    "            smoothed_points.append(point)\n",
    "    return smoothed_points\n",
    "smooth_mae_history = smooth_curve(average_mae_history[10:])\n",
    "plt.plot(range(1, len(smooth_mae_history) + 1), smooth_mae_history)\n",
    "plt.xlabel('Epochs')\n",
    "plt.ylabel('Validation MAE')\n",
    "plt.show()"
   ]
  },
  {
   "cell_type": "code",
   "execution_count": 16,
   "metadata": {},
   "outputs": [
    {
     "name": "stdout",
     "output_type": "stream",
     "text": [
      "4/4 [==============================] - 0s 998us/step - loss: 16.8076 - mae: 2.6891\n"
     ]
    }
   ],
   "source": [
    "model = build_model()\n",
    "model.fit(train_data, train_targets,\n",
    "epochs=80, batch_size=16, verbose=0)\n",
    "test_mse_score, test_mae_score = model.evaluate(test_data, test_targets)"
   ]
  },
  {
   "cell_type": "code",
   "execution_count": 17,
   "metadata": {},
   "outputs": [
    {
     "data": {
      "text/plain": [
       "2.689145565032959"
      ]
     },
     "execution_count": 17,
     "metadata": {},
     "output_type": "execute_result"
    }
   ],
   "source": [
    "test_mae_score"
   ]
  },
  {
   "cell_type": "code",
   "execution_count": null,
   "metadata": {},
   "outputs": [],
   "source": []
  }
 ],
 "metadata": {
  "kernelspec": {
   "display_name": "Python 3",
   "language": "python",
   "name": "python3"
  },
  "language_info": {
   "codemirror_mode": {
    "name": "ipython",
    "version": 3
   },
   "file_extension": ".py",
   "mimetype": "text/x-python",
   "name": "python",
   "nbconvert_exporter": "python",
   "pygments_lexer": "ipython3",
   "version": "3.8.3"
  }
 },
 "nbformat": 4,
 "nbformat_minor": 4
}
