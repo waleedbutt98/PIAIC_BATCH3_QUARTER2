{
 "cells": [
  {
   "cell_type": "code",
   "execution_count": 1,
   "metadata": {},
   "outputs": [],
   "source": [
    "import numpy as np\n",
    "import pandas as pd"
   ]
  },
  {
   "cell_type": "code",
   "execution_count": 2,
   "metadata": {},
   "outputs": [
    {
     "data": {
      "text/html": [
       "<div>\n",
       "<style scoped>\n",
       "    .dataframe tbody tr th:only-of-type {\n",
       "        vertical-align: middle;\n",
       "    }\n",
       "\n",
       "    .dataframe tbody tr th {\n",
       "        vertical-align: top;\n",
       "    }\n",
       "\n",
       "    .dataframe thead th {\n",
       "        text-align: right;\n",
       "    }\n",
       "</style>\n",
       "<table border=\"1\" class=\"dataframe\">\n",
       "  <thead>\n",
       "    <tr style=\"text-align: right;\">\n",
       "      <th></th>\n",
       "      <th>s1</th>\n",
       "      <th>s2</th>\n",
       "      <th>s3</th>\n",
       "      <th>s4</th>\n",
       "      <th>s5</th>\n",
       "    </tr>\n",
       "  </thead>\n",
       "  <tbody>\n",
       "    <tr>\n",
       "      <th>0</th>\n",
       "      <td>19</td>\n",
       "      <td>10</td>\n",
       "      <td>15</td>\n",
       "      <td>3</td>\n",
       "      <td>8</td>\n",
       "    </tr>\n",
       "    <tr>\n",
       "      <th>1</th>\n",
       "      <td>20</td>\n",
       "      <td>5</td>\n",
       "      <td>28</td>\n",
       "      <td>26</td>\n",
       "      <td>15</td>\n",
       "    </tr>\n",
       "    <tr>\n",
       "      <th>2</th>\n",
       "      <td>4</td>\n",
       "      <td>12</td>\n",
       "      <td>30</td>\n",
       "      <td>11</td>\n",
       "      <td>3</td>\n",
       "    </tr>\n",
       "    <tr>\n",
       "      <th>3</th>\n",
       "      <td>29</td>\n",
       "      <td>6</td>\n",
       "      <td>9</td>\n",
       "      <td>29</td>\n",
       "      <td>14</td>\n",
       "    </tr>\n",
       "    <tr>\n",
       "      <th>4</th>\n",
       "      <td>27</td>\n",
       "      <td>25</td>\n",
       "      <td>31</td>\n",
       "      <td>10</td>\n",
       "      <td>26</td>\n",
       "    </tr>\n",
       "  </tbody>\n",
       "</table>\n",
       "</div>"
      ],
      "text/plain": [
       "   s1  s2  s3  s4  s5\n",
       "0  19  10  15   3   8\n",
       "1  20   5  28  26  15\n",
       "2   4  12  30  11   3\n",
       "3  29   6   9  29  14\n",
       "4  27  25  31  10  26"
      ]
     },
     "execution_count": 2,
     "metadata": {},
     "output_type": "execute_result"
    }
   ],
   "source": [
    "df1 = pd.DataFrame(np.random.randint(1,33, size=(10000,5)), columns=['s1','s2','s3','s4','s5'])\n",
    "df2 = pd.DataFrame(np.random.randint(34,40, size=(10000,5)), columns=['s1','s2','s3','s4','s5'])\n",
    "df3 = pd.DataFrame(np.random.randint(41,50, size=(10000,5)), columns=['s1','s2','s3','s4','s5'])\n",
    "df4 = pd.DataFrame(np.random.randint(51,60, size=(10000,5)), columns=['s1','s2','s3','s4','s5'])\n",
    "df5 = pd.DataFrame(np.random.randint(61,70, size=(10000,5)), columns=['s1','s2','s3','s4','s5'])\n",
    "df6 = pd.DataFrame(np.random.randint(71,80, size=(10000,5)), columns=['s1','s2','s3','s4','s5'])\n",
    "df7 = pd.DataFrame(np.random.randint(81,100, size=(10000,5)), columns=['s1','s2','s3','s4','s5'])\n",
    "\n",
    "df = pd.concat([df1,df2,df3,df4,df5,df6,df7])\n",
    "\n",
    "df.head()\n"
   ]
  },
  {
   "cell_type": "code",
   "execution_count": 3,
   "metadata": {},
   "outputs": [],
   "source": [
    "df['obtained'] = df.loc[:,'s1':'s5'].apply(sum, axis=1)"
   ]
  },
  {
   "cell_type": "code",
   "execution_count": 4,
   "metadata": {},
   "outputs": [
    {
     "data": {
      "text/html": [
       "<div>\n",
       "<style scoped>\n",
       "    .dataframe tbody tr th:only-of-type {\n",
       "        vertical-align: middle;\n",
       "    }\n",
       "\n",
       "    .dataframe tbody tr th {\n",
       "        vertical-align: top;\n",
       "    }\n",
       "\n",
       "    .dataframe thead th {\n",
       "        text-align: right;\n",
       "    }\n",
       "</style>\n",
       "<table border=\"1\" class=\"dataframe\">\n",
       "  <thead>\n",
       "    <tr style=\"text-align: right;\">\n",
       "      <th></th>\n",
       "      <th>s1</th>\n",
       "      <th>s2</th>\n",
       "      <th>s3</th>\n",
       "      <th>s4</th>\n",
       "      <th>s5</th>\n",
       "      <th>obtained</th>\n",
       "    </tr>\n",
       "  </thead>\n",
       "  <tbody>\n",
       "    <tr>\n",
       "      <th>0</th>\n",
       "      <td>19</td>\n",
       "      <td>10</td>\n",
       "      <td>15</td>\n",
       "      <td>3</td>\n",
       "      <td>8</td>\n",
       "      <td>55</td>\n",
       "    </tr>\n",
       "    <tr>\n",
       "      <th>1</th>\n",
       "      <td>20</td>\n",
       "      <td>5</td>\n",
       "      <td>28</td>\n",
       "      <td>26</td>\n",
       "      <td>15</td>\n",
       "      <td>94</td>\n",
       "    </tr>\n",
       "    <tr>\n",
       "      <th>2</th>\n",
       "      <td>4</td>\n",
       "      <td>12</td>\n",
       "      <td>30</td>\n",
       "      <td>11</td>\n",
       "      <td>3</td>\n",
       "      <td>60</td>\n",
       "    </tr>\n",
       "    <tr>\n",
       "      <th>3</th>\n",
       "      <td>29</td>\n",
       "      <td>6</td>\n",
       "      <td>9</td>\n",
       "      <td>29</td>\n",
       "      <td>14</td>\n",
       "      <td>87</td>\n",
       "    </tr>\n",
       "    <tr>\n",
       "      <th>4</th>\n",
       "      <td>27</td>\n",
       "      <td>25</td>\n",
       "      <td>31</td>\n",
       "      <td>10</td>\n",
       "      <td>26</td>\n",
       "      <td>119</td>\n",
       "    </tr>\n",
       "  </tbody>\n",
       "</table>\n",
       "</div>"
      ],
      "text/plain": [
       "   s1  s2  s3  s4  s5  obtained\n",
       "0  19  10  15   3   8        55\n",
       "1  20   5  28  26  15        94\n",
       "2   4  12  30  11   3        60\n",
       "3  29   6   9  29  14        87\n",
       "4  27  25  31  10  26       119"
      ]
     },
     "execution_count": 4,
     "metadata": {},
     "output_type": "execute_result"
    }
   ],
   "source": [
    "df.head()"
   ]
  },
  {
   "cell_type": "code",
   "execution_count": 5,
   "metadata": {},
   "outputs": [
    {
     "data": {
      "text/html": [
       "<div>\n",
       "<style scoped>\n",
       "    .dataframe tbody tr th:only-of-type {\n",
       "        vertical-align: middle;\n",
       "    }\n",
       "\n",
       "    .dataframe tbody tr th {\n",
       "        vertical-align: top;\n",
       "    }\n",
       "\n",
       "    .dataframe thead th {\n",
       "        text-align: right;\n",
       "    }\n",
       "</style>\n",
       "<table border=\"1\" class=\"dataframe\">\n",
       "  <thead>\n",
       "    <tr style=\"text-align: right;\">\n",
       "      <th></th>\n",
       "      <th>s1</th>\n",
       "      <th>s2</th>\n",
       "      <th>s3</th>\n",
       "      <th>s4</th>\n",
       "      <th>s5</th>\n",
       "      <th>obtained</th>\n",
       "      <th>Total</th>\n",
       "    </tr>\n",
       "  </thead>\n",
       "  <tbody>\n",
       "    <tr>\n",
       "      <th>0</th>\n",
       "      <td>19</td>\n",
       "      <td>10</td>\n",
       "      <td>15</td>\n",
       "      <td>3</td>\n",
       "      <td>8</td>\n",
       "      <td>55</td>\n",
       "      <td>500</td>\n",
       "    </tr>\n",
       "    <tr>\n",
       "      <th>1</th>\n",
       "      <td>20</td>\n",
       "      <td>5</td>\n",
       "      <td>28</td>\n",
       "      <td>26</td>\n",
       "      <td>15</td>\n",
       "      <td>94</td>\n",
       "      <td>500</td>\n",
       "    </tr>\n",
       "    <tr>\n",
       "      <th>2</th>\n",
       "      <td>4</td>\n",
       "      <td>12</td>\n",
       "      <td>30</td>\n",
       "      <td>11</td>\n",
       "      <td>3</td>\n",
       "      <td>60</td>\n",
       "      <td>500</td>\n",
       "    </tr>\n",
       "    <tr>\n",
       "      <th>3</th>\n",
       "      <td>29</td>\n",
       "      <td>6</td>\n",
       "      <td>9</td>\n",
       "      <td>29</td>\n",
       "      <td>14</td>\n",
       "      <td>87</td>\n",
       "      <td>500</td>\n",
       "    </tr>\n",
       "    <tr>\n",
       "      <th>4</th>\n",
       "      <td>27</td>\n",
       "      <td>25</td>\n",
       "      <td>31</td>\n",
       "      <td>10</td>\n",
       "      <td>26</td>\n",
       "      <td>119</td>\n",
       "      <td>500</td>\n",
       "    </tr>\n",
       "  </tbody>\n",
       "</table>\n",
       "</div>"
      ],
      "text/plain": [
       "   s1  s2  s3  s4  s5  obtained  Total\n",
       "0  19  10  15   3   8        55    500\n",
       "1  20   5  28  26  15        94    500\n",
       "2   4  12  30  11   3        60    500\n",
       "3  29   6   9  29  14        87    500\n",
       "4  27  25  31  10  26       119    500"
      ]
     },
     "execution_count": 5,
     "metadata": {},
     "output_type": "execute_result"
    }
   ],
   "source": [
    "df['Total'] = 500\n",
    "df.head()"
   ]
  },
  {
   "cell_type": "code",
   "execution_count": 6,
   "metadata": {},
   "outputs": [
    {
     "data": {
      "text/html": [
       "<div>\n",
       "<style scoped>\n",
       "    .dataframe tbody tr th:only-of-type {\n",
       "        vertical-align: middle;\n",
       "    }\n",
       "\n",
       "    .dataframe tbody tr th {\n",
       "        vertical-align: top;\n",
       "    }\n",
       "\n",
       "    .dataframe thead th {\n",
       "        text-align: right;\n",
       "    }\n",
       "</style>\n",
       "<table border=\"1\" class=\"dataframe\">\n",
       "  <thead>\n",
       "    <tr style=\"text-align: right;\">\n",
       "      <th></th>\n",
       "      <th>s1</th>\n",
       "      <th>s2</th>\n",
       "      <th>s3</th>\n",
       "      <th>s4</th>\n",
       "      <th>s5</th>\n",
       "      <th>obtained</th>\n",
       "      <th>Total</th>\n",
       "      <th>percentage</th>\n",
       "    </tr>\n",
       "  </thead>\n",
       "  <tbody>\n",
       "    <tr>\n",
       "      <th>0</th>\n",
       "      <td>19</td>\n",
       "      <td>10</td>\n",
       "      <td>15</td>\n",
       "      <td>3</td>\n",
       "      <td>8</td>\n",
       "      <td>55</td>\n",
       "      <td>500</td>\n",
       "      <td>11.0</td>\n",
       "    </tr>\n",
       "    <tr>\n",
       "      <th>1</th>\n",
       "      <td>20</td>\n",
       "      <td>5</td>\n",
       "      <td>28</td>\n",
       "      <td>26</td>\n",
       "      <td>15</td>\n",
       "      <td>94</td>\n",
       "      <td>500</td>\n",
       "      <td>18.8</td>\n",
       "    </tr>\n",
       "    <tr>\n",
       "      <th>2</th>\n",
       "      <td>4</td>\n",
       "      <td>12</td>\n",
       "      <td>30</td>\n",
       "      <td>11</td>\n",
       "      <td>3</td>\n",
       "      <td>60</td>\n",
       "      <td>500</td>\n",
       "      <td>12.0</td>\n",
       "    </tr>\n",
       "    <tr>\n",
       "      <th>3</th>\n",
       "      <td>29</td>\n",
       "      <td>6</td>\n",
       "      <td>9</td>\n",
       "      <td>29</td>\n",
       "      <td>14</td>\n",
       "      <td>87</td>\n",
       "      <td>500</td>\n",
       "      <td>17.4</td>\n",
       "    </tr>\n",
       "    <tr>\n",
       "      <th>4</th>\n",
       "      <td>27</td>\n",
       "      <td>25</td>\n",
       "      <td>31</td>\n",
       "      <td>10</td>\n",
       "      <td>26</td>\n",
       "      <td>119</td>\n",
       "      <td>500</td>\n",
       "      <td>23.8</td>\n",
       "    </tr>\n",
       "  </tbody>\n",
       "</table>\n",
       "</div>"
      ],
      "text/plain": [
       "   s1  s2  s3  s4  s5  obtained  Total  percentage\n",
       "0  19  10  15   3   8        55    500        11.0\n",
       "1  20   5  28  26  15        94    500        18.8\n",
       "2   4  12  30  11   3        60    500        12.0\n",
       "3  29   6   9  29  14        87    500        17.4\n",
       "4  27  25  31  10  26       119    500        23.8"
      ]
     },
     "execution_count": 6,
     "metadata": {},
     "output_type": "execute_result"
    }
   ],
   "source": [
    "df['percentage'] = df.obtained / df.Total * 100\n",
    "df.head()"
   ]
  },
  {
   "cell_type": "markdown",
   "metadata": {},
   "source": [
    "# Get Grade with Symbolic AI, Classical Programming, Tranditional Programming, Rules Based programming\n",
    "- Rules Always defined by programmer"
   ]
  },
  {
   "cell_type": "code",
   "execution_count": 7,
   "metadata": {},
   "outputs": [
    {
     "data": {
      "text/html": [
       "<div>\n",
       "<style scoped>\n",
       "    .dataframe tbody tr th:only-of-type {\n",
       "        vertical-align: middle;\n",
       "    }\n",
       "\n",
       "    .dataframe tbody tr th {\n",
       "        vertical-align: top;\n",
       "    }\n",
       "\n",
       "    .dataframe thead th {\n",
       "        text-align: right;\n",
       "    }\n",
       "</style>\n",
       "<table border=\"1\" class=\"dataframe\">\n",
       "  <thead>\n",
       "    <tr style=\"text-align: right;\">\n",
       "      <th></th>\n",
       "      <th>s1</th>\n",
       "      <th>s2</th>\n",
       "      <th>s3</th>\n",
       "      <th>s4</th>\n",
       "      <th>s5</th>\n",
       "      <th>obtained</th>\n",
       "      <th>Total</th>\n",
       "      <th>percentage</th>\n",
       "      <th>Grade</th>\n",
       "    </tr>\n",
       "  </thead>\n",
       "  <tbody>\n",
       "    <tr>\n",
       "      <th>0</th>\n",
       "      <td>19</td>\n",
       "      <td>10</td>\n",
       "      <td>15</td>\n",
       "      <td>3</td>\n",
       "      <td>8</td>\n",
       "      <td>55</td>\n",
       "      <td>500</td>\n",
       "      <td>11.0</td>\n",
       "      <td>Fail</td>\n",
       "    </tr>\n",
       "    <tr>\n",
       "      <th>1</th>\n",
       "      <td>20</td>\n",
       "      <td>5</td>\n",
       "      <td>28</td>\n",
       "      <td>26</td>\n",
       "      <td>15</td>\n",
       "      <td>94</td>\n",
       "      <td>500</td>\n",
       "      <td>18.8</td>\n",
       "      <td>Fail</td>\n",
       "    </tr>\n",
       "    <tr>\n",
       "      <th>2</th>\n",
       "      <td>4</td>\n",
       "      <td>12</td>\n",
       "      <td>30</td>\n",
       "      <td>11</td>\n",
       "      <td>3</td>\n",
       "      <td>60</td>\n",
       "      <td>500</td>\n",
       "      <td>12.0</td>\n",
       "      <td>Fail</td>\n",
       "    </tr>\n",
       "    <tr>\n",
       "      <th>3</th>\n",
       "      <td>29</td>\n",
       "      <td>6</td>\n",
       "      <td>9</td>\n",
       "      <td>29</td>\n",
       "      <td>14</td>\n",
       "      <td>87</td>\n",
       "      <td>500</td>\n",
       "      <td>17.4</td>\n",
       "      <td>Fail</td>\n",
       "    </tr>\n",
       "    <tr>\n",
       "      <th>4</th>\n",
       "      <td>27</td>\n",
       "      <td>25</td>\n",
       "      <td>31</td>\n",
       "      <td>10</td>\n",
       "      <td>26</td>\n",
       "      <td>119</td>\n",
       "      <td>500</td>\n",
       "      <td>23.8</td>\n",
       "      <td>Fail</td>\n",
       "    </tr>\n",
       "  </tbody>\n",
       "</table>\n",
       "</div>"
      ],
      "text/plain": [
       "   s1  s2  s3  s4  s5  obtained  Total  percentage Grade\n",
       "0  19  10  15   3   8        55    500        11.0  Fail\n",
       "1  20   5  28  26  15        94    500        18.8  Fail\n",
       "2   4  12  30  11   3        60    500        12.0  Fail\n",
       "3  29   6   9  29  14        87    500        17.4  Fail\n",
       "4  27  25  31  10  26       119    500        23.8  Fail"
      ]
     },
     "execution_count": 7,
     "metadata": {},
     "output_type": "execute_result"
    }
   ],
   "source": [
    "def grade(x):\n",
    "    if x >= 80:\n",
    "        return \"A+\"\n",
    "    elif x >= 70:\n",
    "        return \"A\"\n",
    "    elif x >= 60:\n",
    "        return \"B\"\n",
    "    elif x >= 50:\n",
    "        return \"C\"\n",
    "    elif x >= 40:\n",
    "        return \"D\"\n",
    "    elif x >= 33:\n",
    "        return \"E\"\n",
    "    else:\n",
    "        return \"Fail\"\n",
    "    \n",
    "df['Grade'] = df.percentage.apply(grade)\n",
    "df.head()"
   ]
  },
  {
   "cell_type": "code",
   "execution_count": 8,
   "metadata": {},
   "outputs": [
    {
     "data": {
      "text/plain": [
       "E       10000\n",
       "D       10000\n",
       "C       10000\n",
       "A       10000\n",
       "Fail    10000\n",
       "B       10000\n",
       "A+      10000\n",
       "Name: Grade, dtype: int64"
      ]
     },
     "execution_count": 8,
     "metadata": {},
     "output_type": "execute_result"
    }
   ],
   "source": [
    "df.Grade.value_counts()"
   ]
  },
  {
   "cell_type": "markdown",
   "metadata": {},
   "source": [
    "# Solve Above Grading Problem with Deep Learning"
   ]
  },
  {
   "cell_type": "code",
   "execution_count": 9,
   "metadata": {},
   "outputs": [
    {
     "data": {
      "text/html": [
       "<div>\n",
       "<style scoped>\n",
       "    .dataframe tbody tr th:only-of-type {\n",
       "        vertical-align: middle;\n",
       "    }\n",
       "\n",
       "    .dataframe tbody tr th {\n",
       "        vertical-align: top;\n",
       "    }\n",
       "\n",
       "    .dataframe thead th {\n",
       "        text-align: right;\n",
       "    }\n",
       "</style>\n",
       "<table border=\"1\" class=\"dataframe\">\n",
       "  <thead>\n",
       "    <tr style=\"text-align: right;\">\n",
       "      <th></th>\n",
       "      <th>s1</th>\n",
       "      <th>s2</th>\n",
       "      <th>s3</th>\n",
       "      <th>s4</th>\n",
       "      <th>s5</th>\n",
       "      <th>obtained</th>\n",
       "      <th>Total</th>\n",
       "      <th>percentage</th>\n",
       "      <th>Grade</th>\n",
       "    </tr>\n",
       "  </thead>\n",
       "  <tbody>\n",
       "    <tr>\n",
       "      <th>0</th>\n",
       "      <td>19</td>\n",
       "      <td>10</td>\n",
       "      <td>15</td>\n",
       "      <td>3</td>\n",
       "      <td>8</td>\n",
       "      <td>55</td>\n",
       "      <td>500</td>\n",
       "      <td>11.0</td>\n",
       "      <td>Fail</td>\n",
       "    </tr>\n",
       "    <tr>\n",
       "      <th>1</th>\n",
       "      <td>20</td>\n",
       "      <td>5</td>\n",
       "      <td>28</td>\n",
       "      <td>26</td>\n",
       "      <td>15</td>\n",
       "      <td>94</td>\n",
       "      <td>500</td>\n",
       "      <td>18.8</td>\n",
       "      <td>Fail</td>\n",
       "    </tr>\n",
       "    <tr>\n",
       "      <th>2</th>\n",
       "      <td>4</td>\n",
       "      <td>12</td>\n",
       "      <td>30</td>\n",
       "      <td>11</td>\n",
       "      <td>3</td>\n",
       "      <td>60</td>\n",
       "      <td>500</td>\n",
       "      <td>12.0</td>\n",
       "      <td>Fail</td>\n",
       "    </tr>\n",
       "    <tr>\n",
       "      <th>3</th>\n",
       "      <td>29</td>\n",
       "      <td>6</td>\n",
       "      <td>9</td>\n",
       "      <td>29</td>\n",
       "      <td>14</td>\n",
       "      <td>87</td>\n",
       "      <td>500</td>\n",
       "      <td>17.4</td>\n",
       "      <td>Fail</td>\n",
       "    </tr>\n",
       "    <tr>\n",
       "      <th>4</th>\n",
       "      <td>27</td>\n",
       "      <td>25</td>\n",
       "      <td>31</td>\n",
       "      <td>10</td>\n",
       "      <td>26</td>\n",
       "      <td>119</td>\n",
       "      <td>500</td>\n",
       "      <td>23.8</td>\n",
       "      <td>Fail</td>\n",
       "    </tr>\n",
       "  </tbody>\n",
       "</table>\n",
       "</div>"
      ],
      "text/plain": [
       "   s1  s2  s3  s4  s5  obtained  Total  percentage Grade\n",
       "0  19  10  15   3   8        55    500        11.0  Fail\n",
       "1  20   5  28  26  15        94    500        18.8  Fail\n",
       "2   4  12  30  11   3        60    500        12.0  Fail\n",
       "3  29   6   9  29  14        87    500        17.4  Fail\n",
       "4  27  25  31  10  26       119    500        23.8  Fail"
      ]
     },
     "execution_count": 9,
     "metadata": {},
     "output_type": "execute_result"
    }
   ],
   "source": [
    "df.head()"
   ]
  },
  {
   "cell_type": "code",
   "execution_count": 10,
   "metadata": {},
   "outputs": [
    {
     "data": {
      "text/plain": [
       "<matplotlib.axes._subplots.AxesSubplot at 0x22df49e76c8>"
      ]
     },
     "execution_count": 10,
     "metadata": {},
     "output_type": "execute_result"
    },
    {
     "data": {
      "image/png": "[encoded data removed]",
      "text/plain": [
       "<Figure size 432x288 with 1 Axes>"
      ]
     },
     "metadata": {
      "needs_background": "light"
     },
     "output_type": "display_data"
    }
   ],
   "source": [
    "df.corr().plot(kind='bar')"
   ]
  },
  {
   "cell_type": "code",
   "execution_count": 11,
   "metadata": {},
   "outputs": [
    {
     "data": {
      "text/html": [
       "<div>\n",
       "<style scoped>\n",
       "    .dataframe tbody tr th:only-of-type {\n",
       "        vertical-align: middle;\n",
       "    }\n",
       "\n",
       "    .dataframe tbody tr th {\n",
       "        vertical-align: top;\n",
       "    }\n",
       "\n",
       "    .dataframe thead th {\n",
       "        text-align: right;\n",
       "    }\n",
       "</style>\n",
       "<table border=\"1\" class=\"dataframe\">\n",
       "  <thead>\n",
       "    <tr style=\"text-align: right;\">\n",
       "      <th></th>\n",
       "      <th>s1</th>\n",
       "      <th>s2</th>\n",
       "      <th>s3</th>\n",
       "      <th>s4</th>\n",
       "      <th>s5</th>\n",
       "      <th>obtained</th>\n",
       "      <th>Total</th>\n",
       "      <th>percentage</th>\n",
       "      <th>Grade</th>\n",
       "      <th>Grade1</th>\n",
       "    </tr>\n",
       "  </thead>\n",
       "  <tbody>\n",
       "    <tr>\n",
       "      <th>0</th>\n",
       "      <td>19</td>\n",
       "      <td>10</td>\n",
       "      <td>15</td>\n",
       "      <td>3</td>\n",
       "      <td>8</td>\n",
       "      <td>55</td>\n",
       "      <td>500</td>\n",
       "      <td>11.0</td>\n",
       "      <td>Fail</td>\n",
       "      <td>7</td>\n",
       "    </tr>\n",
       "    <tr>\n",
       "      <th>1</th>\n",
       "      <td>20</td>\n",
       "      <td>5</td>\n",
       "      <td>28</td>\n",
       "      <td>26</td>\n",
       "      <td>15</td>\n",
       "      <td>94</td>\n",
       "      <td>500</td>\n",
       "      <td>18.8</td>\n",
       "      <td>Fail</td>\n",
       "      <td>7</td>\n",
       "    </tr>\n",
       "    <tr>\n",
       "      <th>2</th>\n",
       "      <td>4</td>\n",
       "      <td>12</td>\n",
       "      <td>30</td>\n",
       "      <td>11</td>\n",
       "      <td>3</td>\n",
       "      <td>60</td>\n",
       "      <td>500</td>\n",
       "      <td>12.0</td>\n",
       "      <td>Fail</td>\n",
       "      <td>7</td>\n",
       "    </tr>\n",
       "    <tr>\n",
       "      <th>3</th>\n",
       "      <td>29</td>\n",
       "      <td>6</td>\n",
       "      <td>9</td>\n",
       "      <td>29</td>\n",
       "      <td>14</td>\n",
       "      <td>87</td>\n",
       "      <td>500</td>\n",
       "      <td>17.4</td>\n",
       "      <td>Fail</td>\n",
       "      <td>7</td>\n",
       "    </tr>\n",
       "    <tr>\n",
       "      <th>4</th>\n",
       "      <td>27</td>\n",
       "      <td>25</td>\n",
       "      <td>31</td>\n",
       "      <td>10</td>\n",
       "      <td>26</td>\n",
       "      <td>119</td>\n",
       "      <td>500</td>\n",
       "      <td>23.8</td>\n",
       "      <td>Fail</td>\n",
       "      <td>7</td>\n",
       "    </tr>\n",
       "  </tbody>\n",
       "</table>\n",
       "</div>"
      ],
      "text/plain": [
       "   s1  s2  s3  s4  s5  obtained  Total  percentage Grade  Grade1\n",
       "0  19  10  15   3   8        55    500        11.0  Fail       7\n",
       "1  20   5  28  26  15        94    500        18.8  Fail       7\n",
       "2   4  12  30  11   3        60    500        12.0  Fail       7\n",
       "3  29   6   9  29  14        87    500        17.4  Fail       7\n",
       "4  27  25  31  10  26       119    500        23.8  Fail       7"
      ]
     },
     "execution_count": 11,
     "metadata": {},
     "output_type": "execute_result"
    }
   ],
   "source": [
    "dic = {\n",
    "    \"Fail\": 7,\n",
    "    \"E\": 6,\n",
    "    \"D\":5,\n",
    "    \"C\":4,\n",
    "    \"B\":3,\n",
    "    \"A\":2,\n",
    "    \"A+\":1\n",
    "}\n",
    "\n",
    "df['Grade1'] = df.Grade.map(dic)\n",
    "df.head()"
   ]
  },
  {
   "cell_type": "code",
   "execution_count": 12,
   "metadata": {},
   "outputs": [
    {
     "data": {
      "text/plain": [
       "7    10000\n",
       "6    10000\n",
       "5    10000\n",
       "4    10000\n",
       "3    10000\n",
       "2    10000\n",
       "1    10000\n",
       "Name: Grade1, dtype: int64"
      ]
     },
     "execution_count": 12,
     "metadata": {},
     "output_type": "execute_result"
    }
   ],
   "source": [
    "df.Grade1.value_counts()"
   ]
  },
  {
   "cell_type": "code",
   "execution_count": 13,
   "metadata": {},
   "outputs": [
    {
     "data": {
      "text/plain": [
       "<matplotlib.axes._subplots.AxesSubplot at 0x22df4bdaf48>"
      ]
     },
     "execution_count": 13,
     "metadata": {},
     "output_type": "execute_result"
    },
    {
     "data": {
      "image/png": "[encoded data removed]",
      "text/plain": [
       "<Figure size 432x288 with 1 Axes>"
      ]
     },
     "metadata": {
      "needs_background": "light"
     },
     "output_type": "display_data"
    }
   ],
   "source": [
    "df[[\"Total\",'Grade1']].corr().plot(kind='bar')"
   ]
  },
  {
   "cell_type": "code",
   "execution_count": 14,
   "metadata": {},
   "outputs": [],
   "source": [
    "# Find Rules with Deep learning\n",
    "# input + output = Rules\n",
    "# X  + Y = Rules(Grade)"
   ]
  },
  {
   "cell_type": "code",
   "execution_count": 15,
   "metadata": {},
   "outputs": [
    {
     "data": {
      "text/plain": [
       "<matplotlib.axes._subplots.AxesSubplot at 0x22df3dab908>"
      ]
     },
     "execution_count": 15,
     "metadata": {},
     "output_type": "execute_result"
    },
    {
     "data": {
      "image/png": "[encoded data removed]",
      "text/plain": [
       "<Figure size 432x288 with 1 Axes>"
      ]
     },
     "metadata": {
      "needs_background": "light"
     },
     "output_type": "display_data"
    }
   ],
   "source": [
    "df.corr().plot(kind='bar')"
   ]
  },
  {
   "cell_type": "code",
   "execution_count": 16,
   "metadata": {},
   "outputs": [
    {
     "data": {
      "text/html": [
       "<div>\n",
       "<style scoped>\n",
       "    .dataframe tbody tr th:only-of-type {\n",
       "        vertical-align: middle;\n",
       "    }\n",
       "\n",
       "    .dataframe tbody tr th {\n",
       "        vertical-align: top;\n",
       "    }\n",
       "\n",
       "    .dataframe thead th {\n",
       "        text-align: right;\n",
       "    }\n",
       "</style>\n",
       "<table border=\"1\" class=\"dataframe\">\n",
       "  <thead>\n",
       "    <tr style=\"text-align: right;\">\n",
       "      <th></th>\n",
       "      <th>s1</th>\n",
       "      <th>s2</th>\n",
       "      <th>s3</th>\n",
       "      <th>s4</th>\n",
       "      <th>s5</th>\n",
       "    </tr>\n",
       "  </thead>\n",
       "  <tbody>\n",
       "    <tr>\n",
       "      <th>0</th>\n",
       "      <td>19</td>\n",
       "      <td>10</td>\n",
       "      <td>15</td>\n",
       "      <td>3</td>\n",
       "      <td>8</td>\n",
       "    </tr>\n",
       "    <tr>\n",
       "      <th>1</th>\n",
       "      <td>20</td>\n",
       "      <td>5</td>\n",
       "      <td>28</td>\n",
       "      <td>26</td>\n",
       "      <td>15</td>\n",
       "    </tr>\n",
       "  </tbody>\n",
       "</table>\n",
       "</div>"
      ],
      "text/plain": [
       "   s1  s2  s3  s4  s5\n",
       "0  19  10  15   3   8\n",
       "1  20   5  28  26  15"
      ]
     },
     "execution_count": 16,
     "metadata": {},
     "output_type": "execute_result"
    }
   ],
   "source": [
    "X = df.loc[:, 's1':'s5']\n",
    "X.head(2)"
   ]
  },
  {
   "cell_type": "code",
   "execution_count": 17,
   "metadata": {},
   "outputs": [
    {
     "data": {
      "text/html": [
       "<div>\n",
       "<style scoped>\n",
       "    .dataframe tbody tr th:only-of-type {\n",
       "        vertical-align: middle;\n",
       "    }\n",
       "\n",
       "    .dataframe tbody tr th {\n",
       "        vertical-align: top;\n",
       "    }\n",
       "\n",
       "    .dataframe thead th {\n",
       "        text-align: right;\n",
       "    }\n",
       "</style>\n",
       "<table border=\"1\" class=\"dataframe\">\n",
       "  <thead>\n",
       "    <tr style=\"text-align: right;\">\n",
       "      <th></th>\n",
       "      <th>Grade</th>\n",
       "    </tr>\n",
       "  </thead>\n",
       "  <tbody>\n",
       "    <tr>\n",
       "      <th>0</th>\n",
       "      <td>Fail</td>\n",
       "    </tr>\n",
       "    <tr>\n",
       "      <th>1</th>\n",
       "      <td>Fail</td>\n",
       "    </tr>\n",
       "    <tr>\n",
       "      <th>2</th>\n",
       "      <td>Fail</td>\n",
       "    </tr>\n",
       "    <tr>\n",
       "      <th>3</th>\n",
       "      <td>Fail</td>\n",
       "    </tr>\n",
       "    <tr>\n",
       "      <th>4</th>\n",
       "      <td>Fail</td>\n",
       "    </tr>\n",
       "    <tr>\n",
       "      <th>...</th>\n",
       "      <td>...</td>\n",
       "    </tr>\n",
       "    <tr>\n",
       "      <th>9995</th>\n",
       "      <td>A+</td>\n",
       "    </tr>\n",
       "    <tr>\n",
       "      <th>9996</th>\n",
       "      <td>A+</td>\n",
       "    </tr>\n",
       "    <tr>\n",
       "      <th>9997</th>\n",
       "      <td>A+</td>\n",
       "    </tr>\n",
       "    <tr>\n",
       "      <th>9998</th>\n",
       "      <td>A+</td>\n",
       "    </tr>\n",
       "    <tr>\n",
       "      <th>9999</th>\n",
       "      <td>A+</td>\n",
       "    </tr>\n",
       "  </tbody>\n",
       "</table>\n",
       "<p>70000 rows × 1 columns</p>\n",
       "</div>"
      ],
      "text/plain": [
       "     Grade\n",
       "0     Fail\n",
       "1     Fail\n",
       "2     Fail\n",
       "3     Fail\n",
       "4     Fail\n",
       "...    ...\n",
       "9995    A+\n",
       "9996    A+\n",
       "9997    A+\n",
       "9998    A+\n",
       "9999    A+\n",
       "\n",
       "[70000 rows x 1 columns]"
      ]
     },
     "execution_count": 17,
     "metadata": {},
     "output_type": "execute_result"
    }
   ],
   "source": [
    "y = df[['Grade']]\n",
    "y"
   ]
  },
  {
   "cell_type": "markdown",
   "metadata": {},
   "source": [
    "# Apply vectorization on Y\n",
    "- One-hot-encoding"
   ]
  },
  {
   "cell_type": "raw",
   "metadata": {},
   "source": [
    "    A B C\n",
    "A   1 0 0\n",
    "B   0 1 0\n",
    "C   0 0 1"
   ]
  },
  {
   "cell_type": "code",
   "execution_count": 18,
   "metadata": {},
   "outputs": [
    {
     "data": {
      "text/html": [
       "<div>\n",
       "<style scoped>\n",
       "    .dataframe tbody tr th:only-of-type {\n",
       "        vertical-align: middle;\n",
       "    }\n",
       "\n",
       "    .dataframe tbody tr th {\n",
       "        vertical-align: top;\n",
       "    }\n",
       "\n",
       "    .dataframe thead th {\n",
       "        text-align: right;\n",
       "    }\n",
       "</style>\n",
       "<table border=\"1\" class=\"dataframe\">\n",
       "  <thead>\n",
       "    <tr style=\"text-align: right;\">\n",
       "      <th></th>\n",
       "      <th>A</th>\n",
       "      <th>A+</th>\n",
       "      <th>B</th>\n",
       "      <th>C</th>\n",
       "      <th>D</th>\n",
       "      <th>E</th>\n",
       "      <th>Fail</th>\n",
       "    </tr>\n",
       "  </thead>\n",
       "  <tbody>\n",
       "    <tr>\n",
       "      <th>9995</th>\n",
       "      <td>0</td>\n",
       "      <td>1</td>\n",
       "      <td>0</td>\n",
       "      <td>0</td>\n",
       "      <td>0</td>\n",
       "      <td>0</td>\n",
       "      <td>0</td>\n",
       "    </tr>\n",
       "    <tr>\n",
       "      <th>9996</th>\n",
       "      <td>0</td>\n",
       "      <td>1</td>\n",
       "      <td>0</td>\n",
       "      <td>0</td>\n",
       "      <td>0</td>\n",
       "      <td>0</td>\n",
       "      <td>0</td>\n",
       "    </tr>\n",
       "    <tr>\n",
       "      <th>9997</th>\n",
       "      <td>0</td>\n",
       "      <td>1</td>\n",
       "      <td>0</td>\n",
       "      <td>0</td>\n",
       "      <td>0</td>\n",
       "      <td>0</td>\n",
       "      <td>0</td>\n",
       "    </tr>\n",
       "    <tr>\n",
       "      <th>9998</th>\n",
       "      <td>0</td>\n",
       "      <td>1</td>\n",
       "      <td>0</td>\n",
       "      <td>0</td>\n",
       "      <td>0</td>\n",
       "      <td>0</td>\n",
       "      <td>0</td>\n",
       "    </tr>\n",
       "    <tr>\n",
       "      <th>9999</th>\n",
       "      <td>0</td>\n",
       "      <td>1</td>\n",
       "      <td>0</td>\n",
       "      <td>0</td>\n",
       "      <td>0</td>\n",
       "      <td>0</td>\n",
       "      <td>0</td>\n",
       "    </tr>\n",
       "  </tbody>\n",
       "</table>\n",
       "</div>"
      ],
      "text/plain": [
       "      A  A+  B  C  D  E  Fail\n",
       "9995  0   1  0  0  0  0     0\n",
       "9996  0   1  0  0  0  0     0\n",
       "9997  0   1  0  0  0  0     0\n",
       "9998  0   1  0  0  0  0     0\n",
       "9999  0   1  0  0  0  0     0"
      ]
     },
     "execution_count": 18,
     "metadata": {},
     "output_type": "execute_result"
    }
   ],
   "source": [
    "y = df['Grade']\n",
    "y = pd.get_dummies(y)\n",
    "y.tail()"
   ]
  },
  {
   "cell_type": "code",
   "execution_count": 19,
   "metadata": {},
   "outputs": [
    {
     "data": {
      "text/html": [
       "<div>\n",
       "<style scoped>\n",
       "    .dataframe tbody tr th:only-of-type {\n",
       "        vertical-align: middle;\n",
       "    }\n",
       "\n",
       "    .dataframe tbody tr th {\n",
       "        vertical-align: top;\n",
       "    }\n",
       "\n",
       "    .dataframe thead th {\n",
       "        text-align: right;\n",
       "    }\n",
       "</style>\n",
       "<table border=\"1\" class=\"dataframe\">\n",
       "  <thead>\n",
       "    <tr style=\"text-align: right;\">\n",
       "      <th></th>\n",
       "      <th>A</th>\n",
       "      <th>A+</th>\n",
       "      <th>B</th>\n",
       "      <th>C</th>\n",
       "      <th>D</th>\n",
       "      <th>E</th>\n",
       "      <th>Fail</th>\n",
       "    </tr>\n",
       "  </thead>\n",
       "  <tbody>\n",
       "    <tr>\n",
       "      <th>0</th>\n",
       "      <td>0</td>\n",
       "      <td>0</td>\n",
       "      <td>0</td>\n",
       "      <td>0</td>\n",
       "      <td>0</td>\n",
       "      <td>0</td>\n",
       "      <td>1</td>\n",
       "    </tr>\n",
       "    <tr>\n",
       "      <th>0</th>\n",
       "      <td>0</td>\n",
       "      <td>0</td>\n",
       "      <td>0</td>\n",
       "      <td>0</td>\n",
       "      <td>0</td>\n",
       "      <td>1</td>\n",
       "      <td>0</td>\n",
       "    </tr>\n",
       "    <tr>\n",
       "      <th>0</th>\n",
       "      <td>0</td>\n",
       "      <td>0</td>\n",
       "      <td>0</td>\n",
       "      <td>0</td>\n",
       "      <td>1</td>\n",
       "      <td>0</td>\n",
       "      <td>0</td>\n",
       "    </tr>\n",
       "    <tr>\n",
       "      <th>0</th>\n",
       "      <td>0</td>\n",
       "      <td>0</td>\n",
       "      <td>0</td>\n",
       "      <td>1</td>\n",
       "      <td>0</td>\n",
       "      <td>0</td>\n",
       "      <td>0</td>\n",
       "    </tr>\n",
       "    <tr>\n",
       "      <th>0</th>\n",
       "      <td>0</td>\n",
       "      <td>0</td>\n",
       "      <td>1</td>\n",
       "      <td>0</td>\n",
       "      <td>0</td>\n",
       "      <td>0</td>\n",
       "      <td>0</td>\n",
       "    </tr>\n",
       "    <tr>\n",
       "      <th>0</th>\n",
       "      <td>1</td>\n",
       "      <td>0</td>\n",
       "      <td>0</td>\n",
       "      <td>0</td>\n",
       "      <td>0</td>\n",
       "      <td>0</td>\n",
       "      <td>0</td>\n",
       "    </tr>\n",
       "    <tr>\n",
       "      <th>0</th>\n",
       "      <td>0</td>\n",
       "      <td>1</td>\n",
       "      <td>0</td>\n",
       "      <td>0</td>\n",
       "      <td>0</td>\n",
       "      <td>0</td>\n",
       "      <td>0</td>\n",
       "    </tr>\n",
       "  </tbody>\n",
       "</table>\n",
       "</div>"
      ],
      "text/plain": [
       "   A  A+  B  C  D  E  Fail\n",
       "0  0   0  0  0  0  0     1\n",
       "0  0   0  0  0  0  1     0\n",
       "0  0   0  0  0  1  0     0\n",
       "0  0   0  0  1  0  0     0\n",
       "0  0   0  1  0  0  0     0\n",
       "0  1   0  0  0  0  0     0\n",
       "0  0   1  0  0  0  0     0"
      ]
     },
     "execution_count": 19,
     "metadata": {},
     "output_type": "execute_result"
    }
   ],
   "source": [
    "y.drop_duplicates()"
   ]
  },
  {
   "cell_type": "code",
   "execution_count": 20,
   "metadata": {},
   "outputs": [],
   "source": [
    "from tensorflow.keras.models import Sequential\n",
    "from tensorflow.keras.layers import Dense\n",
    "from tensorflow.keras.optimizers import Adam, SGD"
   ]
  },
  {
   "cell_type": "code",
   "execution_count": 21,
   "metadata": {},
   "outputs": [],
   "source": [
    "# first layer input shape will be constant input_shape = x_no_columns\n",
    "# last-layer output and activation function will be constant \n",
    "#      based on your problems\n",
    "# last-layer numbers_output = y.unique_value = unique_classes\n",
    "# Dense(output,)\n",
    "\n",
    "model = Sequential()\n",
    "model.add(Dense(5, activation='relu',input_shape=(5,)))\n",
    "model.add(Dense(7, activation='softmax'))"
   ]
  },
  {
   "cell_type": "code",
   "execution_count": 22,
   "metadata": {},
   "outputs": [
    {
     "name": "stdout",
     "output_type": "stream",
     "text": [
      "Model: \"sequential\"\n",
      "_________________________________________________________________\n",
      "Layer (type)                 Output Shape              Param #   \n",
      "=================================================================\n",
      "dense (Dense)                (None, 5)                 30        \n",
      "_________________________________________________________________\n",
      "dense_1 (Dense)              (None, 7)                 42        \n",
      "=================================================================\n",
      "Total params: 72\n",
      "Trainable params: 72\n",
      "Non-trainable params: 0\n",
      "_________________________________________________________________\n"
     ]
    }
   ],
   "source": [
    "model.summary()"
   ]
  },
  {
   "cell_type": "code",
   "execution_count": 23,
   "metadata": {},
   "outputs": [],
   "source": [
    "\n",
    "model.compile(optimizer=SGD(lr=0.8),\n",
    "             loss='categorical_crossentropy',\n",
    "             metrics=['acc'])"
   ]
  },
  {
   "cell_type": "code",
   "execution_count": 24,
   "metadata": {
    "scrolled": true
   },
   "outputs": [
    {
     "name": "stdout",
     "output_type": "stream",
     "text": [
      "Epoch 1/30\n",
      "2188/2188 [==============================] - 2s 1ms/step - loss: 1.9593 - acc: 0.1428\n",
      "Epoch 2/30\n",
      "2188/2188 [==============================] - 2s 1ms/step - loss: 1.9518 - acc: 0.1423\n",
      "Epoch 3/30\n",
      "2188/2188 [==============================] - 2s 967us/step - loss: 1.9518 - acc: 0.1424\n",
      "Epoch 4/30\n",
      "2188/2188 [==============================] - 4s 2ms/step - loss: 1.9517 - acc: 0.1440\n",
      "Epoch 5/30\n",
      "2188/2188 [==============================] - 2s 1ms/step - loss: 1.9519 - acc: 0.1412\n",
      "Epoch 6/30\n",
      "2188/2188 [==============================] - 3s 1ms/step - loss: 1.9518 - acc: 0.1431\n",
      "Epoch 7/30\n",
      "2188/2188 [==============================] - 5s 2ms/step - loss: 1.9516 - acc: 0.1443\n",
      "Epoch 8/30\n",
      "2188/2188 [==============================] - 4s 2ms/step - loss: 1.9518 - acc: 0.1435\n",
      "Epoch 9/30\n",
      "2188/2188 [==============================] - 8s 4ms/step - loss: 1.9517 - acc: 0.1440\n",
      "Epoch 10/30\n",
      "2188/2188 [==============================] - 5s 2ms/step - loss: 1.9521 - acc: 0.1419\n",
      "Epoch 11/30\n",
      "2188/2188 [==============================] - 3s 1ms/step - loss: 1.9515 - acc: 0.1446\n",
      "Epoch 12/30\n",
      "2188/2188 [==============================] - 2s 915us/step - loss: 1.9515 - acc: 0.1435\n",
      "Epoch 13/30\n",
      "2188/2188 [==============================] - 3s 1ms/step - loss: 1.9518 - acc: 0.1424\n",
      "Epoch 14/30\n",
      "2188/2188 [==============================] - 2s 1ms/step - loss: 1.9519 - acc: 0.1413\n",
      "Epoch 15/30\n",
      "2188/2188 [==============================] - 3s 1ms/step - loss: 1.9516 - acc: 0.1439\n",
      "Epoch 16/30\n",
      "2188/2188 [==============================] - 2s 1ms/step - loss: 1.9516 - acc: 0.1446\n",
      "Epoch 17/30\n",
      "2188/2188 [==============================] - 2s 1ms/step - loss: 1.9517 - acc: 0.1426\n",
      "Epoch 18/30\n",
      "2188/2188 [==============================] - 3s 1ms/step - loss: 1.9512 - acc: 0.1460\n",
      "Epoch 19/30\n",
      "2188/2188 [==============================] - 3s 1ms/step - loss: 1.9513 - acc: 0.1441\n",
      "Epoch 20/30\n",
      "2188/2188 [==============================] - 2s 1ms/step - loss: 1.9515 - acc: 0.1424\n",
      "Epoch 21/30\n",
      "2188/2188 [==============================] - 3s 1ms/step - loss: 1.9514 - acc: 0.1412\n",
      "Epoch 22/30\n",
      "2188/2188 [==============================] - 2s 1ms/step - loss: 1.9517 - acc: 0.1423\n",
      "Epoch 23/30\n",
      "2188/2188 [==============================] - 2s 1ms/step - loss: 1.9517 - acc: 0.1426\n",
      "Epoch 24/30\n",
      "2188/2188 [==============================] - 3s 1ms/step - loss: 1.9516 - acc: 0.1416\n",
      "Epoch 25/30\n",
      "2188/2188 [==============================] - 2s 1ms/step - loss: 1.9515 - acc: 0.1430\n",
      "Epoch 26/30\n",
      "2188/2188 [==============================] - 2s 1ms/step - loss: 1.9514 - acc: 0.1431\n",
      "Epoch 27/30\n",
      "2188/2188 [==============================] - 2s 1ms/step - loss: 1.9517 - acc: 0.1434\n",
      "Epoch 28/30\n",
      "2188/2188 [==============================] - 2s 1ms/step - loss: 1.9517 - acc: 0.1421\n",
      "Epoch 29/30\n",
      "2188/2188 [==============================] - 2s 1ms/step - loss: 1.9519 - acc: 0.1405\n",
      "Epoch 30/30\n",
      "2188/2188 [==============================] - 3s 1ms/step - loss: 1.9516 - acc: 0.1441\n"
     ]
    },
    {
     "data": {
      "text/plain": [
       "<tensorflow.python.keras.callbacks.History at 0x22dfb974848>"
      ]
     },
     "execution_count": 24,
     "metadata": {},
     "output_type": "execute_result"
    }
   ],
   "source": [
    "#Training\n",
    "model.fit(X,y, epochs=30)\n"
   ]
  },
  {
   "cell_type": "code",
   "execution_count": 53,
   "metadata": {},
   "outputs": [
    {
     "data": {
      "text/plain": [
       "2"
      ]
     },
     "execution_count": 53,
     "metadata": {},
     "output_type": "execute_result"
    }
   ],
   "source": [
    "np.argmax(model.predict([[99,98,70,60,87]]))"
   ]
  },
  {
   "cell_type": "code",
   "execution_count": 76,
   "metadata": {},
   "outputs": [
    {
     "data": {
      "text/html": [
       "<div>\n",
       "<style scoped>\n",
       "    .dataframe tbody tr th:only-of-type {\n",
       "        vertical-align: middle;\n",
       "    }\n",
       "\n",
       "    .dataframe tbody tr th {\n",
       "        vertical-align: top;\n",
       "    }\n",
       "\n",
       "    .dataframe thead th {\n",
       "        text-align: right;\n",
       "    }\n",
       "</style>\n",
       "<table border=\"1\" class=\"dataframe\">\n",
       "  <thead>\n",
       "    <tr style=\"text-align: right;\">\n",
       "      <th></th>\n",
       "      <th>s1</th>\n",
       "      <th>s2</th>\n",
       "      <th>s3</th>\n",
       "      <th>s4</th>\n",
       "      <th>s5</th>\n",
       "    </tr>\n",
       "  </thead>\n",
       "  <tbody>\n",
       "    <tr>\n",
       "      <th>0</th>\n",
       "      <td>81</td>\n",
       "      <td>87</td>\n",
       "      <td>83</td>\n",
       "      <td>88</td>\n",
       "      <td>79</td>\n",
       "    </tr>\n",
       "    <tr>\n",
       "      <th>1</th>\n",
       "      <td>71</td>\n",
       "      <td>70</td>\n",
       "      <td>70</td>\n",
       "      <td>98</td>\n",
       "      <td>94</td>\n",
       "    </tr>\n",
       "    <tr>\n",
       "      <th>2</th>\n",
       "      <td>96</td>\n",
       "      <td>97</td>\n",
       "      <td>83</td>\n",
       "      <td>76</td>\n",
       "      <td>72</td>\n",
       "    </tr>\n",
       "    <tr>\n",
       "      <th>3</th>\n",
       "      <td>94</td>\n",
       "      <td>75</td>\n",
       "      <td>75</td>\n",
       "      <td>81</td>\n",
       "      <td>88</td>\n",
       "    </tr>\n",
       "    <tr>\n",
       "      <th>4</th>\n",
       "      <td>86</td>\n",
       "      <td>94</td>\n",
       "      <td>79</td>\n",
       "      <td>89</td>\n",
       "      <td>75</td>\n",
       "    </tr>\n",
       "    <tr>\n",
       "      <th>5</th>\n",
       "      <td>70</td>\n",
       "      <td>76</td>\n",
       "      <td>93</td>\n",
       "      <td>89</td>\n",
       "      <td>74</td>\n",
       "    </tr>\n",
       "    <tr>\n",
       "      <th>6</th>\n",
       "      <td>76</td>\n",
       "      <td>84</td>\n",
       "      <td>98</td>\n",
       "      <td>90</td>\n",
       "      <td>70</td>\n",
       "    </tr>\n",
       "    <tr>\n",
       "      <th>7</th>\n",
       "      <td>90</td>\n",
       "      <td>81</td>\n",
       "      <td>94</td>\n",
       "      <td>78</td>\n",
       "      <td>83</td>\n",
       "    </tr>\n",
       "    <tr>\n",
       "      <th>8</th>\n",
       "      <td>99</td>\n",
       "      <td>82</td>\n",
       "      <td>82</td>\n",
       "      <td>75</td>\n",
       "      <td>70</td>\n",
       "    </tr>\n",
       "    <tr>\n",
       "      <th>9</th>\n",
       "      <td>96</td>\n",
       "      <td>82</td>\n",
       "      <td>98</td>\n",
       "      <td>76</td>\n",
       "      <td>78</td>\n",
       "    </tr>\n",
       "  </tbody>\n",
       "</table>\n",
       "</div>"
      ],
      "text/plain": [
       "   s1  s2  s3  s4  s5\n",
       "0  81  87  83  88  79\n",
       "1  71  70  70  98  94\n",
       "2  96  97  83  76  72\n",
       "3  94  75  75  81  88\n",
       "4  86  94  79  89  75\n",
       "5  70  76  93  89  74\n",
       "6  76  84  98  90  70\n",
       "7  90  81  94  78  83\n",
       "8  99  82  82  75  70\n",
       "9  96  82  98  76  78"
      ]
     },
     "execution_count": 76,
     "metadata": {},
     "output_type": "execute_result"
    }
   ],
   "source": [
    "# Test\n",
    "df1 = pd.DataFrame(np.random.randint(70, 100, size=(10,5)), columns=['s1','s2','s3','s4','s5'])\n",
    "df1"
   ]
  },
  {
   "cell_type": "code",
   "execution_count": 77,
   "metadata": {},
   "outputs": [
    {
     "data": {
      "text/plain": [
       "Index(['E', 'E', 'E', 'E', 'E', 'E', 'E', 'E', 'E', 'E'], dtype='object')"
      ]
     },
     "execution_count": 77,
     "metadata": {},
     "output_type": "execute_result"
    }
   ],
   "source": [
    "y.columns.take(\n",
    "    np.argmax(model.predict(df1.loc[:,'s1':'s5']),\n",
    "              axis=1)\n",
    ")\n"
   ]
  },
  {
   "cell_type": "code",
   "execution_count": 78,
   "metadata": {},
   "outputs": [
    {
     "data": {
      "text/plain": [
       "Index(['E', 'E', 'E', 'E', 'E', 'E', 'E', 'E', 'E', 'E'], dtype='object')"
      ]
     },
     "execution_count": 78,
     "metadata": {},
     "output_type": "execute_result"
    }
   ],
   "source": [
    "y.columns.take(np.argmax(model.predict(df1.loc[:,'s1':'s5']), axis=1))"
   ]
  },
  {
   "cell_type": "markdown",
   "metadata": {},
   "source": [
    "# Computer Vision With Image dataset"
   ]
  },
  {
   "cell_type": "code",
   "execution_count": 5,
   "metadata": {},
   "outputs": [],
   "source": [
    "from tensorflow.keras.preprocessing.image import ImageDataGenerator"
   ]
  },
  {
   "cell_type": "code",
   "execution_count": 6,
   "metadata": {},
   "outputs": [],
   "source": [
    "train_data_gen = ImageDataGenerator(rescale=1.0/255) #Normilization"
   ]
  },
  {
   "cell_type": "code",
   "execution_count": 9,
   "metadata": {},
   "outputs": [
    {
     "name": "stdout",
     "output_type": "stream",
     "text": [
      "Found 6 images belonging to 2 classes.\n"
     ]
    }
   ],
   "source": [
    "train_data = train_data_gen.flow_from_directory(\n",
    "    \"./train\",\n",
    "    target_size=(150,150),\n",
    "    batch_size=20,\n",
    "    class_mode='binary'\n",
    ")"
   ]
  },
  {
   "cell_type": "code",
   "execution_count": 10,
   "metadata": {},
   "outputs": [
    {
     "data": {
      "text/plain": [
       "{'cat': 0, 'dog': 1}"
      ]
     },
     "execution_count": 10,
     "metadata": {},
     "output_type": "execute_result"
    }
   ],
   "source": [
    "train_data.class_indices"
   ]
  },
  {
   "cell_type": "code",
   "execution_count": 12,
   "metadata": {},
   "outputs": [],
   "source": [
    "from tensorflow.keras.models import Sequential\n",
    "from tensorflow.keras.layers import Dense, Flatten\n",
    "from tensorflow.keras.optimizers import Adam, SGD"
   ]
  },
  {
   "cell_type": "code",
   "execution_count": 13,
   "metadata": {},
   "outputs": [],
   "source": [
    "model = Sequential()\n",
    "model.add(Flatten())\n",
    "model.add(Dense(500, activation='relu'))\n",
    "model.add(Dense(1, activation='sigmoid'))"
   ]
  },
  {
   "cell_type": "code",
   "execution_count": 15,
   "metadata": {},
   "outputs": [
    {
     "data": {
      "text/plain": [
       "67500"
      ]
     },
     "execution_count": 15,
     "metadata": {},
     "output_type": "execute_result"
    }
   ],
   "source": [
    "150*150*3"
   ]
  },
  {
   "cell_type": "code",
   "execution_count": 16,
   "metadata": {},
   "outputs": [],
   "source": [
    "model.compile(loss='binary_crossentropy',\n",
    "             optimizer='adam',\n",
    "             metrics = ['acc'])"
   ]
  },
  {
   "cell_type": "code",
   "execution_count": 17,
   "metadata": {},
   "outputs": [
    {
     "name": "stdout",
     "output_type": "stream",
     "text": [
      "Epoch 1/8\n",
      "1/1 [==============================] - 0s 2ms/step - loss: 0.7507 - acc: 0.5000\n",
      "Epoch 2/8\n",
      "1/1 [==============================] - 0s 5ms/step - loss: 16.5008 - acc: 0.5000\n",
      "Epoch 3/8\n",
      "1/1 [==============================] - 0s 1ms/step - loss: 51.8722 - acc: 0.5000\n",
      "Epoch 4/8\n",
      "1/1 [==============================] - 0s 1ms/step - loss: 0.0011 - acc: 1.0000\n",
      "Epoch 5/8\n",
      "1/1 [==============================] - 0s 2ms/step - loss: 0.5534 - acc: 0.8333\n",
      "Epoch 6/8\n",
      "1/1 [==============================] - 0s 2ms/step - loss: 1.5770 - acc: 0.8333\n",
      "Epoch 7/8\n",
      "1/1 [==============================] - 0s 3ms/step - loss: 2.4471e-09 - acc: 1.0000\n",
      "Epoch 8/8\n",
      "1/1 [==============================] - 0s 1ms/step - loss: 1.7000e-19 - acc: 1.0000\n"
     ]
    },
    {
     "data": {
      "text/plain": [
       "<tensorflow.python.keras.callbacks.History at 0x7ff3575dd750>"
      ]
     },
     "execution_count": 17,
     "metadata": {},
     "output_type": "execute_result"
    }
   ],
   "source": [
    "model.fit(train_data, epochs=8)"
   ]
  },
  {
   "cell_type": "code",
   "execution_count": 18,
   "metadata": {},
   "outputs": [
    {
     "name": "stdout",
     "output_type": "stream",
     "text": [
      "Found 6 images belonging to 2 classes.\n"
     ]
    }
   ],
   "source": [
    "test_data = train_data_gen.flow_from_directory(\n",
    "    \"./test\",\n",
    "    target_size=(150,150),\n",
    "    batch_size=20,\n",
    "    class_mode='binary'\n",
    ")"
   ]
  },
  {
   "cell_type": "code",
   "execution_count": 19,
   "metadata": {},
   "outputs": [
    {
     "data": {
      "text/plain": [
       "array([[0.0000000e+00],\n",
       "       [7.6755850e-29],\n",
       "       [1.0000000e+00],\n",
       "       [1.3177405e-27],\n",
       "       [1.0000000e+00],\n",
       "       [1.0000000e+00]], dtype=float32)"
      ]
     },
     "execution_count": 19,
     "metadata": {},
     "output_type": "execute_result"
    }
   ],
   "source": [
    "model.predict(test_data)"
   ]
  },
  {
   "cell_type": "code",
   "execution_count": 21,
   "metadata": {},
   "outputs": [
    {
     "data": {
      "text/plain": [
       "array([['Dog'],\n",
       "       ['Dog'],\n",
       "       ['Dog'],\n",
       "       ['Cat'],\n",
       "       ['Dog'],\n",
       "       ['Dog']], dtype='<U3')"
      ]
     },
     "execution_count": 21,
     "metadata": {},
     "output_type": "execute_result"
    }
   ],
   "source": [
    "import numpy as np\n",
    "np.where(model.predict(test_data)>0,\"Dog\",\"Cat\")"
   ]
  },
  {
   "cell_type": "code",
   "execution_count": 27,
   "metadata": {},
   "outputs": [
    {
     "data": {
      "text/plain": [
       "array([['Dog'],\n",
       "       ['Dog'],\n",
       "       ['Cat'],\n",
       "       ['Dog'],\n",
       "       ['Dog'],\n",
       "       ['Dog']], dtype='<U3')"
      ]
     },
     "execution_count": 27,
     "metadata": {},
     "output_type": "execute_result"
    }
   ],
   "source": [
    "np.where(model.predict(test_data)>0,\"Dog\",\"Cat\")"
   ]
  },
  {
   "cell_type": "code",
   "execution_count": null,
   "metadata": {},
   "outputs": [],
   "source": []
  }
 ],
 "metadata": {
  "kernelspec": {
   "display_name": "Python 3",
   "language": "python",
   "name": "python3"
  },
  "language_info": {
   "codemirror_mode": {
    "name": "ipython",
    "version": 3
   },
   "file_extension": ".py",
   "mimetype": "text/x-python",
   "name": "python",
   "nbconvert_exporter": "python",
   "pygments_lexer": "ipython3",
   "version": "3.7.6"
  }
 },
 "nbformat": 4,
 "nbformat_minor": 4
}
