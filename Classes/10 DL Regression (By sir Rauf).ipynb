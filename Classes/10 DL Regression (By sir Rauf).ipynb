{
 "cells": [
  {
   "cell_type": "markdown",
   "metadata": {},
   "source": [
    "https://marktechpost.com/2019/06/17/regression-with-keras-deep-learning-with-keras-part-3/?cn-reloaded=1&cn-reloaded=1"
   ]
  },
  {
   "cell_type": "markdown",
   "metadata": {},
   "source": [
    "# Loading Data"
   ]
  },
  {
   "cell_type": "code",
   "execution_count": 2,
   "metadata": {},
   "outputs": [
    {
     "name": "stdout",
     "output_type": "stream",
     "text": [
      "Downloading data from https://storage.googleapis.com/tensorflow/tf-keras-datasets/boston_housing.npz\n",
      "57344/57026 [==============================] - 0s 2us/step\n"
     ]
    }
   ],
   "source": [
    "from tensorflow.keras.datasets import boston_housing as bh\n",
    "(X_train, Y_train), (X_test, Y_test) = bh.load_data()"
   ]
  },
  {
   "cell_type": "code",
   "execution_count": 3,
   "metadata": {},
   "outputs": [
    {
     "name": "stdout",
     "output_type": "stream",
     "text": [
      "[  1.23247   0.        8.14      0.        0.538     6.142    91.7\n",
      "   3.9769    4.      307.       21.      396.9      18.72   ] 15.2\n"
     ]
    }
   ],
   "source": [
    "# let us view on sample from the features \n",
    "print(X_train[0], Y_train[0])\n",
    "# output (array([ 1.23247, 0. , 8.14 , 8. 91.7 , 3.9769 , 4 ,, 307. 18.72 ]). 15.2) "
   ]
  },
  {
   "cell_type": "markdown",
   "metadata": {},
   "source": [
    "# Preprocessing"
   ]
  },
  {
   "cell_type": "code",
   "execution_count": 4,
   "metadata": {},
   "outputs": [
    {
     "name": "stdout",
     "output_type": "stream",
     "text": [
      "[-0.27224633 -0.48361547 -0.43576161 -0.25683275 -0.1652266  -0.1764426\n",
      "  0.81306188  0.1166983  -0.62624905 -0.59517003  1.14850044  0.44807713\n",
      "  0.8252202 ]\n"
     ]
    }
   ],
   "source": [
    "from sklearn.preprocessing import StandardScaler\n",
    "scaler=StandardScaler()\n",
    "\n",
    "# first we fit the scaler on the training dataset\n",
    "scaler.fit(X_train) \n",
    "\n",
    "# then we call the transform method to scale both the\n",
    "X_train_scaled = scaler.transform(X_train)\n",
    "X_test_scaled = scaler.transform(X_test) \n",
    "\n",
    "# a sample output\n",
    "print(X_train_scaled[0]) \n",
    "# array((-8.27224633, -0.48361547, -0.43576161, -0.2E 4 -0.1764426 , 0.81306188, 0.1166983 , -0.626: 4 1.14858844, 0.44807713, 0.8252282 ]) \n"
   ]
  },
  {
   "cell_type": "markdown",
   "metadata": {},
   "source": [
    "# Building the Model"
   ]
  },
  {
   "cell_type": "code",
   "execution_count": 5,
   "metadata": {},
   "outputs": [],
   "source": [
    "from tensorflow.keras import models, layers"
   ]
  },
  {
   "cell_type": "code",
   "execution_count": 6,
   "metadata": {},
   "outputs": [],
   "source": [
    "model = models.Sequential()"
   ]
  },
  {
   "cell_type": "code",
   "execution_count": 7,
   "metadata": {},
   "outputs": [],
   "source": [
    "model.add(layers.Dense(8, activation='relu',input_shape=[X_train.shape[1]]))\n",
    "model.add(layers.Dense(16, activation='relu'))"
   ]
  },
  {
   "cell_type": "code",
   "execution_count": 8,
   "metadata": {},
   "outputs": [],
   "source": [
    "model.add(layers.Dense(1))"
   ]
  },
  {
   "cell_type": "markdown",
   "metadata": {},
   "source": [
    "# Compile the Model"
   ]
  },
  {
   "cell_type": "code",
   "execution_count": 9,
   "metadata": {},
   "outputs": [],
   "source": [
    "model.compile(optimizer='rmsprop', loss='mse', metrics=['mae'])"
   ]
  },
  {
   "cell_type": "markdown",
   "metadata": {},
   "source": [
    "# Model Training"
   ]
  },
  {
   "cell_type": "code",
   "execution_count": 10,
   "metadata": {
    "scrolled": true
   },
   "outputs": [
    {
     "name": "stdout",
     "output_type": "stream",
     "text": [
      "Epoch 1/100\n",
      "11/11 [==============================] - 0s 13ms/step - loss: 573.2657 - mae: 22.1316 - val_loss: 637.1142 - val_mae: 23.5237\n",
      "Epoch 2/100\n",
      "11/11 [==============================] - 0s 5ms/step - loss: 557.6976 - mae: 21.8382 - val_loss: 623.2751 - val_mae: 23.2639\n",
      "Epoch 3/100\n",
      "11/11 [==============================] - 0s 6ms/step - loss: 544.1769 - mae: 21.5804 - val_loss: 610.3408 - val_mae: 23.0179\n",
      "Epoch 4/100\n",
      "11/11 [==============================] - 0s 5ms/step - loss: 531.2658 - mae: 21.3249 - val_loss: 596.7344 - val_mae: 22.7547\n",
      "Epoch 5/100\n",
      "11/11 [==============================] - 0s 5ms/step - loss: 517.7283 - mae: 21.0593 - val_loss: 583.6944 - val_mae: 22.4965\n",
      "Epoch 6/100\n",
      "11/11 [==============================] - 0s 4ms/step - loss: 504.7134 - mae: 20.7976 - val_loss: 570.5103 - val_mae: 22.2294\n",
      "Epoch 7/100\n",
      "11/11 [==============================] - 0s 6ms/step - loss: 491.6586 - mae: 20.5268 - val_loss: 556.7890 - val_mae: 21.9453\n",
      "Epoch 8/100\n",
      "11/11 [==============================] - 0s 3ms/step - loss: 477.8502 - mae: 20.2346 - val_loss: 543.0546 - val_mae: 21.6535\n",
      "Epoch 9/100\n",
      "11/11 [==============================] - 0s 6ms/step - loss: 464.3073 - mae: 19.9347 - val_loss: 528.3390 - val_mae: 21.3328\n",
      "Epoch 10/100\n",
      "11/11 [==============================] - 0s 5ms/step - loss: 449.7621 - mae: 19.6092 - val_loss: 513.7456 - val_mae: 21.0074\n",
      "Epoch 11/100\n",
      "11/11 [==============================] - 0s 3ms/step - loss: 435.0644 - mae: 19.2711 - val_loss: 497.5877 - val_mae: 20.6396\n",
      "Epoch 12/100\n",
      "11/11 [==============================] - 0s 4ms/step - loss: 419.6269 - mae: 18.9003 - val_loss: 481.4062 - val_mae: 20.2575\n",
      "Epoch 13/100\n",
      "11/11 [==============================] - 0s 5ms/step - loss: 403.5912 - mae: 18.5091 - val_loss: 465.8566 - val_mae: 19.8783\n",
      "Epoch 14/100\n",
      "11/11 [==============================] - 0s 4ms/step - loss: 388.1310 - mae: 18.1190 - val_loss: 447.4854 - val_mae: 19.4183\n",
      "Epoch 15/100\n",
      "11/11 [==============================] - 0s 3ms/step - loss: 370.8974 - mae: 17.6623 - val_loss: 431.3047 - val_mae: 18.9961\n",
      "Epoch 16/100\n",
      "11/11 [==============================] - 0s 5ms/step - loss: 354.9478 - mae: 17.2257 - val_loss: 413.0080 - val_mae: 18.5023\n",
      "Epoch 17/100\n",
      "11/11 [==============================] - 0s 3ms/step - loss: 337.5428 - mae: 16.7261 - val_loss: 395.3245 - val_mae: 18.0051\n",
      "Epoch 18/100\n",
      "11/11 [==============================] - 0s 6ms/step - loss: 320.7384 - mae: 16.2171 - val_loss: 375.2258 - val_mae: 17.4160\n",
      "Epoch 19/100\n",
      "11/11 [==============================] - 0s 5ms/step - loss: 302.3550 - mae: 15.6439 - val_loss: 356.2821 - val_mae: 16.8256\n",
      "Epoch 20/100\n",
      "11/11 [==============================] - 0s 5ms/step - loss: 284.9154 - mae: 15.0492 - val_loss: 337.7782 - val_mae: 16.2237\n",
      "Epoch 21/100\n",
      "11/11 [==============================] - 0s 3ms/step - loss: 267.8231 - mae: 14.4796 - val_loss: 317.3947 - val_mae: 15.5097\n",
      "Epoch 22/100\n",
      "11/11 [==============================] - 0s 5ms/step - loss: 250.3845 - mae: 13.8532 - val_loss: 299.7357 - val_mae: 14.8907\n",
      "Epoch 23/100\n",
      "11/11 [==============================] - 0s 4ms/step - loss: 234.9797 - mae: 13.2749 - val_loss: 283.9709 - val_mae: 14.3220\n",
      "Epoch 24/100\n",
      "11/11 [==============================] - 0s 5ms/step - loss: 220.6423 - mae: 12.7245 - val_loss: 267.2335 - val_mae: 13.7146\n",
      "Epoch 25/100\n",
      "11/11 [==============================] - 0s 4ms/step - loss: 206.2920 - mae: 12.1579 - val_loss: 250.3150 - val_mae: 13.0894\n",
      "Epoch 26/100\n",
      "11/11 [==============================] - 0s 6ms/step - loss: 192.2988 - mae: 11.6091 - val_loss: 235.2508 - val_mae: 12.5426\n",
      "Epoch 27/100\n",
      "11/11 [==============================] - 0s 4ms/step - loss: 179.8468 - mae: 11.1478 - val_loss: 219.8621 - val_mae: 11.9959\n",
      "Epoch 28/100\n",
      "11/11 [==============================] - 0s 5ms/step - loss: 167.7109 - mae: 10.6853 - val_loss: 206.4697 - val_mae: 11.5223\n",
      "Epoch 29/100\n",
      "11/11 [==============================] - 0s 3ms/step - loss: 157.1386 - mae: 10.2637 - val_loss: 193.2108 - val_mae: 11.0701\n",
      "Epoch 30/100\n",
      "11/11 [==============================] - 0s 5ms/step - loss: 146.8756 - mae: 9.8610 - val_loss: 180.1601 - val_mae: 10.5885\n",
      "Epoch 31/100\n",
      "11/11 [==============================] - 0s 3ms/step - loss: 137.4606 - mae: 9.4725 - val_loss: 170.1886 - val_mae: 10.2422\n",
      "Epoch 32/100\n",
      "11/11 [==============================] - 0s 7ms/step - loss: 129.4673 - mae: 9.1478 - val_loss: 160.3591 - val_mae: 9.9051\n",
      "Epoch 33/100\n",
      "11/11 [==============================] - 0s 4ms/step - loss: 122.1974 - mae: 8.8368 - val_loss: 151.7715 - val_mae: 9.6150\n",
      "Epoch 34/100\n",
      "11/11 [==============================] - 0s 5ms/step - loss: 115.5582 - mae: 8.5489 - val_loss: 143.2256 - val_mae: 9.3433\n",
      "Epoch 35/100\n",
      "11/11 [==============================] - 0s 3ms/step - loss: 109.2502 - mae: 8.2533 - val_loss: 134.8677 - val_mae: 9.0556\n",
      "Epoch 36/100\n",
      "11/11 [==============================] - 0s 5ms/step - loss: 102.9152 - mae: 7.9669 - val_loss: 127.6282 - val_mae: 8.7493\n",
      "Epoch 37/100\n",
      "11/11 [==============================] - 0s 3ms/step - loss: 97.7633 - mae: 7.7601 - val_loss: 121.3566 - val_mae: 8.5087\n",
      "Epoch 38/100\n",
      "11/11 [==============================] - 0s 3ms/step - loss: 93.0636 - mae: 7.5647 - val_loss: 114.2241 - val_mae: 8.2487\n",
      "Epoch 39/100\n",
      "11/11 [==============================] - 0s 5ms/step - loss: 87.8804 - mae: 7.3214 - val_loss: 106.1663 - val_mae: 7.9447\n",
      "Epoch 40/100\n",
      "11/11 [==============================] - 0s 5ms/step - loss: 82.6197 - mae: 7.0957 - val_loss: 100.5223 - val_mae: 7.7148\n",
      "Epoch 41/100\n",
      "11/11 [==============================] - 0s 5ms/step - loss: 78.2370 - mae: 6.8970 - val_loss: 94.2483 - val_mae: 7.4493\n",
      "Epoch 42/100\n",
      "11/11 [==============================] - 0s 3ms/step - loss: 73.5359 - mae: 6.6691 - val_loss: 88.5945 - val_mae: 7.1994\n",
      "Epoch 43/100\n",
      "11/11 [==============================] - 0s 5ms/step - loss: 69.2341 - mae: 6.4730 - val_loss: 82.2738 - val_mae: 6.9684\n",
      "Epoch 44/100\n",
      "11/11 [==============================] - 0s 3ms/step - loss: 64.7148 - mae: 6.2525 - val_loss: 76.1510 - val_mae: 6.7329\n",
      "Epoch 45/100\n",
      "11/11 [==============================] - 0s 4ms/step - loss: 60.5470 - mae: 6.0454 - val_loss: 70.9698 - val_mae: 6.5214\n",
      "Epoch 46/100\n",
      "11/11 [==============================] - 0s 4ms/step - loss: 56.8866 - mae: 5.8452 - val_loss: 66.6588 - val_mae: 6.2917\n",
      "Epoch 47/100\n",
      "11/11 [==============================] - 0s 3ms/step - loss: 53.5103 - mae: 5.6639 - val_loss: 61.6312 - val_mae: 6.0551\n",
      "Epoch 48/100\n",
      "11/11 [==============================] - 0s 5ms/step - loss: 50.0770 - mae: 5.4689 - val_loss: 57.6946 - val_mae: 5.8447\n",
      "Epoch 49/100\n",
      "11/11 [==============================] - 0s 3ms/step - loss: 46.9424 - mae: 5.2538 - val_loss: 53.5392 - val_mae: 5.6272\n",
      "Epoch 50/100\n",
      "11/11 [==============================] - 0s 5ms/step - loss: 44.0912 - mae: 5.0790 - val_loss: 49.7783 - val_mae: 5.4236\n",
      "Epoch 51/100\n",
      "11/11 [==============================] - 0s 3ms/step - loss: 41.6031 - mae: 4.9183 - val_loss: 46.6223 - val_mae: 5.2317\n",
      "Epoch 52/100\n",
      "11/11 [==============================] - 0s 5ms/step - loss: 39.2584 - mae: 4.7385 - val_loss: 43.1229 - val_mae: 5.0220\n",
      "Epoch 53/100\n",
      "11/11 [==============================] - 0s 3ms/step - loss: 36.9820 - mae: 4.5731 - val_loss: 40.7704 - val_mae: 4.8728\n",
      "Epoch 54/100\n",
      "11/11 [==============================] - 0s 4ms/step - loss: 35.0487 - mae: 4.4189 - val_loss: 37.9639 - val_mae: 4.7281\n",
      "Epoch 55/100\n",
      "11/11 [==============================] - 0s 4ms/step - loss: 33.3294 - mae: 4.2897 - val_loss: 35.8425 - val_mae: 4.5862\n",
      "Epoch 56/100\n",
      "11/11 [==============================] - 0s 3ms/step - loss: 31.9481 - mae: 4.1783 - val_loss: 34.4168 - val_mae: 4.4882\n",
      "Epoch 57/100\n",
      "11/11 [==============================] - 0s 5ms/step - loss: 30.8572 - mae: 4.0665 - val_loss: 32.5318 - val_mae: 4.4152\n",
      "Epoch 58/100\n",
      "11/11 [==============================] - 0s 3ms/step - loss: 29.7952 - mae: 3.9858 - val_loss: 31.3908 - val_mae: 4.3317\n",
      "Epoch 59/100\n",
      "11/11 [==============================] - 0s 5ms/step - loss: 28.8969 - mae: 3.8870 - val_loss: 29.9302 - val_mae: 4.2158\n",
      "Epoch 60/100\n",
      "11/11 [==============================] - 0s 3ms/step - loss: 28.0717 - mae: 3.8082 - val_loss: 28.4530 - val_mae: 4.1542\n",
      "Epoch 61/100\n"
     ]
    },
    {
     "name": "stdout",
     "output_type": "stream",
     "text": [
      "11/11 [==============================] - 0s 4ms/step - loss: 27.2328 - mae: 3.7544 - val_loss: 27.3418 - val_mae: 4.0884\n",
      "Epoch 62/100\n",
      "11/11 [==============================] - 0s 6ms/step - loss: 26.6753 - mae: 3.7188 - val_loss: 26.4842 - val_mae: 3.9983\n",
      "Epoch 63/100\n",
      "11/11 [==============================] - 0s 5ms/step - loss: 26.0574 - mae: 3.6276 - val_loss: 25.8854 - val_mae: 3.9323\n",
      "Epoch 64/100\n",
      "11/11 [==============================] - 0s 3ms/step - loss: 25.5364 - mae: 3.5611 - val_loss: 25.0665 - val_mae: 3.8883\n",
      "Epoch 65/100\n",
      "11/11 [==============================] - 0s 4ms/step - loss: 25.0371 - mae: 3.5393 - val_loss: 24.6232 - val_mae: 3.8370\n",
      "Epoch 66/100\n",
      "11/11 [==============================] - 0s 3ms/step - loss: 24.5627 - mae: 3.4783 - val_loss: 24.1184 - val_mae: 3.7991\n",
      "Epoch 67/100\n",
      "11/11 [==============================] - 0s 4ms/step - loss: 24.1157 - mae: 3.4579 - val_loss: 23.7325 - val_mae: 3.7590\n",
      "Epoch 68/100\n",
      "11/11 [==============================] - 0s 4ms/step - loss: 23.7641 - mae: 3.4329 - val_loss: 23.5179 - val_mae: 3.7333\n",
      "Epoch 69/100\n",
      "11/11 [==============================] - 0s 2ms/step - loss: 23.3371 - mae: 3.3835 - val_loss: 22.9931 - val_mae: 3.6600\n",
      "Epoch 70/100\n",
      "11/11 [==============================] - 0s 6ms/step - loss: 22.9678 - mae: 3.3012 - val_loss: 22.4984 - val_mae: 3.6185\n",
      "Epoch 71/100\n",
      "11/11 [==============================] - 0s 4ms/step - loss: 22.6307 - mae: 3.3065 - val_loss: 22.2300 - val_mae: 3.5994\n",
      "Epoch 72/100\n",
      "11/11 [==============================] - 0s 6ms/step - loss: 22.3943 - mae: 3.3151 - val_loss: 22.0201 - val_mae: 3.5778\n",
      "Epoch 73/100\n",
      "11/11 [==============================] - 0s 5ms/step - loss: 21.9612 - mae: 3.2836 - val_loss: 21.7228 - val_mae: 3.5390\n",
      "Epoch 74/100\n",
      "11/11 [==============================] - 0s 3ms/step - loss: 21.7015 - mae: 3.2314 - val_loss: 21.4390 - val_mae: 3.5233\n",
      "Epoch 75/100\n",
      "11/11 [==============================] - 0s 5ms/step - loss: 21.3620 - mae: 3.2557 - val_loss: 21.2665 - val_mae: 3.4965\n",
      "Epoch 76/100\n",
      "11/11 [==============================] - 0s 5ms/step - loss: 20.9940 - mae: 3.2073 - val_loss: 20.9816 - val_mae: 3.4556\n",
      "Epoch 77/100\n",
      "11/11 [==============================] - 0s 3ms/step - loss: 20.7909 - mae: 3.1683 - val_loss: 20.8665 - val_mae: 3.4595\n",
      "Epoch 78/100\n",
      "11/11 [==============================] - 0s 4ms/step - loss: 20.4343 - mae: 3.1696 - val_loss: 20.8308 - val_mae: 3.4575\n",
      "Epoch 79/100\n",
      "11/11 [==============================] - 0s 3ms/step - loss: 20.2668 - mae: 3.1505 - val_loss: 20.6277 - val_mae: 3.4332\n",
      "Epoch 80/100\n",
      "11/11 [==============================] - 0s 4ms/step - loss: 20.0890 - mae: 3.1411 - val_loss: 20.5276 - val_mae: 3.4047\n",
      "Epoch 81/100\n",
      "11/11 [==============================] - 0s 3ms/step - loss: 19.7672 - mae: 3.0697 - val_loss: 20.3503 - val_mae: 3.4075\n",
      "Epoch 82/100\n",
      "11/11 [==============================] - 0s 7ms/step - loss: 19.5622 - mae: 3.0855 - val_loss: 20.0674 - val_mae: 3.3582\n",
      "Epoch 83/100\n",
      "11/11 [==============================] - 0s 8ms/step - loss: 19.2460 - mae: 3.0286 - val_loss: 19.9390 - val_mae: 3.3392\n",
      "Epoch 84/100\n",
      "11/11 [==============================] - 0s 10ms/step - loss: 18.9936 - mae: 3.0155 - val_loss: 19.8977 - val_mae: 3.3193\n",
      "Epoch 85/100\n",
      "11/11 [==============================] - 0s 8ms/step - loss: 18.7203 - mae: 2.9449 - val_loss: 19.7814 - val_mae: 3.3276\n",
      "Epoch 86/100\n",
      "11/11 [==============================] - 0s 8ms/step - loss: 18.4640 - mae: 2.9591 - val_loss: 19.4829 - val_mae: 3.2891\n",
      "Epoch 87/100\n",
      "11/11 [==============================] - 0s 7ms/step - loss: 18.1518 - mae: 2.9369 - val_loss: 19.3230 - val_mae: 3.2651\n",
      "Epoch 88/100\n",
      "11/11 [==============================] - 0s 7ms/step - loss: 17.9242 - mae: 2.9049 - val_loss: 19.2623 - val_mae: 3.2558\n",
      "Epoch 89/100\n",
      "11/11 [==============================] - 0s 10ms/step - loss: 17.7696 - mae: 2.8964 - val_loss: 19.2150 - val_mae: 3.2633\n",
      "Epoch 90/100\n",
      "11/11 [==============================] - 0s 4ms/step - loss: 17.5739 - mae: 2.8514 - val_loss: 18.7693 - val_mae: 3.2062\n",
      "Epoch 91/100\n",
      "11/11 [==============================] - 0s 5ms/step - loss: 17.3229 - mae: 2.8382 - val_loss: 18.6098 - val_mae: 3.2013\n",
      "Epoch 92/100\n",
      "11/11 [==============================] - 0s 5ms/step - loss: 17.0683 - mae: 2.8287 - val_loss: 18.7461 - val_mae: 3.2171\n",
      "Epoch 93/100\n",
      "11/11 [==============================] - 0s 4ms/step - loss: 16.8643 - mae: 2.8403 - val_loss: 18.3858 - val_mae: 3.1645\n",
      "Epoch 94/100\n",
      "11/11 [==============================] - 0s 4ms/step - loss: 16.7180 - mae: 2.7821 - val_loss: 18.3352 - val_mae: 3.1412\n",
      "Epoch 95/100\n",
      "11/11 [==============================] - 0s 6ms/step - loss: 16.5529 - mae: 2.7540 - val_loss: 18.3352 - val_mae: 3.1448\n",
      "Epoch 96/100\n",
      "11/11 [==============================] - 0s 5ms/step - loss: 16.3391 - mae: 2.7666 - val_loss: 18.2869 - val_mae: 3.1128\n",
      "Epoch 97/100\n",
      "11/11 [==============================] - 0s 5ms/step - loss: 16.2379 - mae: 2.7125 - val_loss: 18.1980 - val_mae: 3.1035\n",
      "Epoch 98/100\n",
      "11/11 [==============================] - 0s 4ms/step - loss: 15.9633 - mae: 2.7109 - val_loss: 18.1663 - val_mae: 3.1026\n",
      "Epoch 99/100\n",
      "11/11 [==============================] - 0s 5ms/step - loss: 15.7459 - mae: 2.6798 - val_loss: 17.9975 - val_mae: 3.0692\n",
      "Epoch 100/100\n",
      "11/11 [==============================] - 0s 3ms/step - loss: 15.5517 - mae: 2.6589 - val_loss: 17.8984 - val_mae: 3.0600\n"
     ]
    }
   ],
   "source": [
    "history = model.fit(X_train_scaled, Y_train, validation_split=0.2, epochs=100)"
   ]
  },
  {
   "cell_type": "markdown",
   "metadata": {},
   "source": [
    "# Evaluation on Test Data"
   ]
  },
  {
   "cell_type": "code",
   "execution_count": 11,
   "metadata": {},
   "outputs": [
    {
     "name": "stdout",
     "output_type": "stream",
     "text": [
      "4/4 [==============================] - 0s 1ms/step - loss: 23.1343 - mae: 3.4513\n"
     ]
    },
    {
     "data": {
      "text/plain": [
       "[23.134262084960938, 3.451300859451294]"
      ]
     },
     "execution_count": 11,
     "metadata": {},
     "output_type": "execute_result"
    }
   ],
   "source": [
    "model.evaluate(X_test_scaled, Y_test)"
   ]
  },
  {
   "cell_type": "markdown",
   "metadata": {},
   "source": [
    "# Model Prediction"
   ]
  },
  {
   "cell_type": "code",
   "execution_count": 12,
   "metadata": {},
   "outputs": [
    {
     "name": "stdout",
     "output_type": "stream",
     "text": [
      "[[15.298022]\n",
      " [40.136356]]\n"
     ]
    }
   ],
   "source": [
    "# we get a sample data (the first 2 inputs from the training data)\n",
    "to_predict= X_train_scaled[:2]\n",
    "# we call the predict method\n",
    "predictions = model.predict(to_predict)\n",
    "# print the predictions\n",
    "print(predictions)"
   ]
  },
  {
   "cell_type": "code",
   "execution_count": 13,
   "metadata": {},
   "outputs": [
    {
     "name": "stdout",
     "output_type": "stream",
     "text": [
      "[15.2 42.3]\n"
     ]
    }
   ],
   "source": [
    "print(Y_train[:2])"
   ]
  },
  {
   "cell_type": "code",
   "execution_count": 14,
   "metadata": {},
   "outputs": [
    {
     "data": {
      "text/plain": [
       "(404, 13)"
      ]
     },
     "execution_count": 14,
     "metadata": {},
     "output_type": "execute_result"
    }
   ],
   "source": [
    "X_train.shape"
   ]
  },
  {
   "cell_type": "code",
   "execution_count": 15,
   "metadata": {},
   "outputs": [
    {
     "data": {
      "text/plain": [
       "13"
      ]
     },
     "execution_count": 15,
     "metadata": {},
     "output_type": "execute_result"
    }
   ],
   "source": [
    "X_train.shape[1]"
   ]
  },
  {
   "cell_type": "code",
   "execution_count": null,
   "metadata": {},
   "outputs": [],
   "source": []
  }
 ],
 "metadata": {
  "kernelspec": {
   "display_name": "Python 3",
   "language": "python",
   "name": "python3"
  },
  "language_info": {
   "codemirror_mode": {
    "name": "ipython",
    "version": 3
   },
   "file_extension": ".py",
   "mimetype": "text/x-python",
   "name": "python",
   "nbconvert_exporter": "python",
   "pygments_lexer": "ipython3",
   "version": "3.8.3"
  }
 },
 "nbformat": 4,
 "nbformat_minor": 4
}
