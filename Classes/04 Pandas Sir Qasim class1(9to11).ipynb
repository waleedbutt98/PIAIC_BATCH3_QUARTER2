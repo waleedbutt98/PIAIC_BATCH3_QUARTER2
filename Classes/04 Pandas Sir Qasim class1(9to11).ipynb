{
 "cells": [
  {
   "cell_type": "code",
   "execution_count": 1,
   "metadata": {},
   "outputs": [
    {
     "name": "stderr",
     "output_type": "stream",
     "text": [
      "/home/muhammadqasim/anaconda3/lib/python3.7/importlib/_bootstrap.py:219: RuntimeWarning: numpy.ufunc size changed, may indicate binary incompatibility. Expected 192 from C header, got 216 from PyObject\n",
      "  return f(*args, **kwds)\n"
     ]
    }
   ],
   "source": [
    "import numpy as np\n",
    "import pandas as pd\n",
    "import matplotlib.pyplot as plt"
   ]
  },
  {
   "cell_type": "code",
   "execution_count": 5,
   "metadata": {},
   "outputs": [
    {
     "data": {
      "text/html": [
       "<div>\n",
       "<style scoped>\n",
       "    .dataframe tbody tr th:only-of-type {\n",
       "        vertical-align: middle;\n",
       "    }\n",
       "\n",
       "    .dataframe tbody tr th {\n",
       "        vertical-align: top;\n",
       "    }\n",
       "\n",
       "    .dataframe thead th {\n",
       "        text-align: right;\n",
       "    }\n",
       "</style>\n",
       "<table border=\"1\" class=\"dataframe\">\n",
       "  <thead>\n",
       "    <tr style=\"text-align: right;\">\n",
       "      <th></th>\n",
       "      <th>A</th>\n",
       "      <th>B</th>\n",
       "      <th>C</th>\n",
       "    </tr>\n",
       "  </thead>\n",
       "  <tbody>\n",
       "    <tr>\n",
       "      <th>0</th>\n",
       "      <td>1</td>\n",
       "      <td>2.0</td>\n",
       "      <td>3</td>\n",
       "    </tr>\n",
       "    <tr>\n",
       "      <th>1</th>\n",
       "      <td>4</td>\n",
       "      <td>5.0</td>\n",
       "      <td>6</td>\n",
       "    </tr>\n",
       "    <tr>\n",
       "      <th>2</th>\n",
       "      <td>6</td>\n",
       "      <td>8.0</td>\n",
       "      <td>8</td>\n",
       "    </tr>\n",
       "    <tr>\n",
       "      <th>3</th>\n",
       "      <td>5</td>\n",
       "      <td>NaN</td>\n",
       "      <td>9</td>\n",
       "    </tr>\n",
       "  </tbody>\n",
       "</table>\n",
       "</div>"
      ],
      "text/plain": [
       "   A    B  C\n",
       "0  1  2.0  3\n",
       "1  4  5.0  6\n",
       "2  6  8.0  8\n",
       "3  5  NaN  9"
      ]
     },
     "execution_count": 5,
     "metadata": {},
     "output_type": "execute_result"
    }
   ],
   "source": [
    "df = pd.read_csv(\"./data/abc.csv\", encoding='cp1252') #utf-8\n",
    "df.head(10)"
   ]
  },
  {
   "cell_type": "code",
   "execution_count": 6,
   "metadata": {},
   "outputs": [
    {
     "data": {
      "text/html": [
       "<div>\n",
       "<style scoped>\n",
       "    .dataframe tbody tr th:only-of-type {\n",
       "        vertical-align: middle;\n",
       "    }\n",
       "\n",
       "    .dataframe tbody tr th {\n",
       "        vertical-align: top;\n",
       "    }\n",
       "\n",
       "    .dataframe thead th {\n",
       "        text-align: right;\n",
       "    }\n",
       "</style>\n",
       "<table border=\"1\" class=\"dataframe\">\n",
       "  <thead>\n",
       "    <tr style=\"text-align: right;\">\n",
       "      <th></th>\n",
       "      <th>A</th>\n",
       "      <th>B</th>\n",
       "      <th>C</th>\n",
       "    </tr>\n",
       "  </thead>\n",
       "  <tbody>\n",
       "    <tr>\n",
       "      <th>0</th>\n",
       "      <td>1</td>\n",
       "      <td>2.0</td>\n",
       "      <td>3</td>\n",
       "    </tr>\n",
       "    <tr>\n",
       "      <th>1</th>\n",
       "      <td>4</td>\n",
       "      <td>5.0</td>\n",
       "      <td>6</td>\n",
       "    </tr>\n",
       "    <tr>\n",
       "      <th>2</th>\n",
       "      <td>6</td>\n",
       "      <td>8.0</td>\n",
       "      <td>8</td>\n",
       "    </tr>\n",
       "    <tr>\n",
       "      <th>3</th>\n",
       "      <td>5</td>\n",
       "      <td>NaN</td>\n",
       "      <td>9</td>\n",
       "    </tr>\n",
       "  </tbody>\n",
       "</table>\n",
       "</div>"
      ],
      "text/plain": [
       "   A    B  C\n",
       "0  1  2.0  3\n",
       "1  4  5.0  6\n",
       "2  6  8.0  8\n",
       "3  5  NaN  9"
      ]
     },
     "execution_count": 6,
     "metadata": {},
     "output_type": "execute_result"
    }
   ],
   "source": [
    "df = pd.read_excel(\"./data/abc.xlsx\")\n",
    "df.head(10)"
   ]
  },
  {
   "cell_type": "code",
   "execution_count": 7,
   "metadata": {},
   "outputs": [
    {
     "data": {
      "text/html": [
       "<div>\n",
       "<style scoped>\n",
       "    .dataframe tbody tr th:only-of-type {\n",
       "        vertical-align: middle;\n",
       "    }\n",
       "\n",
       "    .dataframe tbody tr th {\n",
       "        vertical-align: top;\n",
       "    }\n",
       "\n",
       "    .dataframe thead th {\n",
       "        text-align: right;\n",
       "    }\n",
       "</style>\n",
       "<table border=\"1\" class=\"dataframe\">\n",
       "  <thead>\n",
       "    <tr style=\"text-align: right;\">\n",
       "      <th></th>\n",
       "      <th>A</th>\n",
       "      <th>B</th>\n",
       "      <th>C</th>\n",
       "    </tr>\n",
       "  </thead>\n",
       "  <tbody>\n",
       "    <tr>\n",
       "      <th>0</th>\n",
       "      <td>1</td>\n",
       "      <td>2.0</td>\n",
       "      <td>3</td>\n",
       "    </tr>\n",
       "    <tr>\n",
       "      <th>1</th>\n",
       "      <td>4</td>\n",
       "      <td>5.0</td>\n",
       "      <td>6</td>\n",
       "    </tr>\n",
       "    <tr>\n",
       "      <th>2</th>\n",
       "      <td>6</td>\n",
       "      <td>8.0</td>\n",
       "      <td>8</td>\n",
       "    </tr>\n",
       "    <tr>\n",
       "      <th>3</th>\n",
       "      <td>5</td>\n",
       "      <td>NaN</td>\n",
       "      <td>9</td>\n",
       "    </tr>\n",
       "  </tbody>\n",
       "</table>\n",
       "</div>"
      ],
      "text/plain": [
       "   A    B  C\n",
       "0  1  2.0  3\n",
       "1  4  5.0  6\n",
       "2  6  8.0  8\n",
       "3  5  NaN  9"
      ]
     },
     "execution_count": 7,
     "metadata": {},
     "output_type": "execute_result"
    }
   ],
   "source": [
    "df = pd.read_excel(\"./data/abc.xlsx\", sheet_name=\"Sheet1\")\n",
    "df.head(10)"
   ]
  },
  {
   "cell_type": "code",
   "execution_count": 8,
   "metadata": {},
   "outputs": [
    {
     "data": {
      "text/html": [
       "<div>\n",
       "<style scoped>\n",
       "    .dataframe tbody tr th:only-of-type {\n",
       "        vertical-align: middle;\n",
       "    }\n",
       "\n",
       "    .dataframe tbody tr th {\n",
       "        vertical-align: top;\n",
       "    }\n",
       "\n",
       "    .dataframe thead th {\n",
       "        text-align: right;\n",
       "    }\n",
       "</style>\n",
       "<table border=\"1\" class=\"dataframe\">\n",
       "  <thead>\n",
       "    <tr style=\"text-align: right;\">\n",
       "      <th></th>\n",
       "      <th>A</th>\n",
       "      <th>B</th>\n",
       "      <th>C</th>\n",
       "    </tr>\n",
       "  </thead>\n",
       "  <tbody>\n",
       "    <tr>\n",
       "      <th>0</th>\n",
       "      <td>1</td>\n",
       "      <td>2.0</td>\n",
       "      <td>3</td>\n",
       "    </tr>\n",
       "    <tr>\n",
       "      <th>1</th>\n",
       "      <td>4</td>\n",
       "      <td>5.0</td>\n",
       "      <td>6</td>\n",
       "    </tr>\n",
       "    <tr>\n",
       "      <th>2</th>\n",
       "      <td>6</td>\n",
       "      <td>8.0</td>\n",
       "      <td>8</td>\n",
       "    </tr>\n",
       "    <tr>\n",
       "      <th>3</th>\n",
       "      <td>5</td>\n",
       "      <td>NaN</td>\n",
       "      <td>9</td>\n",
       "    </tr>\n",
       "  </tbody>\n",
       "</table>\n",
       "</div>"
      ],
      "text/plain": [
       "   A    B  C\n",
       "0  1  2.0  3\n",
       "1  4  5.0  6\n",
       "2  6  8.0  8\n",
       "3  5  NaN  9"
      ]
     },
     "execution_count": 8,
     "metadata": {},
     "output_type": "execute_result"
    }
   ],
   "source": [
    "df = pd.read_excel(\"./data/abc.xlsx\", sheet_name=0) # sheetName/sheetIndexNo\n",
    "df.head(10)"
   ]
  },
  {
   "cell_type": "code",
   "execution_count": 18,
   "metadata": {},
   "outputs": [
    {
     "data": {
      "text/html": [
       "<div>\n",
       "<style scoped>\n",
       "    .dataframe tbody tr th:only-of-type {\n",
       "        vertical-align: middle;\n",
       "    }\n",
       "\n",
       "    .dataframe tbody tr th {\n",
       "        vertical-align: top;\n",
       "    }\n",
       "\n",
       "    .dataframe thead th {\n",
       "        text-align: right;\n",
       "    }\n",
       "</style>\n",
       "<table border=\"1\" class=\"dataframe\">\n",
       "  <thead>\n",
       "    <tr style=\"text-align: right;\">\n",
       "      <th></th>\n",
       "      <th>A</th>\n",
       "      <th>C</th>\n",
       "    </tr>\n",
       "  </thead>\n",
       "  <tbody>\n",
       "    <tr>\n",
       "      <th>0</th>\n",
       "      <td>1</td>\n",
       "      <td>3</td>\n",
       "    </tr>\n",
       "    <tr>\n",
       "      <th>1</th>\n",
       "      <td>4</td>\n",
       "      <td>6</td>\n",
       "    </tr>\n",
       "    <tr>\n",
       "      <th>2</th>\n",
       "      <td>6</td>\n",
       "      <td>8</td>\n",
       "    </tr>\n",
       "    <tr>\n",
       "      <th>3</th>\n",
       "      <td>5</td>\n",
       "      <td>9</td>\n",
       "    </tr>\n",
       "  </tbody>\n",
       "</table>\n",
       "</div>"
      ],
      "text/plain": [
       "   A  C\n",
       "0  1  3\n",
       "1  4  6\n",
       "2  6  8\n",
       "3  5  9"
      ]
     },
     "execution_count": 18,
     "metadata": {},
     "output_type": "execute_result"
    }
   ],
   "source": [
    "df = pd.read_excel(\"./data/abc.xlsx\", sheet_name=0, usecols=[\"A\",\"C\"]) # sheetName/sheetIndexNo\n",
    "df.head(10)"
   ]
  },
  {
   "cell_type": "code",
   "execution_count": 9,
   "metadata": {},
   "outputs": [
    {
     "data": {
      "text/plain": [
       "[                        Company           Contact  Country\n",
       " 0           Alfreds Futterkiste      Maria Anders  Germany\n",
       " 1    Centro comercial Moctezuma   Francisco Chang   Mexico\n",
       " 2                  Ernst Handel     Roland Mendel  Austria\n",
       " 3                Island Trading     Helen Bennett       UK\n",
       " 4  Laughing Bacchus Winecellars   Yoshi Tannamuri   Canada\n",
       " 5  Magazzini Alimentari Riuniti  Giovanni Rovelli    Italy,\n",
       "           Tag                                        Description\n",
       " 0     <table>                                    Defines a table\n",
       " 1        <th>                   Defines a header cell in a table\n",
       " 2        <tr>                           Defines a row in a table\n",
       " 3        <td>                          Defines a cell in a table\n",
       " 4   <caption>                            Defines a table caption\n",
       " 5  <colgroup>  Specifies a group of one or more columns in a ...\n",
       " 6       <col>  Specifies column properties for each column wi...\n",
       " 7     <thead>               Groups the header content in a table\n",
       " 8     <tbody>                 Groups the body content in a table\n",
       " 9     <tfoot>               Groups the footer content in a table]"
      ]
     },
     "execution_count": 9,
     "metadata": {},
     "output_type": "execute_result"
    }
   ],
   "source": [
    "df = pd.read_html(\"https://www.w3schools.com/html/html_tables.asp\")\n",
    "df"
   ]
  },
  {
   "cell_type": "code",
   "execution_count": 10,
   "metadata": {},
   "outputs": [
    {
     "data": {
      "text/html": [
       "<div>\n",
       "<style scoped>\n",
       "    .dataframe tbody tr th:only-of-type {\n",
       "        vertical-align: middle;\n",
       "    }\n",
       "\n",
       "    .dataframe tbody tr th {\n",
       "        vertical-align: top;\n",
       "    }\n",
       "\n",
       "    .dataframe thead th {\n",
       "        text-align: right;\n",
       "    }\n",
       "</style>\n",
       "<table border=\"1\" class=\"dataframe\">\n",
       "  <thead>\n",
       "    <tr style=\"text-align: right;\">\n",
       "      <th></th>\n",
       "      <th>Company</th>\n",
       "      <th>Contact</th>\n",
       "      <th>Country</th>\n",
       "    </tr>\n",
       "  </thead>\n",
       "  <tbody>\n",
       "    <tr>\n",
       "      <th>0</th>\n",
       "      <td>Alfreds Futterkiste</td>\n",
       "      <td>Maria Anders</td>\n",
       "      <td>Germany</td>\n",
       "    </tr>\n",
       "    <tr>\n",
       "      <th>1</th>\n",
       "      <td>Centro comercial Moctezuma</td>\n",
       "      <td>Francisco Chang</td>\n",
       "      <td>Mexico</td>\n",
       "    </tr>\n",
       "    <tr>\n",
       "      <th>2</th>\n",
       "      <td>Ernst Handel</td>\n",
       "      <td>Roland Mendel</td>\n",
       "      <td>Austria</td>\n",
       "    </tr>\n",
       "    <tr>\n",
       "      <th>3</th>\n",
       "      <td>Island Trading</td>\n",
       "      <td>Helen Bennett</td>\n",
       "      <td>UK</td>\n",
       "    </tr>\n",
       "    <tr>\n",
       "      <th>4</th>\n",
       "      <td>Laughing Bacchus Winecellars</td>\n",
       "      <td>Yoshi Tannamuri</td>\n",
       "      <td>Canada</td>\n",
       "    </tr>\n",
       "    <tr>\n",
       "      <th>5</th>\n",
       "      <td>Magazzini Alimentari Riuniti</td>\n",
       "      <td>Giovanni Rovelli</td>\n",
       "      <td>Italy</td>\n",
       "    </tr>\n",
       "  </tbody>\n",
       "</table>\n",
       "</div>"
      ],
      "text/plain": [
       "                        Company           Contact  Country\n",
       "0           Alfreds Futterkiste      Maria Anders  Germany\n",
       "1    Centro comercial Moctezuma   Francisco Chang   Mexico\n",
       "2                  Ernst Handel     Roland Mendel  Austria\n",
       "3                Island Trading     Helen Bennett       UK\n",
       "4  Laughing Bacchus Winecellars   Yoshi Tannamuri   Canada\n",
       "5  Magazzini Alimentari Riuniti  Giovanni Rovelli    Italy"
      ]
     },
     "execution_count": 10,
     "metadata": {},
     "output_type": "execute_result"
    }
   ],
   "source": [
    "df = pd.read_html(\"https://www.w3schools.com/html/html_tables.asp\")[0]\n",
    "df"
   ]
  },
  {
   "cell_type": "code",
   "execution_count": null,
   "metadata": {},
   "outputs": [],
   "source": []
  },
  {
   "cell_type": "code",
   "execution_count": 13,
   "metadata": {},
   "outputs": [
    {
     "data": {
      "text/html": [
       "<div>\n",
       "<style scoped>\n",
       "    .dataframe tbody tr th:only-of-type {\n",
       "        vertical-align: middle;\n",
       "    }\n",
       "\n",
       "    .dataframe tbody tr th {\n",
       "        vertical-align: top;\n",
       "    }\n",
       "\n",
       "    .dataframe thead th {\n",
       "        text-align: right;\n",
       "    }\n",
       "</style>\n",
       "<table border=\"1\" class=\"dataframe\">\n",
       "  <thead>\n",
       "    <tr style=\"text-align: right;\">\n",
       "      <th></th>\n",
       "      <th>Company</th>\n",
       "      <th>Contact</th>\n",
       "      <th>Country</th>\n",
       "    </tr>\n",
       "  </thead>\n",
       "  <tbody>\n",
       "    <tr>\n",
       "      <th>0</th>\n",
       "      <td>Alfreds Futterkiste</td>\n",
       "      <td>Maria Anders</td>\n",
       "      <td>Germany</td>\n",
       "    </tr>\n",
       "    <tr>\n",
       "      <th>1</th>\n",
       "      <td>Centro comercial Moctezuma</td>\n",
       "      <td>Francisco Chang</td>\n",
       "      <td>Mexico</td>\n",
       "    </tr>\n",
       "    <tr>\n",
       "      <th>2</th>\n",
       "      <td>Ernst Handel</td>\n",
       "      <td>Roland Mendel</td>\n",
       "      <td>Austria</td>\n",
       "    </tr>\n",
       "    <tr>\n",
       "      <th>3</th>\n",
       "      <td>Island Trading</td>\n",
       "      <td>Helen Bennett</td>\n",
       "      <td>UK</td>\n",
       "    </tr>\n",
       "    <tr>\n",
       "      <th>4</th>\n",
       "      <td>Laughing Bacchus Winecellars</td>\n",
       "      <td>Yoshi Tannamuri</td>\n",
       "      <td>Canada</td>\n",
       "    </tr>\n",
       "    <tr>\n",
       "      <th>5</th>\n",
       "      <td>Magazzini Alimentari Riuniti</td>\n",
       "      <td>Giovanni Rovelli</td>\n",
       "      <td>Italy</td>\n",
       "    </tr>\n",
       "  </tbody>\n",
       "</table>\n",
       "</div>"
      ],
      "text/plain": [
       "                        Company           Contact  Country\n",
       "0           Alfreds Futterkiste      Maria Anders  Germany\n",
       "1    Centro comercial Moctezuma   Francisco Chang   Mexico\n",
       "2                  Ernst Handel     Roland Mendel  Austria\n",
       "3                Island Trading     Helen Bennett       UK\n",
       "4  Laughing Bacchus Winecellars   Yoshi Tannamuri   Canada\n",
       "5  Magazzini Alimentari Riuniti  Giovanni Rovelli    Italy"
      ]
     },
     "execution_count": 13,
     "metadata": {},
     "output_type": "execute_result"
    }
   ],
   "source": [
    "df = pd.read_html(\"https://www.w3schools.com/html/html_tables.asp\")\n",
    "df[0]"
   ]
  },
  {
   "cell_type": "code",
   "execution_count": 14,
   "metadata": {},
   "outputs": [
    {
     "data": {
      "text/html": [
       "<div>\n",
       "<style scoped>\n",
       "    .dataframe tbody tr th:only-of-type {\n",
       "        vertical-align: middle;\n",
       "    }\n",
       "\n",
       "    .dataframe tbody tr th {\n",
       "        vertical-align: top;\n",
       "    }\n",
       "\n",
       "    .dataframe thead th {\n",
       "        text-align: right;\n",
       "    }\n",
       "</style>\n",
       "<table border=\"1\" class=\"dataframe\">\n",
       "  <thead>\n",
       "    <tr style=\"text-align: right;\">\n",
       "      <th></th>\n",
       "      <th>login</th>\n",
       "      <th>id</th>\n",
       "      <th>node_id</th>\n",
       "      <th>url</th>\n",
       "      <th>repos_url</th>\n",
       "      <th>events_url</th>\n",
       "      <th>hooks_url</th>\n",
       "      <th>issues_url</th>\n",
       "      <th>members_url</th>\n",
       "      <th>public_members_url</th>\n",
       "      <th>avatar_url</th>\n",
       "      <th>description</th>\n",
       "    </tr>\n",
       "  </thead>\n",
       "  <tbody>\n",
       "    <tr>\n",
       "      <th>0</th>\n",
       "      <td>ggobi</td>\n",
       "      <td>423638</td>\n",
       "      <td>MDEyOk9yZ2FuaXphdGlvbjQyMzYzOA==</td>\n",
       "      <td>https://api.github.com/orgs/ggobi</td>\n",
       "      <td>https://api.github.com/orgs/ggobi/repos</td>\n",
       "      <td>https://api.github.com/orgs/ggobi/events</td>\n",
       "      <td>https://api.github.com/orgs/ggobi/hooks</td>\n",
       "      <td>https://api.github.com/orgs/ggobi/issues</td>\n",
       "      <td>https://api.github.com/orgs/ggobi/members{/mem...</td>\n",
       "      <td>https://api.github.com/orgs/ggobi/public_membe...</td>\n",
       "      <td>https://avatars1.githubusercontent.com/u/42363...</td>\n",
       "      <td></td>\n",
       "    </tr>\n",
       "    <tr>\n",
       "      <th>1</th>\n",
       "      <td>rstudio</td>\n",
       "      <td>513560</td>\n",
       "      <td>MDEyOk9yZ2FuaXphdGlvbjUxMzU2MA==</td>\n",
       "      <td>https://api.github.com/orgs/rstudio</td>\n",
       "      <td>https://api.github.com/orgs/rstudio/repos</td>\n",
       "      <td>https://api.github.com/orgs/rstudio/events</td>\n",
       "      <td>https://api.github.com/orgs/rstudio/hooks</td>\n",
       "      <td>https://api.github.com/orgs/rstudio/issues</td>\n",
       "      <td>https://api.github.com/orgs/rstudio/members{/m...</td>\n",
       "      <td>https://api.github.com/orgs/rstudio/public_mem...</td>\n",
       "      <td>https://avatars1.githubusercontent.com/u/51356...</td>\n",
       "      <td>None</td>\n",
       "    </tr>\n",
       "    <tr>\n",
       "      <th>2</th>\n",
       "      <td>rstats</td>\n",
       "      <td>722735</td>\n",
       "      <td>MDEyOk9yZ2FuaXphdGlvbjcyMjczNQ==</td>\n",
       "      <td>https://api.github.com/orgs/rstats</td>\n",
       "      <td>https://api.github.com/orgs/rstats/repos</td>\n",
       "      <td>https://api.github.com/orgs/rstats/events</td>\n",
       "      <td>https://api.github.com/orgs/rstats/hooks</td>\n",
       "      <td>https://api.github.com/orgs/rstats/issues</td>\n",
       "      <td>https://api.github.com/orgs/rstats/members{/me...</td>\n",
       "      <td>https://api.github.com/orgs/rstats/public_memb...</td>\n",
       "      <td>https://avatars1.githubusercontent.com/u/72273...</td>\n",
       "      <td>None</td>\n",
       "    </tr>\n",
       "    <tr>\n",
       "      <th>3</th>\n",
       "      <td>ropensci</td>\n",
       "      <td>1200269</td>\n",
       "      <td>MDEyOk9yZ2FuaXphdGlvbjEyMDAyNjk=</td>\n",
       "      <td>https://api.github.com/orgs/ropensci</td>\n",
       "      <td>https://api.github.com/orgs/ropensci/repos</td>\n",
       "      <td>https://api.github.com/orgs/ropensci/events</td>\n",
       "      <td>https://api.github.com/orgs/ropensci/hooks</td>\n",
       "      <td>https://api.github.com/orgs/ropensci/issues</td>\n",
       "      <td>https://api.github.com/orgs/ropensci/members{/...</td>\n",
       "      <td>https://api.github.com/orgs/ropensci/public_me...</td>\n",
       "      <td>https://avatars3.githubusercontent.com/u/12002...</td>\n",
       "      <td></td>\n",
       "    </tr>\n",
       "    <tr>\n",
       "      <th>4</th>\n",
       "      <td>rjournal</td>\n",
       "      <td>3330561</td>\n",
       "      <td>MDEyOk9yZ2FuaXphdGlvbjMzMzA1NjE=</td>\n",
       "      <td>https://api.github.com/orgs/rjournal</td>\n",
       "      <td>https://api.github.com/orgs/rjournal/repos</td>\n",
       "      <td>https://api.github.com/orgs/rjournal/events</td>\n",
       "      <td>https://api.github.com/orgs/rjournal/hooks</td>\n",
       "      <td>https://api.github.com/orgs/rjournal/issues</td>\n",
       "      <td>https://api.github.com/orgs/rjournal/members{/...</td>\n",
       "      <td>https://api.github.com/orgs/rjournal/public_me...</td>\n",
       "      <td>https://avatars2.githubusercontent.com/u/33305...</td>\n",
       "      <td>None</td>\n",
       "    </tr>\n",
       "  </tbody>\n",
       "</table>\n",
       "</div>"
      ],
      "text/plain": [
       "      login       id                           node_id  \\\n",
       "0     ggobi   423638  MDEyOk9yZ2FuaXphdGlvbjQyMzYzOA==   \n",
       "1   rstudio   513560  MDEyOk9yZ2FuaXphdGlvbjUxMzU2MA==   \n",
       "2    rstats   722735  MDEyOk9yZ2FuaXphdGlvbjcyMjczNQ==   \n",
       "3  ropensci  1200269  MDEyOk9yZ2FuaXphdGlvbjEyMDAyNjk=   \n",
       "4  rjournal  3330561  MDEyOk9yZ2FuaXphdGlvbjMzMzA1NjE=   \n",
       "\n",
       "                                    url  \\\n",
       "0     https://api.github.com/orgs/ggobi   \n",
       "1   https://api.github.com/orgs/rstudio   \n",
       "2    https://api.github.com/orgs/rstats   \n",
       "3  https://api.github.com/orgs/ropensci   \n",
       "4  https://api.github.com/orgs/rjournal   \n",
       "\n",
       "                                    repos_url  \\\n",
       "0     https://api.github.com/orgs/ggobi/repos   \n",
       "1   https://api.github.com/orgs/rstudio/repos   \n",
       "2    https://api.github.com/orgs/rstats/repos   \n",
       "3  https://api.github.com/orgs/ropensci/repos   \n",
       "4  https://api.github.com/orgs/rjournal/repos   \n",
       "\n",
       "                                    events_url  \\\n",
       "0     https://api.github.com/orgs/ggobi/events   \n",
       "1   https://api.github.com/orgs/rstudio/events   \n",
       "2    https://api.github.com/orgs/rstats/events   \n",
       "3  https://api.github.com/orgs/ropensci/events   \n",
       "4  https://api.github.com/orgs/rjournal/events   \n",
       "\n",
       "                                    hooks_url  \\\n",
       "0     https://api.github.com/orgs/ggobi/hooks   \n",
       "1   https://api.github.com/orgs/rstudio/hooks   \n",
       "2    https://api.github.com/orgs/rstats/hooks   \n",
       "3  https://api.github.com/orgs/ropensci/hooks   \n",
       "4  https://api.github.com/orgs/rjournal/hooks   \n",
       "\n",
       "                                    issues_url  \\\n",
       "0     https://api.github.com/orgs/ggobi/issues   \n",
       "1   https://api.github.com/orgs/rstudio/issues   \n",
       "2    https://api.github.com/orgs/rstats/issues   \n",
       "3  https://api.github.com/orgs/ropensci/issues   \n",
       "4  https://api.github.com/orgs/rjournal/issues   \n",
       "\n",
       "                                         members_url  \\\n",
       "0  https://api.github.com/orgs/ggobi/members{/mem...   \n",
       "1  https://api.github.com/orgs/rstudio/members{/m...   \n",
       "2  https://api.github.com/orgs/rstats/members{/me...   \n",
       "3  https://api.github.com/orgs/ropensci/members{/...   \n",
       "4  https://api.github.com/orgs/rjournal/members{/...   \n",
       "\n",
       "                                  public_members_url  \\\n",
       "0  https://api.github.com/orgs/ggobi/public_membe...   \n",
       "1  https://api.github.com/orgs/rstudio/public_mem...   \n",
       "2  https://api.github.com/orgs/rstats/public_memb...   \n",
       "3  https://api.github.com/orgs/ropensci/public_me...   \n",
       "4  https://api.github.com/orgs/rjournal/public_me...   \n",
       "\n",
       "                                          avatar_url description  \n",
       "0  https://avatars1.githubusercontent.com/u/42363...              \n",
       "1  https://avatars1.githubusercontent.com/u/51356...        None  \n",
       "2  https://avatars1.githubusercontent.com/u/72273...        None  \n",
       "3  https://avatars3.githubusercontent.com/u/12002...              \n",
       "4  https://avatars2.githubusercontent.com/u/33305...        None  "
      ]
     },
     "execution_count": 14,
     "metadata": {},
     "output_type": "execute_result"
    }
   ],
   "source": [
    "df = pd.read_json(\"https://api.github.com/users/hadley/orgs\")\n",
    "df.head()"
   ]
  },
  {
   "cell_type": "code",
   "execution_count": 19,
   "metadata": {},
   "outputs": [
    {
     "data": {
      "text/html": [
       "<div>\n",
       "<style scoped>\n",
       "    .dataframe tbody tr th:only-of-type {\n",
       "        vertical-align: middle;\n",
       "    }\n",
       "\n",
       "    .dataframe tbody tr th {\n",
       "        vertical-align: top;\n",
       "    }\n",
       "\n",
       "    .dataframe thead th {\n",
       "        text-align: right;\n",
       "    }\n",
       "</style>\n",
       "<table border=\"1\" class=\"dataframe\">\n",
       "  <thead>\n",
       "    <tr style=\"text-align: right;\">\n",
       "      <th></th>\n",
       "      <th>login</th>\n",
       "      <th>id</th>\n",
       "      <th>node_id</th>\n",
       "      <th>url</th>\n",
       "      <th>repos_url</th>\n",
       "      <th>events_url</th>\n",
       "      <th>hooks_url</th>\n",
       "      <th>issues_url</th>\n",
       "      <th>members_url</th>\n",
       "      <th>public_members_url</th>\n",
       "      <th>avatar_url</th>\n",
       "      <th>description</th>\n",
       "    </tr>\n",
       "  </thead>\n",
       "  <tbody>\n",
       "    <tr>\n",
       "      <th>0</th>\n",
       "      <td>ggobi</td>\n",
       "      <td>423638</td>\n",
       "      <td>MDEyOk9yZ2FuaXphdGlvbjQyMzYzOA==</td>\n",
       "      <td>https://api.github.com/orgs/ggobi</td>\n",
       "      <td>https://api.github.com/orgs/ggobi/repos</td>\n",
       "      <td>https://api.github.com/orgs/ggobi/events</td>\n",
       "      <td>https://api.github.com/orgs/ggobi/hooks</td>\n",
       "      <td>https://api.github.com/orgs/ggobi/issues</td>\n",
       "      <td>https://api.github.com/orgs/ggobi/members{/mem...</td>\n",
       "      <td>https://api.github.com/orgs/ggobi/public_membe...</td>\n",
       "      <td>https://avatars1.githubusercontent.com/u/42363...</td>\n",
       "      <td></td>\n",
       "    </tr>\n",
       "    <tr>\n",
       "      <th>1</th>\n",
       "      <td>rstudio</td>\n",
       "      <td>513560</td>\n",
       "      <td>MDEyOk9yZ2FuaXphdGlvbjUxMzU2MA==</td>\n",
       "      <td>https://api.github.com/orgs/rstudio</td>\n",
       "      <td>https://api.github.com/orgs/rstudio/repos</td>\n",
       "      <td>https://api.github.com/orgs/rstudio/events</td>\n",
       "      <td>https://api.github.com/orgs/rstudio/hooks</td>\n",
       "      <td>https://api.github.com/orgs/rstudio/issues</td>\n",
       "      <td>https://api.github.com/orgs/rstudio/members{/m...</td>\n",
       "      <td>https://api.github.com/orgs/rstudio/public_mem...</td>\n",
       "      <td>https://avatars1.githubusercontent.com/u/51356...</td>\n",
       "      <td>None</td>\n",
       "    </tr>\n",
       "    <tr>\n",
       "      <th>2</th>\n",
       "      <td>rstats</td>\n",
       "      <td>722735</td>\n",
       "      <td>MDEyOk9yZ2FuaXphdGlvbjcyMjczNQ==</td>\n",
       "      <td>https://api.github.com/orgs/rstats</td>\n",
       "      <td>https://api.github.com/orgs/rstats/repos</td>\n",
       "      <td>https://api.github.com/orgs/rstats/events</td>\n",
       "      <td>https://api.github.com/orgs/rstats/hooks</td>\n",
       "      <td>https://api.github.com/orgs/rstats/issues</td>\n",
       "      <td>https://api.github.com/orgs/rstats/members{/me...</td>\n",
       "      <td>https://api.github.com/orgs/rstats/public_memb...</td>\n",
       "      <td>https://avatars1.githubusercontent.com/u/72273...</td>\n",
       "      <td>None</td>\n",
       "    </tr>\n",
       "    <tr>\n",
       "      <th>3</th>\n",
       "      <td>ropensci</td>\n",
       "      <td>1200269</td>\n",
       "      <td>MDEyOk9yZ2FuaXphdGlvbjEyMDAyNjk=</td>\n",
       "      <td>https://api.github.com/orgs/ropensci</td>\n",
       "      <td>https://api.github.com/orgs/ropensci/repos</td>\n",
       "      <td>https://api.github.com/orgs/ropensci/events</td>\n",
       "      <td>https://api.github.com/orgs/ropensci/hooks</td>\n",
       "      <td>https://api.github.com/orgs/ropensci/issues</td>\n",
       "      <td>https://api.github.com/orgs/ropensci/members{/...</td>\n",
       "      <td>https://api.github.com/orgs/ropensci/public_me...</td>\n",
       "      <td>https://avatars3.githubusercontent.com/u/12002...</td>\n",
       "      <td></td>\n",
       "    </tr>\n",
       "    <tr>\n",
       "      <th>4</th>\n",
       "      <td>rjournal</td>\n",
       "      <td>3330561</td>\n",
       "      <td>MDEyOk9yZ2FuaXphdGlvbjMzMzA1NjE=</td>\n",
       "      <td>https://api.github.com/orgs/rjournal</td>\n",
       "      <td>https://api.github.com/orgs/rjournal/repos</td>\n",
       "      <td>https://api.github.com/orgs/rjournal/events</td>\n",
       "      <td>https://api.github.com/orgs/rjournal/hooks</td>\n",
       "      <td>https://api.github.com/orgs/rjournal/issues</td>\n",
       "      <td>https://api.github.com/orgs/rjournal/members{/...</td>\n",
       "      <td>https://api.github.com/orgs/rjournal/public_me...</td>\n",
       "      <td>https://avatars2.githubusercontent.com/u/33305...</td>\n",
       "      <td>None</td>\n",
       "    </tr>\n",
       "  </tbody>\n",
       "</table>\n",
       "</div>"
      ],
      "text/plain": [
       "      login       id                           node_id  \\\n",
       "0     ggobi   423638  MDEyOk9yZ2FuaXphdGlvbjQyMzYzOA==   \n",
       "1   rstudio   513560  MDEyOk9yZ2FuaXphdGlvbjUxMzU2MA==   \n",
       "2    rstats   722735  MDEyOk9yZ2FuaXphdGlvbjcyMjczNQ==   \n",
       "3  ropensci  1200269  MDEyOk9yZ2FuaXphdGlvbjEyMDAyNjk=   \n",
       "4  rjournal  3330561  MDEyOk9yZ2FuaXphdGlvbjMzMzA1NjE=   \n",
       "\n",
       "                                    url  \\\n",
       "0     https://api.github.com/orgs/ggobi   \n",
       "1   https://api.github.com/orgs/rstudio   \n",
       "2    https://api.github.com/orgs/rstats   \n",
       "3  https://api.github.com/orgs/ropensci   \n",
       "4  https://api.github.com/orgs/rjournal   \n",
       "\n",
       "                                    repos_url  \\\n",
       "0     https://api.github.com/orgs/ggobi/repos   \n",
       "1   https://api.github.com/orgs/rstudio/repos   \n",
       "2    https://api.github.com/orgs/rstats/repos   \n",
       "3  https://api.github.com/orgs/ropensci/repos   \n",
       "4  https://api.github.com/orgs/rjournal/repos   \n",
       "\n",
       "                                    events_url  \\\n",
       "0     https://api.github.com/orgs/ggobi/events   \n",
       "1   https://api.github.com/orgs/rstudio/events   \n",
       "2    https://api.github.com/orgs/rstats/events   \n",
       "3  https://api.github.com/orgs/ropensci/events   \n",
       "4  https://api.github.com/orgs/rjournal/events   \n",
       "\n",
       "                                    hooks_url  \\\n",
       "0     https://api.github.com/orgs/ggobi/hooks   \n",
       "1   https://api.github.com/orgs/rstudio/hooks   \n",
       "2    https://api.github.com/orgs/rstats/hooks   \n",
       "3  https://api.github.com/orgs/ropensci/hooks   \n",
       "4  https://api.github.com/orgs/rjournal/hooks   \n",
       "\n",
       "                                    issues_url  \\\n",
       "0     https://api.github.com/orgs/ggobi/issues   \n",
       "1   https://api.github.com/orgs/rstudio/issues   \n",
       "2    https://api.github.com/orgs/rstats/issues   \n",
       "3  https://api.github.com/orgs/ropensci/issues   \n",
       "4  https://api.github.com/orgs/rjournal/issues   \n",
       "\n",
       "                                         members_url  \\\n",
       "0  https://api.github.com/orgs/ggobi/members{/mem...   \n",
       "1  https://api.github.com/orgs/rstudio/members{/m...   \n",
       "2  https://api.github.com/orgs/rstats/members{/me...   \n",
       "3  https://api.github.com/orgs/ropensci/members{/...   \n",
       "4  https://api.github.com/orgs/rjournal/members{/...   \n",
       "\n",
       "                                  public_members_url  \\\n",
       "0  https://api.github.com/orgs/ggobi/public_membe...   \n",
       "1  https://api.github.com/orgs/rstudio/public_mem...   \n",
       "2  https://api.github.com/orgs/rstats/public_memb...   \n",
       "3  https://api.github.com/orgs/ropensci/public_me...   \n",
       "4  https://api.github.com/orgs/rjournal/public_me...   \n",
       "\n",
       "                                          avatar_url description  \n",
       "0  https://avatars1.githubusercontent.com/u/42363...              \n",
       "1  https://avatars1.githubusercontent.com/u/51356...        None  \n",
       "2  https://avatars1.githubusercontent.com/u/72273...        None  \n",
       "3  https://avatars3.githubusercontent.com/u/12002...              \n",
       "4  https://avatars2.githubusercontent.com/u/33305...        None  "
      ]
     },
     "execution_count": 19,
     "metadata": {},
     "output_type": "execute_result"
    }
   ],
   "source": [
    "df = pd.read_json(\"https://api.github.com/users/hadley/orgs\",)\n",
    "df.head()"
   ]
  },
  {
   "cell_type": "code",
   "execution_count": 23,
   "metadata": {},
   "outputs": [
    {
     "data": {
      "text/plain": [
       "pandas.core.frame.DataFrame"
      ]
     },
     "execution_count": 23,
     "metadata": {},
     "output_type": "execute_result"
    }
   ],
   "source": [
    "type(df)"
   ]
  },
  {
   "cell_type": "code",
   "execution_count": 25,
   "metadata": {},
   "outputs": [
    {
     "data": {
      "text/plain": [
       "pandas.core.series.Series"
      ]
     },
     "execution_count": 25,
     "metadata": {},
     "output_type": "execute_result"
    }
   ],
   "source": [
    "type(df.login)"
   ]
  },
  {
   "cell_type": "code",
   "execution_count": 20,
   "metadata": {},
   "outputs": [],
   "source": [
    "df.to_excel(\"data/online_data.xlsx\", index=False)"
   ]
  },
  {
   "cell_type": "code",
   "execution_count": 21,
   "metadata": {},
   "outputs": [],
   "source": [
    "#df.to_csv(\"data/online_data.csv\", index=False)"
   ]
  },
  {
   "cell_type": "markdown",
   "metadata": {},
   "source": [
    "# Tabula-py (for pdf)"
   ]
  },
  {
   "cell_type": "code",
   "execution_count": 15,
   "metadata": {},
   "outputs": [],
   "source": [
    "pd.read_feather??"
   ]
  },
  {
   "cell_type": "markdown",
   "metadata": {},
   "source": [
    "# Series"
   ]
  },
  {
   "cell_type": "code",
   "execution_count": 26,
   "metadata": {},
   "outputs": [
    {
     "data": {
      "text/plain": [
       "0                ggobi\n",
       "1              rstudio\n",
       "2               rstats\n",
       "3             ropensci\n",
       "4             rjournal\n",
       "5                r-dbi\n",
       "6          RConsortium\n",
       "7            tidyverse\n",
       "8                r-lib\n",
       "9    rstudio-education\n",
       "Name: login, dtype: object"
      ]
     },
     "execution_count": 26,
     "metadata": {},
     "output_type": "execute_result"
    }
   ],
   "source": [
    "df.login"
   ]
  },
  {
   "cell_type": "code",
   "execution_count": 27,
   "metadata": {},
   "outputs": [
    {
     "data": {
      "text/plain": [
       "RangeIndex(start=0, stop=10, step=1)"
      ]
     },
     "execution_count": 27,
     "metadata": {},
     "output_type": "execute_result"
    }
   ],
   "source": [
    "df.login.index"
   ]
  },
  {
   "cell_type": "code",
   "execution_count": 28,
   "metadata": {},
   "outputs": [
    {
     "data": {
      "text/plain": [
       "array(['ggobi', 'rstudio', 'rstats', 'ropensci', 'rjournal', 'r-dbi',\n",
       "       'RConsortium', 'tidyverse', 'r-lib', 'rstudio-education'],\n",
       "      dtype=object)"
      ]
     },
     "execution_count": 28,
     "metadata": {},
     "output_type": "execute_result"
    }
   ],
   "source": [
    "df.login.values"
   ]
  },
  {
   "cell_type": "code",
   "execution_count": 29,
   "metadata": {},
   "outputs": [
    {
     "data": {
      "text/plain": [
       "0    4\n",
       "1    7\n",
       "2   -5\n",
       "3    3\n",
       "dtype: int64"
      ]
     },
     "execution_count": 29,
     "metadata": {},
     "output_type": "execute_result"
    }
   ],
   "source": [
    "obj = pd.Series([4, 7, -5, 3])\n",
    "obj"
   ]
  },
  {
   "cell_type": "code",
   "execution_count": 30,
   "metadata": {},
   "outputs": [
    {
     "data": {
      "text/plain": [
       "A    1\n",
       "B    2\n",
       "C    3\n",
       "D    4\n",
       "dtype: int64"
      ]
     },
     "execution_count": 30,
     "metadata": {},
     "output_type": "execute_result"
    }
   ],
   "source": [
    "obj2 = pd.Series([1,2,3,4], index=['A','B',\"C\",'D'])\n",
    "obj2"
   ]
  },
  {
   "cell_type": "code",
   "execution_count": 31,
   "metadata": {},
   "outputs": [
    {
     "data": {
      "text/plain": [
       "A     7\n",
       "D     8\n",
       "E     9\n",
       "F    10\n",
       "dtype: int64"
      ]
     },
     "execution_count": 31,
     "metadata": {},
     "output_type": "execute_result"
    }
   ],
   "source": [
    "obj3 = pd.Series([7,8,9,10], index=['A','D','E','F'])\n",
    "obj3"
   ]
  },
  {
   "cell_type": "code",
   "execution_count": 35,
   "metadata": {},
   "outputs": [
    {
     "data": {
      "text/plain": [
       "Index(['A', 'D', 'E', 'F'], dtype='object')"
      ]
     },
     "execution_count": 35,
     "metadata": {},
     "output_type": "execute_result"
    }
   ],
   "source": [
    "obj3.index"
   ]
  },
  {
   "cell_type": "code",
   "execution_count": 34,
   "metadata": {},
   "outputs": [
    {
     "name": "stdout",
     "output_type": "stream",
     "text": [
      "A    1\n",
      "B    2\n",
      "C    3\n",
      "D    4\n",
      "dtype: int64\n",
      "\n",
      "A     7\n",
      "D     8\n",
      "E     9\n",
      "F    10\n",
      "dtype: int64\n"
     ]
    },
    {
     "data": {
      "text/plain": [
       "A     8.0\n",
       "B     NaN\n",
       "C     NaN\n",
       "D    12.0\n",
       "E     NaN\n",
       "F     NaN\n",
       "dtype: float64"
      ]
     },
     "execution_count": 34,
     "metadata": {},
     "output_type": "execute_result"
    }
   ],
   "source": [
    "print(obj2, obj3, sep=\"\\n\\n\")\n",
    "obj2 + obj3"
   ]
  },
  {
   "cell_type": "code",
   "execution_count": 37,
   "metadata": {},
   "outputs": [
    {
     "data": {
      "text/plain": [
       "DatetimeIndex(['2020-01-01', '2020-01-02', '2020-01-03', '2020-01-04',\n",
       "               '2020-01-05', '2020-01-06', '2020-01-07', '2020-01-08',\n",
       "               '2020-01-09', '2020-01-10',\n",
       "               ...\n",
       "               '2020-04-24', '2020-04-25', '2020-04-26', '2020-04-27',\n",
       "               '2020-04-28', '2020-04-29', '2020-04-30', '2020-05-01',\n",
       "               '2020-05-02', '2020-05-03'],\n",
       "              dtype='datetime64[ns]', length=124, freq='D')"
      ]
     },
     "execution_count": 37,
     "metadata": {},
     "output_type": "execute_result"
    }
   ],
   "source": [
    "date_range = pd.date_range('2020-01-01', '2020-05-03') #YYYY-MM-DD\n",
    "date_range"
   ]
  },
  {
   "cell_type": "code",
   "execution_count": 38,
   "metadata": {},
   "outputs": [
    {
     "data": {
      "text/plain": [
       "Timestamp('2020-05-03 00:00:00', freq='D')"
      ]
     },
     "execution_count": 38,
     "metadata": {},
     "output_type": "execute_result"
    }
   ],
   "source": [
    "date_range[-1]"
   ]
  },
  {
   "cell_type": "code",
   "execution_count": 39,
   "metadata": {},
   "outputs": [
    {
     "data": {
      "text/plain": [
       "DatetimeIndex(['2020-01-01', '2020-01-02', '2020-01-03', '2020-01-04',\n",
       "               '2020-01-05'],\n",
       "              dtype='datetime64[ns]', freq='D')"
      ]
     },
     "execution_count": 39,
     "metadata": {},
     "output_type": "execute_result"
    }
   ],
   "source": [
    "date_range = pd.date_range('2020-01-01', periods=5) #YYYY-MM-DD\n",
    "date_range"
   ]
  },
  {
   "cell_type": "code",
   "execution_count": 40,
   "metadata": {},
   "outputs": [
    {
     "data": {
      "text/plain": [
       "DatetimeIndex(['2020-01-31', '2020-02-29', '2020-03-31', '2020-04-30'], dtype='datetime64[ns]', freq='M')"
      ]
     },
     "execution_count": 40,
     "metadata": {},
     "output_type": "execute_result"
    }
   ],
   "source": [
    "date_range = pd.date_range('2020-01-01', '2020-05-03', freq='M') #YYYY-MM-DD\n",
    "date_range"
   ]
  },
  {
   "cell_type": "code",
   "execution_count": 41,
   "metadata": {},
   "outputs": [
    {
     "data": {
      "text/plain": [
       "DatetimeIndex(['2020-01-01 00:00:00', '2020-01-01 05:00:00',\n",
       "               '2020-01-01 10:00:00', '2020-01-01 15:00:00',\n",
       "               '2020-01-01 20:00:00'],\n",
       "              dtype='datetime64[ns]', freq='5H')"
      ]
     },
     "execution_count": 41,
     "metadata": {},
     "output_type": "execute_result"
    }
   ],
   "source": [
    "date_range = pd.date_range('2020-01-01', periods=5, freq='5H') #YYYY-MM-DD\n",
    "date_range"
   ]
  },
  {
   "cell_type": "code",
   "execution_count": 44,
   "metadata": {},
   "outputs": [
    {
     "name": "stdout",
     "output_type": "stream",
     "text": [
      "A    1\n",
      "B    2\n",
      "C    3\n",
      "D    4\n",
      "dtype: int64\n"
     ]
    }
   ],
   "source": [
    "obj2 = pd.Series([1,2,3,4], index=['A','B',\"C\",'D'])\n",
    "print(obj2)"
   ]
  },
  {
   "cell_type": "code",
   "execution_count": 46,
   "metadata": {},
   "outputs": [
    {
     "name": "stdout",
     "output_type": "stream",
     "text": [
      "A    1\n",
      "B    2\n",
      "C    3\n",
      "D    4\n",
      "dtype: int64\n"
     ]
    },
    {
     "data": {
      "text/plain": [
       "3"
      ]
     },
     "execution_count": 46,
     "metadata": {},
     "output_type": "execute_result"
    }
   ],
   "source": [
    "print(obj2)\n",
    "obj2['C']"
   ]
  },
  {
   "cell_type": "code",
   "execution_count": 48,
   "metadata": {},
   "outputs": [
    {
     "name": "stdout",
     "output_type": "stream",
     "text": [
      "A     1\n",
      "B     2\n",
      "C    10\n",
      "D     4\n",
      "dtype: int64\n",
      "A     1\n",
      "B     2\n",
      "C    10\n",
      "D     4\n",
      "dtype: int64\n"
     ]
    }
   ],
   "source": [
    "print(obj2)\n",
    "obj2['C'] = 10\n",
    "print(obj2)"
   ]
  },
  {
   "cell_type": "code",
   "execution_count": 49,
   "metadata": {},
   "outputs": [
    {
     "name": "stdout",
     "output_type": "stream",
     "text": [
      "A     1\n",
      "B     2\n",
      "C    10\n",
      "D     4\n",
      "dtype: int64\n"
     ]
    },
    {
     "data": {
      "text/plain": [
       "D    4\n",
       "B    2\n",
       "dtype: int64"
      ]
     },
     "execution_count": 49,
     "metadata": {},
     "output_type": "execute_result"
    }
   ],
   "source": [
    "print(obj2)\n",
    "obj2[['D',\"B\"]]"
   ]
  },
  {
   "cell_type": "code",
   "execution_count": null,
   "metadata": {},
   "outputs": [],
   "source": []
  }
 ],
 "metadata": {
  "kernelspec": {
   "display_name": "Python 3",
   "language": "python",
   "name": "python3"
  },
  "language_info": {
   "codemirror_mode": {
    "name": "ipython",
    "version": 3
   },
   "file_extension": ".py",
   "mimetype": "text/x-python",
   "name": "python",
   "nbconvert_exporter": "python",
   "pygments_lexer": "ipython3",
   "version": "3.7.4"
  }
 },
 "nbformat": 4,
 "nbformat_minor": 2
}
