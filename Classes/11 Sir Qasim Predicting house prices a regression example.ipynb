{
 "cells": [
  {
   "cell_type": "markdown",
   "metadata": {},
   "source": [
    "# 3.6 Predicting house prices: a regression example"
   ]
  },
  {
   "cell_type": "markdown",
   "metadata": {},
   "source": [
    "## 3.6.1 The Boston Housing Price dataset"
   ]
  },
  {
   "cell_type": "markdown",
   "metadata": {},
   "source": [
    "- we have to predict price\n",
    "- boston housing mid-1970\n",
    "- 506 data samples\n",
    "- 404 training and 102 testing samples\n",
    "- 13 Features (number of columns in X)"
   ]
  },
  {
   "cell_type": "markdown",
   "metadata": {},
   "source": [
    "#### Listing 3.24 Loading the Boston housing dataset"
   ]
  },
  {
   "cell_type": "code",
   "execution_count": 1,
   "metadata": {},
   "outputs": [
    {
     "name": "stdout",
     "output_type": "stream",
     "text": [
      "Downloading data from https://storage.googleapis.com/tensorflow/tf-keras-datasets/boston_housing.npz\n",
      "57344/57026 [==============================] - 0s 2us/step\n"
     ]
    }
   ],
   "source": [
    "from tensorflow.keras.datasets import boston_housing\n",
    "(train_data, train_targets), (test_data, test_targets) = boston_housing.load_data()"
   ]
  },
  {
   "cell_type": "code",
   "execution_count": 2,
   "metadata": {},
   "outputs": [
    {
     "data": {
      "text/plain": [
       "(404, 13)"
      ]
     },
     "execution_count": 2,
     "metadata": {},
     "output_type": "execute_result"
    }
   ],
   "source": [
    "train_data.shape"
   ]
  },
  {
   "cell_type": "code",
   "execution_count": 3,
   "metadata": {},
   "outputs": [
    {
     "data": {
      "text/plain": [
       "(102, 13)"
      ]
     },
     "execution_count": 3,
     "metadata": {},
     "output_type": "execute_result"
    }
   ],
   "source": [
    "test_data.shape"
   ]
  },
  {
   "cell_type": "code",
   "execution_count": 4,
   "metadata": {},
   "outputs": [
    {
     "data": {
      "text/plain": [
       "array([  1.23247,   0.     ,   8.14   ,   0.     ,   0.538  ,   6.142  ,\n",
       "        91.7    ,   3.9769 ,   4.     , 307.     ,  21.     , 396.9    ,\n",
       "        18.72   ])"
      ]
     },
     "execution_count": 4,
     "metadata": {},
     "output_type": "execute_result"
    }
   ],
   "source": [
    "train_data[0]"
   ]
  },
  {
   "cell_type": "code",
   "execution_count": 5,
   "metadata": {},
   "outputs": [
    {
     "data": {
      "text/plain": [
       "15.2"
      ]
     },
     "execution_count": 5,
     "metadata": {},
     "output_type": "execute_result"
    }
   ],
   "source": [
    "train_targets[0]"
   ]
  },
  {
   "cell_type": "markdown",
   "metadata": {},
   "source": [
    "### 3.6.2 Preparing the data"
   ]
  },
  {
   "cell_type": "markdown",
   "metadata": {},
   "source": [
    "#### Listing 3.25 Normalizing the data"
   ]
  },
  {
   "cell_type": "code",
   "execution_count": 6,
   "metadata": {},
   "outputs": [],
   "source": [
    "mean = train_data.mean(axis=0)\n",
    "train_data -= mean\n",
    "\n",
    "std = train_data.std(axis=0)\n",
    "\n",
    "train_data /= std\n",
    "test_data -= mean\n",
    "test_data /= std"
   ]
  },
  {
   "cell_type": "code",
   "execution_count": 7,
   "metadata": {},
   "outputs": [
    {
     "data": {
      "text/plain": [
       "array([3.74511057e+00, 1.14801980e+01, 1.11044307e+01, 6.18811881e-02,\n",
       "       5.57355941e-01, 6.26708168e+00, 6.90106436e+01, 3.74027079e+00,\n",
       "       9.44059406e+00, 4.05898515e+02, 1.84759901e+01, 3.54783168e+02,\n",
       "       1.27408168e+01])"
      ]
     },
     "execution_count": 7,
     "metadata": {},
     "output_type": "execute_result"
    }
   ],
   "source": [
    "mean"
   ]
  },
  {
   "cell_type": "code",
   "execution_count": 8,
   "metadata": {},
   "outputs": [
    {
     "data": {
      "text/plain": [
       "array([9.22929073e+00, 2.37382770e+01, 6.80287253e+00, 2.40939633e-01,\n",
       "       1.17147847e-01, 7.08908627e-01, 2.79060634e+01, 2.02770050e+00,\n",
       "       8.68758849e+00, 1.66168506e+02, 2.19765689e+00, 9.39946015e+01,\n",
       "       7.24556085e+00])"
      ]
     },
     "execution_count": 8,
     "metadata": {},
     "output_type": "execute_result"
    }
   ],
   "source": [
    "std"
   ]
  },
  {
   "cell_type": "code",
   "execution_count": 9,
   "metadata": {},
   "outputs": [
    {
     "data": {
      "text/plain": [
       "array([-0.27224633, -0.48361547, -0.43576161, -0.25683275, -0.1652266 ,\n",
       "       -0.1764426 ,  0.81306188,  0.1166983 , -0.62624905, -0.59517003,\n",
       "        1.14850044,  0.44807713,  0.8252202 ])"
      ]
     },
     "execution_count": 9,
     "metadata": {},
     "output_type": "execute_result"
    }
   ],
   "source": [
    "train_data[0]"
   ]
  },
  {
   "cell_type": "code",
   "execution_count": 10,
   "metadata": {},
   "outputs": [
    {
     "data": {
      "text/plain": [
       "1.1485004376638608"
      ]
     },
     "execution_count": 10,
     "metadata": {},
     "output_type": "execute_result"
    }
   ],
   "source": [
    "(21 - 1.84759901e+01)/2.19765689e+00"
   ]
  },
  {
   "cell_type": "code",
   "execution_count": 11,
   "metadata": {},
   "outputs": [
    {
     "data": {
      "text/plain": [
       "array([1., 1., 1., 1., 1., 1., 1., 1., 1., 1., 1., 1., 1.])"
      ]
     },
     "execution_count": 11,
     "metadata": {},
     "output_type": "execute_result"
    }
   ],
   "source": [
    "train_data.std(axis=0)"
   ]
  },
  {
   "cell_type": "markdown",
   "metadata": {},
   "source": [
    "#### 3.6.3 Building your network"
   ]
  },
  {
   "cell_type": "code",
   "execution_count": 12,
   "metadata": {},
   "outputs": [],
   "source": [
    "from tensorflow.keras import models\n",
    "from tensorflow.keras import layers\n",
    "\n",
    "def build_model():\n",
    "    model = models.Sequential()\n",
    "    model.add(layers.Dense(64, activation='relu',\n",
    "                           input_shape=(train_data.shape[1],)))\n",
    "    model.add(layers.Dense(64, activation='relu'))\n",
    "    model.add(layers.Dense(1))\n",
    "    model.compile(optimizer='rmsprop', loss='mse', metrics=['mae'])\n",
    "    return model"
   ]
  },
  {
   "cell_type": "markdown",
   "metadata": {},
   "source": [
    "#### Listing 3.27 K-fold validation"
   ]
  },
  {
   "cell_type": "code",
   "execution_count": 13,
   "metadata": {},
   "outputs": [
    {
     "name": "stdout",
     "output_type": "stream",
     "text": [
      "processing fold # 0\n",
      "processing fold # 1\n",
      "processing fold # 2\n",
      "processing fold # 3\n"
     ]
    }
   ],
   "source": [
    "import numpy as np\n",
    "k=4\n",
    "num_val_samples = len(train_data) // k\n",
    "num_epochs = 100\n",
    "all_scores = []\n",
    "\n",
    "num_epochs = 500\n",
    "all_mae_histories = []\n",
    "for i in range(k):\n",
    "    print('processing fold #', i)\n",
    "    val_data = train_data[i * num_val_samples: (i + 1) * num_val_samples]\n",
    "    val_targets = train_targets[i * num_val_samples: (i + 1) * num_val_samples]\n",
    "    \n",
    "    partial_train_data = np.concatenate(\n",
    "        [train_data[:i * num_val_samples],\n",
    "         train_data[(i + 1) * num_val_samples:]],\n",
    "        axis=0)\n",
    "    \n",
    "    partial_train_targets = np.concatenate(\n",
    "        [train_targets[:i * num_val_samples],\n",
    "         train_targets[(i + 1) * num_val_samples:]],\n",
    "        axis=0)\n",
    "    \n",
    "model = build_model()\n",
    "history = model.fit(partial_train_data, partial_train_targets,\n",
    "                    validation_data=(val_data, val_targets),\n",
    "                    epochs=num_epochs, batch_size=1, verbose=0)\n",
    "mae_history = history.history['val_mae']\n",
    "all_mae_histories.append(mae_history)"
   ]
  },
  {
   "cell_type": "code",
   "execution_count": 15,
   "metadata": {},
   "outputs": [
    {
     "data": {
      "text/plain": [
       "dict_keys(['loss', 'mae', 'val_loss', 'val_mae'])"
      ]
     },
     "execution_count": 15,
     "metadata": {},
     "output_type": "execute_result"
    }
   ],
   "source": [
    "history.history.keys()"
   ]
  },
  {
   "cell_type": "markdown",
   "metadata": {},
   "source": [
    "#### Listing 3.29 Building the history of successive mean K-fold validation scores"
   ]
  },
  {
   "cell_type": "code",
   "execution_count": 16,
   "metadata": {},
   "outputs": [],
   "source": [
    "average_mae_history = [np.mean([x[i] for x in all_mae_histories]) for i in range(num_epochs)]"
   ]
  },
  {
   "cell_type": "code",
   "execution_count": 17,
   "metadata": {},
   "outputs": [
    {
     "data": {
      "text/plain": [
       "[5.752235412597656,\n",
       " 4.106407642364502,\n",
       " 4.064900875091553,\n",
       " 3.149954319000244,\n",
       " 2.8984553813934326,\n",
       " 3.0012388229370117,\n",
       " 2.870439291000366,\n",
       " 2.673628807067871,\n",
       " 2.7518887519836426,\n",
       " 2.678881883621216,\n",
       " 3.0357918739318848,\n",
       " 2.458127975463867,\n",
       " 2.9579062461853027,\n",
       " 2.5860419273376465,\n",
       " 2.566612720489502,\n",
       " 2.6326520442962646,\n",
       " 2.7340919971466064,\n",
       " 2.539569616317749,\n",
       " 2.513219118118286,\n",
       " 2.492432117462158,\n",
       " 2.4693758487701416,\n",
       " 2.5062038898468018,\n",
       " 2.5752110481262207,\n",
       " 2.458723545074463,\n",
       " 2.4548487663269043,\n",
       " 2.68276047706604,\n",
       " 2.4398906230926514,\n",
       " 2.3708903789520264,\n",
       " 2.4982798099517822,\n",
       " 2.598565101623535,\n",
       " 2.4905002117156982,\n",
       " 2.579288959503174,\n",
       " 2.5623223781585693,\n",
       " 2.2796897888183594,\n",
       " 2.460047721862793,\n",
       " 2.713510036468506,\n",
       " 2.2885913848876953,\n",
       " 2.4757142066955566,\n",
       " 2.650665521621704,\n",
       " 2.421812057495117,\n",
       " 2.371663808822632,\n",
       " 2.371387243270874,\n",
       " 2.6292309761047363,\n",
       " 2.4810333251953125,\n",
       " 2.346963405609131,\n",
       " 2.510460138320923,\n",
       " 2.7089850902557373,\n",
       " 2.268390417098999,\n",
       " 2.4441187381744385,\n",
       " 2.617429733276367,\n",
       " 2.403108835220337,\n",
       " 2.478686571121216,\n",
       " 2.6157443523406982,\n",
       " 2.238248348236084,\n",
       " 2.603440999984741,\n",
       " 2.400750160217285,\n",
       " 2.7168877124786377,\n",
       " 2.4460060596466064,\n",
       " 2.4074547290802,\n",
       " 2.370805263519287,\n",
       " 2.416081666946411,\n",
       " 2.5065784454345703,\n",
       " 2.545351505279541,\n",
       " 2.2676339149475098,\n",
       " 2.4105730056762695,\n",
       " 2.4262771606445312,\n",
       " 2.6257901191711426,\n",
       " 2.4087231159210205,\n",
       " 2.2402639389038086,\n",
       " 2.5386712551116943,\n",
       " 2.3348803520202637,\n",
       " 2.377863645553589,\n",
       " 2.737093687057495,\n",
       " 2.6497724056243896,\n",
       " 2.438220977783203,\n",
       " 2.4898672103881836,\n",
       " 2.4681954383850098,\n",
       " 2.5542972087860107,\n",
       " 2.333789110183716,\n",
       " 2.4418468475341797,\n",
       " 2.2683753967285156,\n",
       " 2.3512167930603027,\n",
       " 2.47420334815979,\n",
       " 2.7897071838378906,\n",
       " 2.3962783813476562,\n",
       " 2.4068098068237305,\n",
       " 2.3258919715881348,\n",
       " 2.4548420906066895,\n",
       " 2.665721893310547,\n",
       " 2.4946422576904297,\n",
       " 2.495208501815796,\n",
       " 2.4518072605133057,\n",
       " 2.4417166709899902,\n",
       " 2.3862195014953613,\n",
       " 2.5478055477142334,\n",
       " 2.347304344177246,\n",
       " 3.190911293029785,\n",
       " 2.4764482975006104,\n",
       " 2.233107089996338,\n",
       " 2.455657720565796,\n",
       " 2.565937042236328,\n",
       " 2.630615472793579,\n",
       " 2.3690273761749268,\n",
       " 2.5692145824432373,\n",
       " 2.2586517333984375,\n",
       " 2.483337163925171,\n",
       " 2.2846453189849854,\n",
       " 2.3518221378326416,\n",
       " 2.4100215435028076,\n",
       " 2.3157496452331543,\n",
       " 2.4938738346099854,\n",
       " 2.3564341068267822,\n",
       " 2.549118757247925,\n",
       " 2.474238872528076,\n",
       " 2.4788150787353516,\n",
       " 2.3597772121429443,\n",
       " 2.2998921871185303,\n",
       " 2.5225541591644287,\n",
       " 2.4895851612091064,\n",
       " 2.5714352130889893,\n",
       " 2.538623809814453,\n",
       " 2.25136399269104,\n",
       " 2.5769333839416504,\n",
       " 2.3739452362060547,\n",
       " 2.481208324432373,\n",
       " 2.4714112281799316,\n",
       " 2.582770347595215,\n",
       " 2.402838706970215,\n",
       " 2.373814344406128,\n",
       " 2.456916332244873,\n",
       " 2.478581666946411,\n",
       " 2.55157208442688,\n",
       " 2.7434003353118896,\n",
       " 2.570014238357544,\n",
       " 2.2784266471862793,\n",
       " 2.385880708694458,\n",
       " 2.5457515716552734,\n",
       " 2.576829433441162,\n",
       " 2.5168697834014893,\n",
       " 2.5468637943267822,\n",
       " 2.4574055671691895,\n",
       " 2.9655284881591797,\n",
       " 2.54845929145813,\n",
       " 2.6395270824432373,\n",
       " 2.4696290493011475,\n",
       " 2.781754493713379,\n",
       " 2.399494171142578,\n",
       " 2.5357959270477295,\n",
       " 2.4682044982910156,\n",
       " 2.352024555206299,\n",
       " 2.624528646469116,\n",
       " 2.529304027557373,\n",
       " 2.4930953979492188,\n",
       " 2.70613169670105,\n",
       " 2.6262850761413574,\n",
       " 2.6526498794555664,\n",
       " 2.477522134780884,\n",
       " 2.331451416015625,\n",
       " 2.6671512126922607,\n",
       " 2.4640071392059326,\n",
       " 2.909188747406006,\n",
       " 2.499556303024292,\n",
       " 2.5381481647491455,\n",
       " 2.621453046798706,\n",
       " 2.5764689445495605,\n",
       " 2.4733474254608154,\n",
       " 2.9870476722717285,\n",
       " 2.4774913787841797,\n",
       " 2.4846246242523193,\n",
       " 2.652618646621704,\n",
       " 2.6191108226776123,\n",
       " 2.5802783966064453,\n",
       " 2.7713966369628906,\n",
       " 2.522714138031006,\n",
       " 2.597304344177246,\n",
       " 2.674731969833374,\n",
       " 2.525139331817627,\n",
       " 2.5884273052215576,\n",
       " 2.424586296081543,\n",
       " 2.442378520965576,\n",
       " 2.5043859481811523,\n",
       " 2.5198118686676025,\n",
       " 2.797466993331909,\n",
       " 2.5592262744903564,\n",
       " 2.670454263687134,\n",
       " 2.5816397666931152,\n",
       " 2.580681562423706,\n",
       " 2.580427646636963,\n",
       " 2.636378288269043,\n",
       " 2.751173496246338,\n",
       " 2.475297689437866,\n",
       " 2.527038097381592,\n",
       " 2.6576552391052246,\n",
       " 2.483253002166748,\n",
       " 2.6172573566436768,\n",
       " 2.4889883995056152,\n",
       " 2.5769877433776855,\n",
       " 2.801589250564575,\n",
       " 2.452803611755371,\n",
       " 2.657271385192871,\n",
       " 2.611581563949585,\n",
       " 2.596392869949341,\n",
       " 2.5791332721710205,\n",
       " 2.6516947746276855,\n",
       " 2.6019647121429443,\n",
       " 2.511789083480835,\n",
       " 2.498852014541626,\n",
       " 2.670954704284668,\n",
       " 2.56491756439209,\n",
       " 2.5174477100372314,\n",
       " 2.516957998275757,\n",
       " 2.851604461669922,\n",
       " 2.660160779953003,\n",
       " 2.577974319458008,\n",
       " 2.810640335083008,\n",
       " 2.5439724922180176,\n",
       " 2.870500087738037,\n",
       " 2.5087320804595947,\n",
       " 2.5582478046417236,\n",
       " 2.592796802520752,\n",
       " 2.597374439239502,\n",
       " 2.6273012161254883,\n",
       " 2.5711748600006104,\n",
       " 2.74234938621521,\n",
       " 2.546161413192749,\n",
       " 2.7242090702056885,\n",
       " 2.5786595344543457,\n",
       " 2.598362684249878,\n",
       " 2.6250736713409424,\n",
       " 2.698927879333496,\n",
       " 2.608295440673828,\n",
       " 2.80668044090271,\n",
       " 2.7562527656555176,\n",
       " 2.536046028137207,\n",
       " 2.7712788581848145,\n",
       " 2.7433507442474365,\n",
       " 2.5675294399261475,\n",
       " 2.618360996246338,\n",
       " 2.7437336444854736,\n",
       " 2.5834195613861084,\n",
       " 2.622234344482422,\n",
       " 2.5281906127929688,\n",
       " 2.4986989498138428,\n",
       " 2.6378252506256104,\n",
       " 2.52978253364563,\n",
       " 2.506986379623413,\n",
       " 2.555034875869751,\n",
       " 2.5777602195739746,\n",
       " 2.6094563007354736,\n",
       " 2.671752691268921,\n",
       " 2.674694299697876,\n",
       " 2.6134040355682373,\n",
       " 2.613391160964966,\n",
       " 2.713153600692749,\n",
       " 2.5052006244659424,\n",
       " 2.5460920333862305,\n",
       " 2.6759917736053467,\n",
       " 2.424705743789673,\n",
       " 2.546076774597168,\n",
       " 2.3912417888641357,\n",
       " 2.649972438812256,\n",
       " 2.5186657905578613,\n",
       " 2.590761423110962,\n",
       " 2.5015037059783936,\n",
       " 2.4555954933166504,\n",
       " 2.479100465774536,\n",
       " 2.5436761379241943,\n",
       " 2.567112684249878,\n",
       " 2.518831968307495,\n",
       " 2.646045446395874,\n",
       " 2.663576364517212,\n",
       " 2.5637831687927246,\n",
       " 2.6083292961120605,\n",
       " 2.6969845294952393,\n",
       " 2.7093541622161865,\n",
       " 2.699361562728882,\n",
       " 2.634284257888794,\n",
       " 2.527750015258789,\n",
       " 2.5517022609710693,\n",
       " 2.48880934715271,\n",
       " 2.61682391166687,\n",
       " 2.48952317237854,\n",
       " 2.7003536224365234,\n",
       " 2.4919967651367188,\n",
       " 2.55053448677063,\n",
       " 2.6094424724578857,\n",
       " 2.4492383003234863,\n",
       " 2.503018856048584,\n",
       " 2.8445568084716797,\n",
       " 2.55584454536438,\n",
       " 2.492471933364868,\n",
       " 2.534710168838501,\n",
       " 2.7784221172332764,\n",
       " 2.753340721130371,\n",
       " 2.5617847442626953,\n",
       " 2.6720492839813232,\n",
       " 2.590132236480713,\n",
       " 2.5000388622283936,\n",
       " 2.609222650527954,\n",
       " 2.5096256732940674,\n",
       " 2.547312021255493,\n",
       " 2.661069393157959,\n",
       " 2.557267904281616,\n",
       " 2.6137123107910156,\n",
       " 2.513813018798828,\n",
       " 2.5117433071136475,\n",
       " 2.4698405265808105,\n",
       " 2.646836280822754,\n",
       " 2.5811574459075928,\n",
       " 2.5616655349731445,\n",
       " 2.752239942550659,\n",
       " 2.7648816108703613,\n",
       " 2.6965866088867188,\n",
       " 2.55143141746521,\n",
       " 2.765718698501587,\n",
       " 2.602217197418213,\n",
       " 2.603698492050171,\n",
       " 2.5512378215789795,\n",
       " 2.756267547607422,\n",
       " 2.542100429534912,\n",
       " 2.873093366622925,\n",
       " 2.6589481830596924,\n",
       " 2.6725127696990967,\n",
       " 2.545889139175415,\n",
       " 2.515693426132202,\n",
       " 2.5556299686431885,\n",
       " 2.623303174972534,\n",
       " 2.6848676204681396,\n",
       " 2.774273633956909,\n",
       " 2.8057339191436768,\n",
       " 2.8619778156280518,\n",
       " 2.5027260780334473,\n",
       " 2.5846550464630127,\n",
       " 2.637073278427124,\n",
       " 2.6291913986206055,\n",
       " 2.7456538677215576,\n",
       " 2.9104955196380615,\n",
       " 2.7325565814971924,\n",
       " 2.637415885925293,\n",
       " 2.871342658996582,\n",
       " 2.7054061889648438,\n",
       " 2.7744662761688232,\n",
       " 2.7612545490264893,\n",
       " 2.530083179473877,\n",
       " 2.6767351627349854,\n",
       " 2.681886672973633,\n",
       " 2.759080648422241,\n",
       " 2.6275315284729004,\n",
       " 2.8178870677948,\n",
       " 2.5397799015045166,\n",
       " 2.6073830127716064,\n",
       " 2.5550038814544678,\n",
       " 2.555711507797241,\n",
       " 2.55295729637146,\n",
       " 2.605645179748535,\n",
       " 2.8730084896087646,\n",
       " 2.745068311691284,\n",
       " 2.7403643131256104,\n",
       " 2.607840061187744,\n",
       " 2.6460931301116943,\n",
       " 2.9331910610198975,\n",
       " 2.438011407852173,\n",
       " 2.523235559463501,\n",
       " 2.5695269107818604,\n",
       " 2.562188148498535,\n",
       " 2.728318691253662,\n",
       " 2.595801591873169,\n",
       " 2.682469129562378,\n",
       " 2.5847744941711426,\n",
       " 2.65329647064209,\n",
       " 2.693549156188965,\n",
       " 2.702599287033081,\n",
       " 2.7743723392486572,\n",
       " 2.6026294231414795,\n",
       " 2.6601438522338867,\n",
       " 2.76064133644104,\n",
       " 2.648968458175659,\n",
       " 2.634059429168701,\n",
       " 2.619830369949341,\n",
       " 2.5604429244995117,\n",
       " 2.628427743911743,\n",
       " 2.6540727615356445,\n",
       " 2.8507204055786133,\n",
       " 2.5979442596435547,\n",
       " 2.5417287349700928,\n",
       " 2.4372849464416504,\n",
       " 2.660667896270752,\n",
       " 2.6851441860198975,\n",
       " 2.7849631309509277,\n",
       " 2.7301056385040283,\n",
       " 2.7028512954711914,\n",
       " 2.5527195930480957,\n",
       " 2.6891567707061768,\n",
       " 2.6624135971069336,\n",
       " 2.5988948345184326,\n",
       " 2.598344326019287,\n",
       " 2.6847310066223145,\n",
       " 2.590956926345825,\n",
       " 2.7126214504241943,\n",
       " 2.7578916549682617,\n",
       " 2.5279510021209717,\n",
       " 3.024791955947876,\n",
       " 2.6161904335021973,\n",
       " 2.5738794803619385,\n",
       " 2.560213565826416,\n",
       " 2.6683428287506104,\n",
       " 2.461122989654541,\n",
       " 2.6350765228271484,\n",
       " 2.5955684185028076,\n",
       " 2.713078498840332,\n",
       " 2.6995415687561035,\n",
       " 2.5781643390655518,\n",
       " 2.588665008544922,\n",
       " 2.731739044189453,\n",
       " 2.7815661430358887,\n",
       " 2.550410747528076,\n",
       " 2.8751308917999268,\n",
       " 2.5837504863739014,\n",
       " 2.7439136505126953,\n",
       " 2.4757590293884277,\n",
       " 2.628067970275879,\n",
       " 2.603672742843628,\n",
       " 2.5663557052612305,\n",
       " 2.5449724197387695,\n",
       " 2.564523458480835,\n",
       " 2.5456793308258057,\n",
       " 2.720999240875244,\n",
       " 2.600947618484497,\n",
       " 2.5784311294555664,\n",
       " 2.7039175033569336,\n",
       " 2.5358290672302246,\n",
       " 2.590088129043579,\n",
       " 2.8085620403289795,\n",
       " 2.8800199031829834,\n",
       " 2.6780078411102295,\n",
       " 2.756063938140869,\n",
       " 2.744967222213745,\n",
       " 2.612252712249756,\n",
       " 2.5560202598571777,\n",
       " 2.5718772411346436,\n",
       " 2.6877782344818115,\n",
       " 2.60782790184021,\n",
       " 2.7002949714660645,\n",
       " 2.7132744789123535,\n",
       " 2.6188509464263916,\n",
       " 2.5648386478424072,\n",
       " 2.6668317317962646,\n",
       " 2.677138566970825,\n",
       " 2.7667226791381836,\n",
       " 2.6020567417144775,\n",
       " 2.823146343231201,\n",
       " 2.855677604675293,\n",
       " 2.8026816844940186,\n",
       " 2.609865427017212,\n",
       " 2.8566417694091797,\n",
       " 2.7357516288757324,\n",
       " 2.712937355041504,\n",
       " 2.742889404296875,\n",
       " 2.570347309112549,\n",
       " 2.6445040702819824,\n",
       " 2.670774221420288,\n",
       " 2.6290194988250732,\n",
       " 2.7546072006225586,\n",
       " 2.7380988597869873,\n",
       " 2.64898681640625,\n",
       " 2.7545666694641113,\n",
       " 2.6038432121276855,\n",
       " 2.4689576625823975,\n",
       " 2.6907894611358643,\n",
       " 2.6428682804107666,\n",
       " 2.693117141723633,\n",
       " 2.7825675010681152,\n",
       " 3.0062763690948486,\n",
       " 2.6199610233306885,\n",
       " 2.7535972595214844,\n",
       " 2.6601626873016357,\n",
       " 2.704529047012329,\n",
       " 2.4599125385284424,\n",
       " 2.7321436405181885,\n",
       " 2.580010175704956,\n",
       " 2.650628089904785,\n",
       " 2.634882926940918,\n",
       " 2.525033950805664,\n",
       " 2.5869829654693604,\n",
       " 2.9042742252349854,\n",
       " 2.701847553253174,\n",
       " 2.6568667888641357,\n",
       " 2.6002917289733887,\n",
       " 2.581993579864502,\n",
       " 2.676128387451172,\n",
       " 2.5518877506256104,\n",
       " 2.637086868286133,\n",
       " 2.599062204360962,\n",
       " 2.7111258506774902,\n",
       " 2.820284128189087,\n",
       " 2.5988852977752686,\n",
       " 2.6129534244537354,\n",
       " 2.5243427753448486,\n",
       " 2.522712230682373,\n",
       " 2.9036190509796143]"
      ]
     },
     "execution_count": 17,
     "metadata": {},
     "output_type": "execute_result"
    }
   ],
   "source": [
    "average_mae_history"
   ]
  },
  {
   "cell_type": "markdown",
   "metadata": {},
   "source": [
    "#### Listing 3.30 Plotting validation scores"
   ]
  },
  {
   "cell_type": "code",
   "execution_count": 18,
   "metadata": {},
   "outputs": [
    {
     "data": {
      "image/png": "[encoded data removed]",
      "text/plain": [
       "<Figure size 432x288 with 1 Axes>"
      ]
     },
     "metadata": {
      "needs_background": "light"
     },
     "output_type": "display_data"
    }
   ],
   "source": [
    "import matplotlib.pyplot as plt\n",
    "plt.plot(average_mae_history)\n",
    "plt.xlabel('Epochs')\n",
    "plt.ylabel('Validation MAE')\n",
    "plt.show()"
   ]
  },
  {
   "cell_type": "code",
   "execution_count": 19,
   "metadata": {},
   "outputs": [
    {
     "data": {
      "image/png": "[encoded data removed]",
      "text/plain": [
       "<Figure size 432x288 with 1 Axes>"
      ]
     },
     "metadata": {
      "needs_background": "light"
     },
     "output_type": "display_data"
    }
   ],
   "source": [
    "import matplotlib.pyplot as plt\n",
    "plt.plot(range(1, len(average_mae_history) + 1), average_mae_history)\n",
    "plt.xlabel('Epochs')\n",
    "plt.ylabel('Validation MAE')\n",
    "plt.show()"
   ]
  },
  {
   "cell_type": "markdown",
   "metadata": {},
   "source": [
    "#### Listing 3.31 Plotting validation scores, excluding the first 10 data points\n"
   ]
  },
  {
   "cell_type": "code",
   "execution_count": 20,
   "metadata": {},
   "outputs": [
    {
     "data": {
      "image/png": "[encoded data removed]",
      "text/plain": [
       "<Figure size 432x288 with 1 Axes>"
      ]
     },
     "metadata": {
      "needs_background": "light"
     },
     "output_type": "display_data"
    }
   ],
   "source": [
    "def smooth_curve(points, factor=0.9):\n",
    "    smoothed_points = []\n",
    "    for point in points:\n",
    "        if smoothed_points:\n",
    "            previous = smoothed_points[-1]\n",
    "            smoothed_points.append(previous * factor + point * (1 - factor))\n",
    "        else:\n",
    "            smoothed_points.append(point)\n",
    "    return smoothed_points\n",
    "    \n",
    "smooth_mae_history = smooth_curve(average_mae_history[10:])\n",
    "plt.plot(range(1, len(smooth_mae_history) + 1), smooth_mae_history)\n",
    "plt.xlabel('Epochs')\n",
    "plt.ylabel('Validation MAE')\n",
    "plt.show()\n"
   ]
  },
  {
   "cell_type": "markdown",
   "metadata": {},
   "source": [
    "#### Listing 3.32 Training the final model"
   ]
  },
  {
   "cell_type": "code",
   "execution_count": 21,
   "metadata": {},
   "outputs": [
    {
     "name": "stdout",
     "output_type": "stream",
     "text": [
      "4/4 [==============================] - 0s 998us/step - loss: 16.7409 - mae: 2.5223\n"
     ]
    }
   ],
   "source": [
    "model = build_model()\n",
    "model.fit(train_data, train_targets,\n",
    "          epochs=100, batch_size=16, verbose=0)\n",
    "test_mse_score, test_mae_score = model.evaluate(test_data, test_targets)"
   ]
  },
  {
   "cell_type": "code",
   "execution_count": 22,
   "metadata": {},
   "outputs": [
    {
     "data": {
      "text/plain": [
       "16.74091148376465"
      ]
     },
     "execution_count": 22,
     "metadata": {},
     "output_type": "execute_result"
    }
   ],
   "source": [
    "test_mse_score"
   ]
  },
  {
   "cell_type": "code",
   "execution_count": 23,
   "metadata": {},
   "outputs": [
    {
     "data": {
      "text/plain": [
       "2.5223228931427"
      ]
     },
     "execution_count": 23,
     "metadata": {},
     "output_type": "execute_result"
    }
   ],
   "source": [
    "test_mae_score"
   ]
  },
  {
   "cell_type": "markdown",
   "metadata": {},
   "source": [
    "You’re still off by about $2,550."
   ]
  },
  {
   "cell_type": "code",
   "execution_count": 24,
   "metadata": {
    "scrolled": true
   },
   "outputs": [
    {
     "data": {
      "text/plain": [
       "array([[ 9.101512 ],\n",
       "       [19.235403 ],\n",
       "       [21.59996  ],\n",
       "       [34.134117 ],\n",
       "       [24.424324 ],\n",
       "       [21.785686 ],\n",
       "       [26.902012 ],\n",
       "       [20.743797 ],\n",
       "       [19.27387  ],\n",
       "       [22.435722 ],\n",
       "       [18.378298 ],\n",
       "       [16.110445 ],\n",
       "       [15.859771 ],\n",
       "       [41.742867 ],\n",
       "       [21.646078 ],\n",
       "       [19.677326 ],\n",
       "       [25.443823 ],\n",
       "       [18.54337  ],\n",
       "       [18.121853 ],\n",
       "       [26.221228 ],\n",
       "       [10.9041395],\n",
       "       [14.015107 ],\n",
       "       [21.410603 ],\n",
       "       [14.294491 ],\n",
       "       [19.036343 ],\n",
       "       [24.90824  ],\n",
       "       [28.926525 ],\n",
       "       [29.993353 ],\n",
       "       [10.977785 ],\n",
       "       [19.271265 ],\n",
       "       [20.009024 ],\n",
       "       [14.671129 ],\n",
       "       [32.480915 ],\n",
       "       [23.425598 ],\n",
       "       [17.223736 ],\n",
       "       [ 6.36365  ],\n",
       "       [16.5881   ],\n",
       "       [17.627003 ],\n",
       "       [19.369482 ],\n",
       "       [25.495083 ],\n",
       "       [30.972782 ],\n",
       "       [26.577679 ],\n",
       "       [13.412501 ],\n",
       "       [43.914192 ],\n",
       "       [29.206902 ],\n",
       "       [25.445446 ],\n",
       "       [27.460815 ],\n",
       "       [17.137741 ],\n",
       "       [23.094841 ],\n",
       "       [21.874178 ],\n",
       "       [35.673264 ],\n",
       "       [20.492558 ],\n",
       "       [11.0179405],\n",
       "       [14.693795 ],\n",
       "       [34.46608  ],\n",
       "       [27.17265  ],\n",
       "       [13.108288 ],\n",
       "       [48.25191  ],\n",
       "       [33.172413 ],\n",
       "       [23.2392   ],\n",
       "       [26.775848 ],\n",
       "       [17.223373 ],\n",
       "       [16.607693 ],\n",
       "       [20.146156 ],\n",
       "       [23.040047 ],\n",
       "       [20.06439  ],\n",
       "       [13.280892 ],\n",
       "       [21.581306 ],\n",
       "       [13.063735 ],\n",
       "       [ 7.5637746],\n",
       "       [25.612783 ],\n",
       "       [29.223204 ],\n",
       "       [26.04448  ],\n",
       "       [13.266528 ],\n",
       "       [25.134533 ],\n",
       "       [17.898325 ],\n",
       "       [18.83522  ],\n",
       "       [23.186453 ],\n",
       "       [35.265175 ],\n",
       "       [10.407957 ],\n",
       "       [21.095274 ],\n",
       "       [37.810127 ],\n",
       "       [16.031    ],\n",
       "       [13.872885 ],\n",
       "       [16.894958 ],\n",
       "       [17.53756  ],\n",
       "       [22.337227 ],\n",
       "       [21.633003 ],\n",
       "       [20.435688 ],\n",
       "       [31.63765  ],\n",
       "       [19.1282   ],\n",
       "       [18.356876 ],\n",
       "       [24.992546 ],\n",
       "       [42.46752  ],\n",
       "       [35.4149   ],\n",
       "       [21.345463 ],\n",
       "       [35.176178 ],\n",
       "       [48.790512 ],\n",
       "       [25.599854 ],\n",
       "       [47.549046 ],\n",
       "       [29.935087 ],\n",
       "       [19.956367 ]], dtype=float32)"
      ]
     },
     "execution_count": 24,
     "metadata": {},
     "output_type": "execute_result"
    }
   ],
   "source": [
    "model.predict(test_data)"
   ]
  },
  {
   "cell_type": "code",
   "execution_count": null,
   "metadata": {},
   "outputs": [],
   "source": []
  }
 ],
 "metadata": {
  "kernelspec": {
   "display_name": "Python 3",
   "language": "python",
   "name": "python3"
  },
  "language_info": {
   "codemirror_mode": {
    "name": "ipython",
    "version": 3
   },
   "file_extension": ".py",
   "mimetype": "text/x-python",
   "name": "python",
   "nbconvert_exporter": "python",
   "pygments_lexer": "ipython3",
   "version": "3.8.3"
  }
 },
 "nbformat": 4,
 "nbformat_minor": 2
}
