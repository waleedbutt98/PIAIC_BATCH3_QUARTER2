{
 "cells": [
  {
   "cell_type": "code",
   "execution_count": 2,
   "metadata": {},
   "outputs": [
    {
     "data": {
      "text/html": [
       "<div>\n",
       "<style scoped>\n",
       "    .dataframe tbody tr th:only-of-type {\n",
       "        vertical-align: middle;\n",
       "    }\n",
       "\n",
       "    .dataframe tbody tr th {\n",
       "        vertical-align: top;\n",
       "    }\n",
       "\n",
       "    .dataframe thead th {\n",
       "        text-align: right;\n",
       "    }\n",
       "</style>\n",
       "<table border=\"1\" class=\"dataframe\">\n",
       "  <thead>\n",
       "    <tr style=\"text-align: right;\">\n",
       "      <th></th>\n",
       "      <th>Gender</th>\n",
       "      <th>Height</th>\n",
       "      <th>Weight</th>\n",
       "    </tr>\n",
       "  </thead>\n",
       "  <tbody>\n",
       "    <tr>\n",
       "      <th>0</th>\n",
       "      <td>Male</td>\n",
       "      <td>73.847017</td>\n",
       "      <td>241.893563</td>\n",
       "    </tr>\n",
       "    <tr>\n",
       "      <th>1</th>\n",
       "      <td>Male</td>\n",
       "      <td>68.781904</td>\n",
       "      <td>162.310473</td>\n",
       "    </tr>\n",
       "    <tr>\n",
       "      <th>2</th>\n",
       "      <td>Male</td>\n",
       "      <td>74.110105</td>\n",
       "      <td>212.740856</td>\n",
       "    </tr>\n",
       "    <tr>\n",
       "      <th>3</th>\n",
       "      <td>Male</td>\n",
       "      <td>71.730978</td>\n",
       "      <td>220.042470</td>\n",
       "    </tr>\n",
       "    <tr>\n",
       "      <th>4</th>\n",
       "      <td>Male</td>\n",
       "      <td>69.881796</td>\n",
       "      <td>206.349801</td>\n",
       "    </tr>\n",
       "    <tr>\n",
       "      <th>...</th>\n",
       "      <td>...</td>\n",
       "      <td>...</td>\n",
       "      <td>...</td>\n",
       "    </tr>\n",
       "    <tr>\n",
       "      <th>9995</th>\n",
       "      <td>Female</td>\n",
       "      <td>66.172652</td>\n",
       "      <td>136.777454</td>\n",
       "    </tr>\n",
       "    <tr>\n",
       "      <th>9996</th>\n",
       "      <td>Female</td>\n",
       "      <td>67.067155</td>\n",
       "      <td>170.867906</td>\n",
       "    </tr>\n",
       "    <tr>\n",
       "      <th>9997</th>\n",
       "      <td>Female</td>\n",
       "      <td>63.867992</td>\n",
       "      <td>128.475319</td>\n",
       "    </tr>\n",
       "    <tr>\n",
       "      <th>9998</th>\n",
       "      <td>Female</td>\n",
       "      <td>69.034243</td>\n",
       "      <td>163.852461</td>\n",
       "    </tr>\n",
       "    <tr>\n",
       "      <th>9999</th>\n",
       "      <td>Female</td>\n",
       "      <td>61.944246</td>\n",
       "      <td>113.649103</td>\n",
       "    </tr>\n",
       "  </tbody>\n",
       "</table>\n",
       "<p>10000 rows × 3 columns</p>\n",
       "</div>"
      ],
      "text/plain": [
       "      Gender     Height      Weight\n",
       "0       Male  73.847017  241.893563\n",
       "1       Male  68.781904  162.310473\n",
       "2       Male  74.110105  212.740856\n",
       "3       Male  71.730978  220.042470\n",
       "4       Male  69.881796  206.349801\n",
       "...      ...        ...         ...\n",
       "9995  Female  66.172652  136.777454\n",
       "9996  Female  67.067155  170.867906\n",
       "9997  Female  63.867992  128.475319\n",
       "9998  Female  69.034243  163.852461\n",
       "9999  Female  61.944246  113.649103\n",
       "\n",
       "[10000 rows x 3 columns]"
      ]
     },
     "execution_count": 2,
     "metadata": {},
     "output_type": "execute_result"
    }
   ],
   "source": [
    "import numpy as np\n",
    "import pandas as pd\n",
    "import matplotlib.pyplot as plt\n",
    "df = pd.read_csv('data/weight-height.csv')\n",
    "df"
   ]
  },
  {
   "cell_type": "code",
   "execution_count": 3,
   "metadata": {},
   "outputs": [
    {
     "data": {
      "text/html": [
       "<div>\n",
       "<style scoped>\n",
       "    .dataframe tbody tr th:only-of-type {\n",
       "        vertical-align: middle;\n",
       "    }\n",
       "\n",
       "    .dataframe tbody tr th {\n",
       "        vertical-align: top;\n",
       "    }\n",
       "\n",
       "    .dataframe thead th {\n",
       "        text-align: right;\n",
       "    }\n",
       "</style>\n",
       "<table border=\"1\" class=\"dataframe\">\n",
       "  <thead>\n",
       "    <tr style=\"text-align: right;\">\n",
       "      <th></th>\n",
       "      <th>Weight</th>\n",
       "    </tr>\n",
       "  </thead>\n",
       "  <tbody>\n",
       "    <tr>\n",
       "      <th>0</th>\n",
       "      <td>241.893563</td>\n",
       "    </tr>\n",
       "    <tr>\n",
       "      <th>1</th>\n",
       "      <td>162.310473</td>\n",
       "    </tr>\n",
       "  </tbody>\n",
       "</table>\n",
       "</div>"
      ],
      "text/plain": [
       "       Weight\n",
       "0  241.893563\n",
       "1  162.310473"
      ]
     },
     "execution_count": 3,
     "metadata": {},
     "output_type": "execute_result"
    }
   ],
   "source": [
    "X = df[[\"Weight\"]]\n",
    "Y = df[[\"Height\"]]\n",
    "X.head(2)"
   ]
  },
  {
   "cell_type": "code",
   "execution_count": 5,
   "metadata": {},
   "outputs": [
    {
     "data": {
      "text/plain": [
       "Text(0.5, 0, 'B')"
      ]
     },
     "execution_count": 5,
     "metadata": {},
     "output_type": "execute_result"
    },
    {
     "data": {
      "image/png": "[encoded data removed]",
      "text/plain": [
       "<Figure size 720x360 with 2 Axes>"
      ]
     },
     "metadata": {
      "needs_background": "light"
     },
     "output_type": "display_data"
    }
   ],
   "source": [
    "def line(x,w=0,b=0):\n",
    "    return w * x + b #Like a line\n",
    "\n",
    "def mean_squared_error(y_true,y_pred):\n",
    "    s = (y_true - y_pred) ** 2\n",
    "    return np.sqrt(s.mean())\n",
    "\n",
    "y_true = Y\n",
    "\n",
    "plt.figure(figsize=(10,5))\n",
    "ax1  = plt.subplot(121)\n",
    "df.plot(kind='scatter',x='Weight',y='Height',title=\"Weights vs Heights\",ax=ax1)\n",
    "\n",
    "bs = np.array([-100,-50,-25,0,25,50,100,150])\n",
    "\n",
    "mses =[]#Mean Square Error\n",
    "for b in bs:\n",
    "    y_pred = line(X,w=2,b=b)\n",
    "    mse = mean_squared_error(y_true,y_pred)\n",
    "    mses.append(mse)\n",
    "    plt.plot(X,y_pred)\n",
    "    \n",
    "ax2 = plt.subplot(122)\n",
    "plt.plot(bs,mses,'o-')\n",
    "plt.title(\"Cost Function\")\n",
    "plt.xlabel(\"B\")"
   ]
  },
  {
   "cell_type": "code",
   "execution_count": 6,
   "metadata": {},
   "outputs": [
    {
     "name": "stdout",
     "output_type": "stream",
     "text": [
      "Using matplotlib backend: Qt5Agg\n"
     ]
    }
   ],
   "source": [
    "%matplotlib"
   ]
  },
  {
   "cell_type": "code",
   "execution_count": 8,
   "metadata": {},
   "outputs": [
    {
     "name": "stdout",
     "output_type": "stream",
     "text": [
      "       Weight\n",
      "0  241.893563\n",
      "1  162.310473\n",
      "       Weight\n",
      "0  633.787126\n",
      "1  474.620945\n"
     ]
    },
    {
     "data": {
      "text/plain": [
       "(10000, 1)"
      ]
     },
     "execution_count": 8,
     "metadata": {},
     "output_type": "execute_result"
    }
   ],
   "source": [
    "from tensorflow.keras.models import Sequential\n",
    "from tensorflow.keras.layers import Dense\n",
    "from tensorflow.keras.optimizers import Adam, SGD\n",
    "\n",
    "%matplotlib inline\n",
    "import numpy as np\n",
    "import pandas as pd\n",
    "import matplotlib.pyplot as plt\n",
    "\n",
    "print(X[:2])\n",
    "print(y_pred[:2])\n",
    "\n",
    "X.shape"
   ]
  },
  {
   "cell_type": "code",
   "execution_count": 9,
   "metadata": {},
   "outputs": [
    {
     "name": "stdout",
     "output_type": "stream",
     "text": [
      "Model: \"sequential\"\n",
      "_________________________________________________________________\n",
      "Layer (type)                 Output Shape              Param #   \n",
      "=================================================================\n",
      "dense (Dense)                (None, 1)                 2         \n",
      "=================================================================\n",
      "Total params: 2\n",
      "Trainable params: 2\n",
      "Non-trainable params: 0\n",
      "_________________________________________________________________\n"
     ]
    }
   ],
   "source": [
    "model = Sequential()\n",
    "\n",
    "#model Structure\n",
    "model.add(Dense(1, input_shape=(1,)))\n",
    "\n",
    "model.summary()"
   ]
  },
  {
   "cell_type": "code",
   "execution_count": 10,
   "metadata": {
    "scrolled": true
   },
   "outputs": [
    {
     "name": "stdout",
     "output_type": "stream",
     "text": [
      "Epoch 1/40\n",
      "313/313 [==============================] - 0s 1ms/step - loss: 334.5934\n",
      "Epoch 2/40\n",
      "313/313 [==============================] - 0s 1ms/step - loss: 25.5938\n",
      "Epoch 3/40\n",
      "313/313 [==============================] - 0s 1ms/step - loss: 7.6736\n",
      "Epoch 4/40\n",
      "313/313 [==============================] - 0s 1ms/step - loss: 3.9124\n",
      "Epoch 5/40\n",
      "313/313 [==============================] - 0s 1ms/step - loss: 4.2022\n",
      "Epoch 6/40\n",
      "313/313 [==============================] - 0s 1ms/step - loss: 8.2508\n",
      "Epoch 7/40\n",
      "313/313 [==============================] - 0s 1ms/step - loss: 15.5926\n",
      "Epoch 8/40\n",
      "313/313 [==============================] - 0s 1ms/step - loss: 15.1312\n",
      "Epoch 9/40\n",
      "313/313 [==============================] - 0s 1ms/step - loss: 14.9360\n",
      "Epoch 10/40\n",
      "313/313 [==============================] - 0s 1ms/step - loss: 24.4064\n",
      "Epoch 11/40\n",
      "313/313 [==============================] - 0s 1ms/step - loss: 21.7863\n",
      "Epoch 12/40\n",
      "313/313 [==============================] - 1s 2ms/step - loss: 17.9770\n",
      "Epoch 13/40\n",
      "313/313 [==============================] - 0s 2ms/step - loss: 19.8805\n",
      "Epoch 14/40\n",
      "313/313 [==============================] - 0s 1ms/step - loss: 14.6253\n",
      "Epoch 15/40\n",
      "313/313 [==============================] - 0s 1ms/step - loss: 16.0320\n",
      "Epoch 16/40\n",
      "313/313 [==============================] - 0s 1ms/step - loss: 21.2626\n",
      "Epoch 17/40\n",
      "313/313 [==============================] - 0s 1ms/step - loss: 12.8005\n",
      "Epoch 18/40\n",
      "313/313 [==============================] - 0s 1ms/step - loss: 17.5233\n",
      "Epoch 19/40\n",
      "313/313 [==============================] - 0s 1ms/step - loss: 26.2855\n",
      "Epoch 20/40\n",
      "313/313 [==============================] - 0s 1ms/step - loss: 15.4286\n",
      "Epoch 21/40\n",
      "313/313 [==============================] - 0s 1ms/step - loss: 18.1092\n",
      "Epoch 22/40\n",
      "313/313 [==============================] - 0s 1ms/step - loss: 17.3428\n",
      "Epoch 23/40\n",
      "313/313 [==============================] - 0s 1ms/step - loss: 19.1569\n",
      "Epoch 24/40\n",
      "313/313 [==============================] - 0s 1ms/step - loss: 17.8258\n",
      "Epoch 25/40\n",
      "313/313 [==============================] - 0s 1ms/step - loss: 32.7575\n",
      "Epoch 26/40\n",
      "313/313 [==============================] - 0s 1ms/step - loss: 8.4217\n",
      "Epoch 27/40\n",
      "313/313 [==============================] - 0s 1ms/step - loss: 22.2923\n",
      "Epoch 28/40\n",
      "313/313 [==============================] - 0s 1ms/step - loss: 15.6726\n",
      "Epoch 29/40\n",
      "313/313 [==============================] - 0s 1ms/step - loss: 12.9472\n",
      "Epoch 30/40\n",
      "313/313 [==============================] - 0s 1ms/step - loss: 24.1281\n",
      "Epoch 31/40\n",
      "313/313 [==============================] - 0s 1ms/step - loss: 11.7387\n",
      "Epoch 32/40\n",
      "313/313 [==============================] - 0s 1ms/step - loss: 25.0467\n",
      "Epoch 33/40\n",
      "313/313 [==============================] - 0s 1ms/step - loss: 19.0801\n",
      "Epoch 34/40\n",
      "313/313 [==============================] - 0s 1ms/step - loss: 17.5216\n",
      "Epoch 35/40\n",
      "313/313 [==============================] - 0s 1ms/step - loss: 17.1710\n",
      "Epoch 36/40\n",
      "313/313 [==============================] - 0s 1ms/step - loss: 13.7915\n",
      "Epoch 37/40\n",
      "313/313 [==============================] - 0s 1ms/step - loss: 20.6579\n",
      "Epoch 38/40\n",
      "313/313 [==============================] - 0s 1ms/step - loss: 15.3801\n",
      "Epoch 39/40\n",
      "313/313 [==============================] - 0s 1ms/step - loss: 20.0875\n",
      "Epoch 40/40\n",
      "313/313 [==============================] - 0s 1ms/step - loss: 16.5516\n"
     ]
    },
    {
     "data": {
      "text/plain": [
       "<tensorflow.python.keras.callbacks.History at 0x7fa2a01fc210>"
      ]
     },
     "execution_count": 10,
     "metadata": {},
     "output_type": "execute_result"
    }
   ],
   "source": [
    "model.compile(Adam(lr=0.8), \"mean_squared_error\")\n",
    "model.fit(X, y_true, epochs=40)"
   ]
  },
  {
   "cell_type": "code",
   "execution_count": 11,
   "metadata": {},
   "outputs": [
    {
     "data": {
      "text/plain": [
       "array([[79.4776  ],\n",
       "       [69.25118 ],\n",
       "       [75.73148 ],\n",
       "       ...,\n",
       "       [64.903366],\n",
       "       [69.449326],\n",
       "       [62.9982  ]], dtype=float32)"
      ]
     },
     "execution_count": 11,
     "metadata": {},
     "output_type": "execute_result"
    }
   ],
   "source": [
    "y_pred = model.predict(X)\n",
    "y_pred"
   ]
  },
  {
   "cell_type": "code",
   "execution_count": 12,
   "metadata": {},
   "outputs": [
    {
     "data": {
      "text/plain": [
       "<function matplotlib.pyplot.plot(*args, scalex=True, scaley=True, data=None, **kwargs)>"
      ]
     },
     "execution_count": 12,
     "metadata": {},
     "output_type": "execute_result"
    },
    {
     "data": {
      "image/png": "[encoded data removed]",
      "text/plain": [
       "<Figure size 432x288 with 1 Axes>"
      ]
     },
     "metadata": {
      "needs_background": "light"
     },
     "output_type": "display_data"
    }
   ],
   "source": [
    "df.plot(kind=\"scatter\", x=\"Height\", y=\"Weight\", title=\"H vs W with Deep Learning\")\n",
    "plt.plot"
   ]
  },
  {
   "cell_type": "code",
   "execution_count": null,
   "metadata": {},
   "outputs": [],
   "source": []
  }
 ],
 "metadata": {
  "kernelspec": {
   "display_name": "Python 3",
   "language": "python",
   "name": "python3"
  },
  "language_info": {
   "codemirror_mode": {
    "name": "ipython",
    "version": 3
   },
   "file_extension": ".py",
   "mimetype": "text/x-python",
   "name": "python",
   "nbconvert_exporter": "python",
   "pygments_lexer": "ipython3",
   "version": "3.8.3"
  }
 },
 "nbformat": 4,
 "nbformat_minor": 2
}
