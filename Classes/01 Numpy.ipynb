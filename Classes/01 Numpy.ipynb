{
 "cells": [
  {
   "cell_type": "code",
   "execution_count": 3,
   "metadata": {},
   "outputs": [
    {
     "name": "stdout",
     "output_type": "stream",
     "text": [
      "[[[ 1  2  3]\n",
      "  [ 4  5  6]\n",
      "  [ 7  8  9]]\n",
      "\n",
      " [[10 11 12]\n",
      "  [13 14 15]\n",
      "  [16 17 18]]\n",
      "\n",
      " [[19 20 21]\n",
      "  [22 23 24]\n",
      "  [25 26 27]]]\n"
     ]
    }
   ],
   "source": [
    "import numpy as np\n",
    "a = np.arange(1,28).reshape((3,3,3))\n",
    "print(a)"
   ]
  },
  {
   "cell_type": "code",
   "execution_count": 4,
   "metadata": {},
   "outputs": [
    {
     "name": "stdout",
     "output_type": "stream",
     "text": [
      "(3, 3, 3)\n"
     ]
    }
   ],
   "source": [
    "print(a.shape)"
   ]
  },
  {
   "cell_type": "code",
   "execution_count": 5,
   "metadata": {},
   "outputs": [
    {
     "name": "stdout",
     "output_type": "stream",
     "text": [
      "3\n"
     ]
    }
   ],
   "source": [
    "print(a.ndim)"
   ]
  },
  {
   "cell_type": "code",
   "execution_count": 6,
   "metadata": {},
   "outputs": [
    {
     "name": "stdout",
     "output_type": "stream",
     "text": [
      "[[[ 2  4  6]\n",
      "  [ 8 10 12]\n",
      "  [14 16 18]]\n",
      "\n",
      " [[20 22 24]\n",
      "  [26 28 30]\n",
      "  [32 34 36]]\n",
      "\n",
      " [[38 40 42]\n",
      "  [44 46 48]\n",
      "  [50 52 54]]]\n"
     ]
    }
   ],
   "source": [
    "a += a\n",
    "print(a)"
   ]
  },
  {
   "cell_type": "code",
   "execution_count": 19,
   "metadata": {},
   "outputs": [
    {
     "name": "stdout",
     "output_type": "stream",
     "text": [
      "[[[0.54776955 0.58224724 0.40946126 0.39921912 0.83835373]\n",
      "  [0.75383069 0.92443643 0.03126985 0.2739303  0.54094574]\n",
      "  [0.60506028 0.71971083 0.0683005  0.11494305 0.68407298]\n",
      "  [0.67734388 0.46612772 0.36691568 0.83032089 0.43630731]]\n",
      "\n",
      " [[0.24404705 0.02705113 0.48295927 0.80626108 0.36461619]\n",
      "  [0.04663942 0.20493265 0.14452021 0.30395694 0.35544547]\n",
      "  [0.19673202 0.63811531 0.54318108 0.65730707 0.80971185]\n",
      "  [0.91611331 0.15896419 0.55154876 0.82508614 0.73028266]]\n",
      "\n",
      " [[0.00314909 0.7916799  0.19795338 0.54451232 0.95251199]\n",
      "  [0.01194813 0.22404923 0.54221407 0.0472597  0.09201298]\n",
      "  [0.99596696 0.42784045 0.77813611 0.06352754 0.49634553]\n",
      "  [0.82580356 0.49670854 0.88141605 0.50957142 0.27061821]]]\n"
     ]
    }
   ],
   "source": [
    "a = np.random.rand(3,4,5)\n",
    "print(a)"
   ]
  },
  {
   "cell_type": "code",
   "execution_count": 20,
   "metadata": {},
   "outputs": [
    {
     "name": "stdout",
     "output_type": "stream",
     "text": [
      "<class 'numpy.ndarray'>\n"
     ]
    }
   ],
   "source": [
    "arr = [1,2,3]\n",
    "print(type(a))"
   ]
  },
  {
   "cell_type": "code",
   "execution_count": 21,
   "metadata": {},
   "outputs": [
    {
     "data": {
      "text/plain": [
       "numpy.ndarray"
      ]
     },
     "execution_count": 21,
     "metadata": {},
     "output_type": "execute_result"
    }
   ],
   "source": [
    "a = np.array(a)\n",
    "type(a)"
   ]
  },
  {
   "cell_type": "markdown",
   "metadata": {},
   "source": [
    "# np.array"
   ]
  },
  {
   "cell_type": "code",
   "execution_count": 22,
   "metadata": {},
   "outputs": [
    {
     "data": {
      "text/plain": [
       "False"
      ]
     },
     "execution_count": 22,
     "metadata": {},
     "output_type": "execute_result"
    }
   ],
   "source": [
    "List = [1,2,3]\n",
    "a = np.array(List)\n",
    "a is List"
   ]
  },
  {
   "cell_type": "code",
   "execution_count": 23,
   "metadata": {},
   "outputs": [
    {
     "data": {
      "text/plain": [
       "True"
      ]
     },
     "execution_count": 23,
     "metadata": {},
     "output_type": "execute_result"
    }
   ],
   "source": [
    "a is not List"
   ]
  },
  {
   "cell_type": "code",
   "execution_count": 24,
   "metadata": {},
   "outputs": [
    {
     "data": {
      "text/plain": [
       "False"
      ]
     },
     "execution_count": 24,
     "metadata": {},
     "output_type": "execute_result"
    }
   ],
   "source": [
    "b = np.array(a)\n",
    "a is b"
   ]
  },
  {
   "cell_type": "code",
   "execution_count": 27,
   "metadata": {},
   "outputs": [
    {
     "data": {
      "text/plain": [
       "True"
      ]
     },
     "execution_count": 27,
     "metadata": {},
     "output_type": "execute_result"
    }
   ],
   "source": [
    "a = np.asarray(List)\n",
    "b = np.asarray(a)\n",
    "a is b"
   ]
  },
  {
   "cell_type": "code",
   "execution_count": 28,
   "metadata": {},
   "outputs": [
    {
     "name": "stdout",
     "output_type": "stream",
     "text": [
      "import numpy as np\n",
      "a = np.arange(1,28).reshape((3,3,3))\n",
      "import numpy as np\n",
      "a = np.arange(1,28).reshape((3,3,3))\n",
      "print(a)\n",
      "import numpy as np\n",
      "a = np.arange(1,28).reshape((3,3,3))\n",
      "print(a)\n",
      "print(a.shape)\n",
      "print(a.ndim)\n",
      "a += a\n",
      "print(a)\n",
      "a = np.random.randn(2,6)\n",
      "a = np.random.randn(2,6)\n",
      "print(a)\n",
      "a = np.random.randn(3,6)\n",
      "print(a)\n",
      "a = np.random.randn(3,6,4)\n",
      "print(a)\n",
      "a = np.random.rand(3,6,4)\n",
      "print(a)\n",
      "a = np.random.randint(3,6,4)\n",
      "print(a)\n",
      "a = np.random.rand(3,6,4)\n",
      "print(a)\n",
      "a = np.random.randint(3,6,4)\n",
      "print(a)\n",
      "a = np.random.random_integers(3,6,4)\n",
      "print(a)\n",
      "a = np.random.rand(3,6,4)\n",
      "print(a)\n",
      "a = np.random.rand(3)\n",
      "print(a)\n",
      "a = np.random.rand(3,4)\n",
      "print(a)\n",
      "a = np.random.rand(3,4,5)\n",
      "print(a)\n",
      "arr = [1,2,3]\n",
      "print(type(a))\n",
      "a = np.array(a)\n",
      "type(a)\n",
      "List = [1,2,3]\n",
      "a = np.array(List)\n",
      "a is List\n",
      "a is not List\n",
      "b = np.array(a)\n",
      "a is b\n",
      "a = np.asarray(List)\n",
      "b = np.asarray(List)\n",
      "a = np.asarray(List)\n",
      "b = np.asarray(List)\n",
      "a is b\n",
      "a = np.asarray(List)\n",
      "b = np.asarray(a)\n",
      "a is b\n",
      "%history\n"
     ]
    }
   ],
   "source": [
    "%history"
   ]
  },
  {
   "cell_type": "code",
   "execution_count": 30,
   "metadata": {},
   "outputs": [
    {
     "name": "stdout",
     "output_type": "stream",
     "text": [
      "Wall time: 823 ms\n"
     ]
    },
    {
     "data": {
      "text/plain": [
       "[0, 1, 2, 3, 4, 5, 6, 7, 8, 9, 10, 11, 12, 13, 14, 15, 16, 17, 18, 19]"
      ]
     },
     "execution_count": 30,
     "metadata": {},
     "output_type": "execute_result"
    }
   ],
   "source": [
    "%time list(range(10000000))[:20]"
   ]
  },
  {
   "cell_type": "code",
   "execution_count": 31,
   "metadata": {},
   "outputs": [
    {
     "name": "stdout",
     "output_type": "stream",
     "text": [
      "Wall time: 43.9 ms\n"
     ]
    },
    {
     "data": {
      "text/plain": [
       "array([ 0,  1,  2,  3,  4,  5,  6,  7,  8,  9, 10, 11, 12, 13, 14, 15, 16,\n",
       "       17, 18, 19])"
      ]
     },
     "execution_count": 31,
     "metadata": {},
     "output_type": "execute_result"
    }
   ],
   "source": [
    "%time np.arange(10000000)[:20]"
   ]
  },
  {
   "cell_type": "code",
   "execution_count": 32,
   "metadata": {},
   "outputs": [
    {
     "name": "stdout",
     "output_type": "stream",
     "text": [
      "Waleed\n",
      "Butt\n"
     ]
    }
   ],
   "source": [
    "print(\"Waleed\\nButt\")"
   ]
  },
  {
   "cell_type": "code",
   "execution_count": 34,
   "metadata": {},
   "outputs": [
    {
     "name": "stdout",
     "output_type": "stream",
     "text": [
      "Waleed\\nButt\n"
     ]
    }
   ],
   "source": [
    "print(\"Waleed\\\\nButt\")"
   ]
  },
  {
   "cell_type": "code",
   "execution_count": null,
   "metadata": {},
   "outputs": [],
   "source": []
  }
 ],
 "metadata": {
  "kernelspec": {
   "display_name": "Python 3",
   "language": "python",
   "name": "python3"
  },
  "language_info": {
   "codemirror_mode": {
    "name": "ipython",
    "version": 3
   },
   "file_extension": ".py",
   "mimetype": "text/x-python",
   "name": "python",
   "nbconvert_exporter": "python",
   "pygments_lexer": "ipython3",
   "version": "3.7.4"
  }
 },
 "nbformat": 4,
 "nbformat_minor": 2
}
