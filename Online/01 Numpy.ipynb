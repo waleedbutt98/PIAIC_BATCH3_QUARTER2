{
 "cells": [
  {
   "cell_type": "code",
   "execution_count": 1,
   "metadata": {},
   "outputs": [
    {
     "name": "stdout",
     "output_type": "stream",
     "text": [
      "Wall time: 1.8 s\n"
     ]
    }
   ],
   "source": [
    "list1 = range(1000000)\n",
    "%time for i in range(1,10): [x*2 for x in list1]"
   ]
  },
  {
   "cell_type": "code",
   "execution_count": 2,
   "metadata": {},
   "outputs": [
    {
     "name": "stdout",
     "output_type": "stream",
     "text": [
      "Wall time: 2.99 ms\n"
     ]
    },
    {
     "data": {
      "text/plain": [
       "array([      0,       2,       4, ..., 1999994, 1999996, 1999998])"
      ]
     },
     "execution_count": 2,
     "metadata": {},
     "output_type": "execute_result"
    }
   ],
   "source": [
    "import numpy as np\n",
    "list2 = np.arange(1000000)\n",
    "%time list2 * 2"
   ]
  },
  {
   "cell_type": "code",
   "execution_count": 3,
   "metadata": {},
   "outputs": [
    {
     "name": "stdout",
     "output_type": "stream",
     "text": [
      "[[0. 0. 0. 0.]\n",
      " [0. 0. 0. 0.]\n",
      " [0. 0. 0. 0.]\n",
      " [0. 0. 0. 0.]]\n"
     ]
    }
   ],
   "source": [
    "z = np.zeros((4,4))\n",
    "print(z)"
   ]
  },
  {
   "cell_type": "code",
   "execution_count": 4,
   "metadata": {},
   "outputs": [
    {
     "name": "stdout",
     "output_type": "stream",
     "text": [
      "[[1. 1. 1. 1.]\n",
      " [1. 1. 1. 1.]\n",
      " [1. 1. 1. 1.]\n",
      " [1. 1. 1. 1.]]\n"
     ]
    }
   ],
   "source": [
    "z = np.ones((4,4))\n",
    "print(z)"
   ]
  },
  {
   "cell_type": "code",
   "execution_count": 5,
   "metadata": {},
   "outputs": [
    {
     "name": "stdout",
     "output_type": "stream",
     "text": [
      "[[1. 1. 1. 1.]\n",
      " [1. 1. 1. 1.]\n",
      " [1. 1. 1. 1.]\n",
      " [1. 1. 1. 1.]]\n"
     ]
    }
   ],
   "source": [
    "z = np.empty((4,4))\n",
    "print(z)\n",
    "# Data Can be anything other"
   ]
  },
  {
   "cell_type": "code",
   "execution_count": 6,
   "metadata": {},
   "outputs": [
    {
     "data": {
      "text/plain": [
       "array([1, 4, 5, 7])"
      ]
     },
     "execution_count": 6,
     "metadata": {},
     "output_type": "execute_result"
    }
   ],
   "source": [
    "list1 = [1,4,5,7]\n",
    "np.array(list1)"
   ]
  },
  {
   "cell_type": "code",
   "execution_count": 7,
   "metadata": {},
   "outputs": [
    {
     "data": {
      "text/plain": [
       "array([    1,   101,   201,   301,   401,   501,   601,   701,   801,\n",
       "         901,  1001,  1101,  1201,  1301,  1401,  1501,  1601,  1701,\n",
       "        1801,  1901,  2001,  2101,  2201,  2301,  2401,  2501,  2601,\n",
       "        2701,  2801,  2901,  3001,  3101,  3201,  3301,  3401,  3501,\n",
       "        3601,  3701,  3801,  3901,  4001,  4101,  4201,  4301,  4401,\n",
       "        4501,  4601,  4701,  4801,  4901,  5001,  5101,  5201,  5301,\n",
       "        5401,  5501,  5601,  5701,  5801,  5901,  6001,  6101,  6201,\n",
       "        6301,  6401,  6501,  6601,  6701,  6801,  6901,  7001,  7101,\n",
       "        7201,  7301,  7401,  7501,  7601,  7701,  7801,  7901,  8001,\n",
       "        8101,  8201,  8301,  8401,  8501,  8601,  8701,  8801,  8901,\n",
       "        9001,  9101,  9201,  9301,  9401,  9501,  9601,  9701,  9801,\n",
       "        9901, 10001, 10101, 10201, 10301, 10401, 10501, 10601, 10701,\n",
       "       10801, 10901, 11001, 11101, 11201, 11301, 11401, 11501, 11601,\n",
       "       11701, 11801, 11901, 12001, 12101, 12201, 12301, 12401, 12501,\n",
       "       12601, 12701, 12801, 12901, 13001, 13101, 13201, 13301, 13401,\n",
       "       13501, 13601, 13701, 13801, 13901, 14001, 14101, 14201, 14301,\n",
       "       14401, 14501, 14601, 14701, 14801, 14901, 15001, 15101, 15201,\n",
       "       15301, 15401, 15501, 15601, 15701, 15801, 15901, 16001, 16101,\n",
       "       16201, 16301, 16401, 16501, 16601, 16701, 16801, 16901, 17001,\n",
       "       17101, 17201, 17301, 17401, 17501, 17601, 17701, 17801, 17901,\n",
       "       18001, 18101, 18201, 18301, 18401, 18501, 18601, 18701, 18801,\n",
       "       18901, 19001, 19101, 19201, 19301, 19401, 19501, 19601, 19701,\n",
       "       19801, 19901, 20001, 20101, 20201, 20301, 20401, 20501, 20601,\n",
       "       20701, 20801, 20901, 21001, 21101, 21201, 21301, 21401, 21501,\n",
       "       21601, 21701, 21801, 21901, 22001, 22101, 22201, 22301, 22401,\n",
       "       22501, 22601, 22701, 22801, 22901, 23001, 23101, 23201, 23301,\n",
       "       23401, 23501, 23601, 23701, 23801, 23901, 24001, 24101, 24201,\n",
       "       24301, 24401, 24501, 24601, 24701, 24801, 24901, 25001, 25101,\n",
       "       25201, 25301, 25401, 25501, 25601, 25701, 25801, 25901, 26001,\n",
       "       26101, 26201, 26301, 26401, 26501, 26601, 26701, 26801, 26901,\n",
       "       27001, 27101, 27201, 27301, 27401, 27501, 27601, 27701, 27801,\n",
       "       27901, 28001, 28101, 28201, 28301, 28401, 28501, 28601, 28701,\n",
       "       28801, 28901, 29001, 29101, 29201, 29301, 29401, 29501, 29601,\n",
       "       29701, 29801, 29901, 30001, 30101, 30201, 30301, 30401, 30501,\n",
       "       30601, 30701, 30801, 30901, 31001, 31101, 31201, 31301, 31401,\n",
       "       31501, 31601, 31701, 31801, 31901, 32001, 32101, 32201, 32301,\n",
       "       32401, 32501, 32601, 32701, 32801, 32901, 33001, 33101, 33201,\n",
       "       33301, 33401, 33501, 33601, 33701, 33801, 33901, 34001, 34101,\n",
       "       34201, 34301, 34401, 34501, 34601, 34701, 34801, 34901, 35001,\n",
       "       35101, 35201, 35301, 35401, 35501, 35601, 35701, 35801, 35901,\n",
       "       36001, 36101, 36201, 36301, 36401, 36501, 36601, 36701, 36801,\n",
       "       36901, 37001, 37101, 37201, 37301, 37401, 37501, 37601, 37701,\n",
       "       37801, 37901, 38001, 38101, 38201, 38301, 38401, 38501, 38601,\n",
       "       38701, 38801, 38901, 39001, 39101, 39201, 39301, 39401, 39501,\n",
       "       39601, 39701, 39801, 39901, 40001, 40101, 40201, 40301, 40401,\n",
       "       40501, 40601, 40701, 40801, 40901, 41001, 41101, 41201, 41301,\n",
       "       41401, 41501, 41601, 41701, 41801, 41901, 42001, 42101, 42201,\n",
       "       42301, 42401, 42501, 42601, 42701, 42801, 42901, 43001, 43101,\n",
       "       43201, 43301, 43401, 43501, 43601, 43701, 43801, 43901, 44001,\n",
       "       44101, 44201, 44301, 44401, 44501, 44601, 44701, 44801, 44901,\n",
       "       45001, 45101, 45201, 45301, 45401, 45501, 45601, 45701, 45801,\n",
       "       45901, 46001, 46101, 46201, 46301, 46401, 46501, 46601, 46701,\n",
       "       46801, 46901, 47001, 47101, 47201, 47301, 47401, 47501, 47601,\n",
       "       47701, 47801, 47901, 48001, 48101, 48201, 48301, 48401, 48501,\n",
       "       48601, 48701, 48801, 48901, 49001, 49101, 49201, 49301, 49401,\n",
       "       49501, 49601, 49701, 49801, 49901, 50001, 50101, 50201, 50301,\n",
       "       50401, 50501, 50601, 50701, 50801, 50901, 51001, 51101, 51201,\n",
       "       51301, 51401, 51501, 51601, 51701, 51801, 51901, 52001, 52101,\n",
       "       52201, 52301, 52401, 52501, 52601, 52701, 52801, 52901, 53001,\n",
       "       53101, 53201, 53301, 53401, 53501, 53601, 53701, 53801, 53901,\n",
       "       54001, 54101, 54201, 54301, 54401, 54501, 54601, 54701, 54801,\n",
       "       54901, 55001, 55101, 55201, 55301, 55401, 55501, 55601, 55701,\n",
       "       55801, 55901, 56001, 56101, 56201, 56301, 56401, 56501, 56601,\n",
       "       56701, 56801, 56901, 57001, 57101, 57201, 57301, 57401, 57501,\n",
       "       57601, 57701, 57801, 57901, 58001, 58101, 58201, 58301, 58401,\n",
       "       58501, 58601, 58701, 58801, 58901, 59001, 59101, 59201, 59301,\n",
       "       59401, 59501, 59601, 59701, 59801, 59901, 60001, 60101, 60201,\n",
       "       60301, 60401, 60501, 60601, 60701, 60801, 60901, 61001, 61101,\n",
       "       61201, 61301, 61401, 61501, 61601, 61701, 61801, 61901, 62001,\n",
       "       62101, 62201, 62301, 62401, 62501, 62601, 62701, 62801, 62901,\n",
       "       63001, 63101, 63201, 63301, 63401, 63501, 63601, 63701, 63801,\n",
       "       63901, 64001, 64101, 64201, 64301, 64401, 64501, 64601, 64701,\n",
       "       64801, 64901, 65001, 65101, 65201, 65301, 65401, 65501, 65601,\n",
       "       65701, 65801, 65901, 66001, 66101, 66201, 66301, 66401, 66501,\n",
       "       66601, 66701, 66801, 66901, 67001, 67101, 67201, 67301, 67401,\n",
       "       67501, 67601, 67701, 67801, 67901, 68001, 68101, 68201, 68301,\n",
       "       68401, 68501, 68601, 68701, 68801, 68901, 69001, 69101, 69201,\n",
       "       69301, 69401, 69501, 69601, 69701, 69801, 69901, 70001, 70101,\n",
       "       70201, 70301, 70401, 70501, 70601, 70701, 70801, 70901, 71001,\n",
       "       71101, 71201, 71301, 71401, 71501, 71601, 71701, 71801, 71901,\n",
       "       72001, 72101, 72201, 72301, 72401, 72501, 72601, 72701, 72801,\n",
       "       72901, 73001, 73101, 73201, 73301, 73401, 73501, 73601, 73701,\n",
       "       73801, 73901, 74001, 74101, 74201, 74301, 74401, 74501, 74601,\n",
       "       74701, 74801, 74901, 75001, 75101, 75201, 75301, 75401, 75501,\n",
       "       75601, 75701, 75801, 75901, 76001, 76101, 76201, 76301, 76401,\n",
       "       76501, 76601, 76701, 76801, 76901, 77001, 77101, 77201, 77301,\n",
       "       77401, 77501, 77601, 77701, 77801, 77901, 78001, 78101, 78201,\n",
       "       78301, 78401, 78501, 78601, 78701, 78801, 78901, 79001, 79101,\n",
       "       79201, 79301, 79401, 79501, 79601, 79701, 79801, 79901, 80001,\n",
       "       80101, 80201, 80301, 80401, 80501, 80601, 80701, 80801, 80901,\n",
       "       81001, 81101, 81201, 81301, 81401, 81501, 81601, 81701, 81801,\n",
       "       81901, 82001, 82101, 82201, 82301, 82401, 82501, 82601, 82701,\n",
       "       82801, 82901, 83001, 83101, 83201, 83301, 83401, 83501, 83601,\n",
       "       83701, 83801, 83901, 84001, 84101, 84201, 84301, 84401, 84501,\n",
       "       84601, 84701, 84801, 84901, 85001, 85101, 85201, 85301, 85401,\n",
       "       85501, 85601, 85701, 85801, 85901, 86001, 86101, 86201, 86301,\n",
       "       86401, 86501, 86601, 86701, 86801, 86901, 87001, 87101, 87201,\n",
       "       87301, 87401, 87501, 87601, 87701, 87801, 87901, 88001, 88101,\n",
       "       88201, 88301, 88401, 88501, 88601, 88701, 88801, 88901, 89001,\n",
       "       89101, 89201, 89301, 89401, 89501, 89601, 89701, 89801, 89901,\n",
       "       90001, 90101, 90201, 90301, 90401, 90501, 90601, 90701, 90801,\n",
       "       90901, 91001, 91101, 91201, 91301, 91401, 91501, 91601, 91701,\n",
       "       91801, 91901, 92001, 92101, 92201, 92301, 92401, 92501, 92601,\n",
       "       92701, 92801, 92901, 93001, 93101, 93201, 93301, 93401, 93501,\n",
       "       93601, 93701, 93801, 93901, 94001, 94101, 94201, 94301, 94401,\n",
       "       94501, 94601, 94701, 94801, 94901, 95001, 95101, 95201, 95301,\n",
       "       95401, 95501, 95601, 95701, 95801, 95901, 96001, 96101, 96201,\n",
       "       96301, 96401, 96501, 96601, 96701, 96801, 96901, 97001, 97101,\n",
       "       97201, 97301, 97401, 97501, 97601, 97701, 97801, 97901, 98001,\n",
       "       98101, 98201, 98301, 98401, 98501, 98601, 98701, 98801, 98901,\n",
       "       99001, 99101, 99201, 99301, 99401, 99501, 99601, 99701, 99801,\n",
       "       99901])"
      ]
     },
     "execution_count": 7,
     "metadata": {},
     "output_type": "execute_result"
    }
   ],
   "source": [
    "np.arange(1,100000,100)"
   ]
  },
  {
   "cell_type": "code",
   "execution_count": 9,
   "metadata": {},
   "outputs": [
    {
     "data": {
      "text/plain": [
       "(4, 4)"
      ]
     },
     "execution_count": 9,
     "metadata": {},
     "output_type": "execute_result"
    }
   ],
   "source": [
    "z.shape"
   ]
  },
  {
   "cell_type": "code",
   "execution_count": 12,
   "metadata": {},
   "outputs": [
    {
     "data": {
      "text/plain": [
       "array([[[[1., 1.],\n",
       "         [1., 1.]],\n",
       "\n",
       "        [[1., 1.],\n",
       "         [1., 1.]]],\n",
       "\n",
       "\n",
       "       [[[1., 1.],\n",
       "         [1., 1.]],\n",
       "\n",
       "        [[1., 1.],\n",
       "         [1., 1.]]]])"
      ]
     },
     "execution_count": 12,
     "metadata": {},
     "output_type": "execute_result"
    }
   ],
   "source": [
    "z.reshape((2,2,2,2))"
   ]
  },
  {
   "cell_type": "code",
   "execution_count": 13,
   "metadata": {},
   "outputs": [
    {
     "data": {
      "text/plain": [
       "2"
      ]
     },
     "execution_count": 13,
     "metadata": {},
     "output_type": "execute_result"
    }
   ],
   "source": [
    "z.ndim"
   ]
  },
  {
   "cell_type": "code",
   "execution_count": 14,
   "metadata": {},
   "outputs": [
    {
     "name": "stdout",
     "output_type": "stream",
     "text": [
      "[-0.55660821 -0.43883506  0.05232754  2.67982762  0.58402    -1.17836091\n",
      " -0.59724488 -0.65120171 -1.97152944  0.02751215] [-1.11945844  1.74630194  0.30554274  0.0758087   0.68311278 -0.29056606\n",
      " -0.07910042  0.19021913 -0.5623208  -1.14076661]\n"
     ]
    }
   ],
   "source": [
    "a = np.random.randn((10))\n",
    "b = np.random.randn((10))\n",
    "print(a,b)"
   ]
  },
  {
   "cell_type": "code",
   "execution_count": 15,
   "metadata": {},
   "outputs": [
    {
     "data": {
      "text/plain": [
       "array([-1.67606665,  1.30746688,  0.35787029,  2.75563632,  1.26713277,\n",
       "       -1.46892698, -0.6763453 , -0.46098257, -2.53385024, -1.11325446])"
      ]
     },
     "execution_count": 15,
     "metadata": {},
     "output_type": "execute_result"
    }
   ],
   "source": [
    "a+b"
   ]
  },
  {
   "cell_type": "code",
   "execution_count": 16,
   "metadata": {},
   "outputs": [
    {
     "data": {
      "text/plain": [
       "array([ 0.56285023, -2.18513699, -0.2532152 ,  2.60401892, -0.09909278,\n",
       "       -0.88779485, -0.51814445, -0.84142084, -1.40920864,  1.16827876])"
      ]
     },
     "execution_count": 16,
     "metadata": {},
     "output_type": "execute_result"
    }
   ],
   "source": [
    "a-b"
   ]
  },
  {
   "cell_type": "code",
   "execution_count": 17,
   "metadata": {},
   "outputs": [
    {
     "data": {
      "text/plain": [
       "array([ 0.62309976, -0.76633851,  0.0159883 ,  0.20315426,  0.39895152,\n",
       "        0.34239169,  0.04724232, -0.12387103,  1.10863202, -0.03138494])"
      ]
     },
     "execution_count": 17,
     "metadata": {},
     "output_type": "execute_result"
    }
   ],
   "source": [
    "a*b"
   ]
  },
  {
   "cell_type": "code",
   "execution_count": 18,
   "metadata": {},
   "outputs": [
    {
     "data": {
      "text/plain": [
       "array([ 4.97212037e-01, -2.51293918e-01,  1.71260961e-01,  3.53498674e+01,\n",
       "        8.54939352e-01,  4.05539762e+00,  7.55046388e+00, -3.42342903e+00,\n",
       "        3.50605817e+00, -2.41172463e-02])"
      ]
     },
     "execution_count": 18,
     "metadata": {},
     "output_type": "execute_result"
    }
   ],
   "source": [
    "a/b"
   ]
  },
  {
   "cell_type": "code",
   "execution_count": 19,
   "metadata": {},
   "outputs": [
    {
     "data": {
      "text/plain": [
       "array([3.09812702e-01, 1.92576206e-01, 2.73817188e-03, 7.18147607e+00,\n",
       "       3.41079356e-01, 1.38853444e+00, 3.56701442e-01, 4.24063665e-01,\n",
       "       3.88692834e+00, 7.56918363e-04])"
      ]
     },
     "execution_count": 19,
     "metadata": {},
     "output_type": "execute_result"
    }
   ],
   "source": [
    "a**2"
   ]
  },
  {
   "cell_type": "code",
   "execution_count": 20,
   "metadata": {},
   "outputs": [
    {
     "data": {
      "text/plain": [
       "array([False, False,  True,  True,  True, False, False, False, False,\n",
       "        True])"
      ]
     },
     "execution_count": 20,
     "metadata": {},
     "output_type": "execute_result"
    }
   ],
   "source": [
    "a>0"
   ]
  },
  {
   "cell_type": "code",
   "execution_count": 21,
   "metadata": {},
   "outputs": [
    {
     "data": {
      "text/plain": [
       "array([0.05232754, 2.67982762, 0.58402   , 0.02751215])"
      ]
     },
     "execution_count": 21,
     "metadata": {},
     "output_type": "execute_result"
    }
   ],
   "source": [
    "a[a>0]"
   ]
  },
  {
   "cell_type": "code",
   "execution_count": 22,
   "metadata": {},
   "outputs": [
    {
     "data": {
      "text/plain": [
       "5"
      ]
     },
     "execution_count": 22,
     "metadata": {},
     "output_type": "execute_result"
    }
   ],
   "source": [
    "x=np.array([1,7,9,8,5])\n",
    "x[4]"
   ]
  },
  {
   "cell_type": "code",
   "execution_count": 23,
   "metadata": {},
   "outputs": [
    {
     "data": {
      "text/plain": [
       "array([7, 9, 8])"
      ]
     },
     "execution_count": 23,
     "metadata": {},
     "output_type": "execute_result"
    }
   ],
   "source": [
    "x[x>5]"
   ]
  },
  {
   "cell_type": "code",
   "execution_count": 24,
   "metadata": {},
   "outputs": [
    {
     "data": {
      "text/plain": [
       "array([9, 7])"
      ]
     },
     "execution_count": 24,
     "metadata": {},
     "output_type": "execute_result"
    }
   ],
   "source": [
    "x[[2,1]]"
   ]
  },
  {
   "cell_type": "code",
   "execution_count": 26,
   "metadata": {},
   "outputs": [],
   "source": [
    "x=np.random.randn(10,10)"
   ]
  },
  {
   "cell_type": "code",
   "execution_count": 27,
   "metadata": {},
   "outputs": [
    {
     "data": {
      "text/plain": [
       "array([-0.59913338, -1.31359109,  0.06117007,  0.04918672,  2.27665116,\n",
       "       -0.67599949, -0.55017781, -0.05907074, -0.08149436,  0.75401675])"
      ]
     },
     "execution_count": 27,
     "metadata": {},
     "output_type": "execute_result"
    }
   ],
   "source": [
    "x[0]"
   ]
  },
  {
   "cell_type": "code",
   "execution_count": 28,
   "metadata": {},
   "outputs": [
    {
     "data": {
      "text/plain": [
       "array([[ 0.49283964,  0.58324445,  0.94512305, -1.09250583,  0.96236237,\n",
       "         0.34735196,  0.01140663, -0.23400425, -1.6050693 , -0.76720054],\n",
       "       [-1.85748194, -0.38193457,  0.74662982,  0.27462848, -1.53778337,\n",
       "        -0.33470682, -0.61127783, -1.40470318, -0.93904143,  0.00328123],\n",
       "       [ 0.03353771, -0.79387656, -0.21287816, -0.40393393, -1.37319858,\n",
       "        -2.11995377, -2.12387941,  0.7561239 , -0.60010335,  0.48947629],\n",
       "       [-0.65333019, -0.39793438, -0.37212895,  0.2696708 , -1.46938988,\n",
       "        -1.98650134, -0.06769997,  0.57102991,  0.25650118,  0.42151129],\n",
       "       [-1.36162514,  2.51323426, -0.0256358 , -1.22860864,  0.1257458 ,\n",
       "        -1.41887242,  0.37121341,  2.12522541,  0.19652052, -0.73329976]])"
      ]
     },
     "execution_count": 28,
     "metadata": {},
     "output_type": "execute_result"
    }
   ],
   "source": [
    "x[1::2]\n",
    "#Odd Rows"
   ]
  },
  {
   "cell_type": "code",
   "execution_count": 29,
   "metadata": {},
   "outputs": [
    {
     "data": {
      "text/plain": [
       "array([[-0.59913338, -1.31359109,  0.06117007,  0.04918672],\n",
       "       [ 0.49283964,  0.58324445,  0.94512305, -1.09250583],\n",
       "       [ 0.30276866,  2.03734635,  0.58468019,  0.8902958 ],\n",
       "       [-1.85748194, -0.38193457,  0.74662982,  0.27462848],\n",
       "       [ 0.01611896, -0.49083218, -0.72658463,  0.11910247],\n",
       "       [ 0.03353771, -0.79387656, -0.21287816, -0.40393393],\n",
       "       [-1.11863818,  0.30141448,  0.35131367,  0.38959864],\n",
       "       [-0.65333019, -0.39793438, -0.37212895,  0.2696708 ],\n",
       "       [ 0.60961244, -2.02585258,  0.84218257, -0.66441958],\n",
       "       [-1.36162514,  2.51323426, -0.0256358 , -1.22860864]])"
      ]
     },
     "execution_count": 29,
     "metadata": {},
     "output_type": "execute_result"
    }
   ],
   "source": [
    "x[::,0:4]"
   ]
  },
  {
   "cell_type": "code",
   "execution_count": 30,
   "metadata": {},
   "outputs": [],
   "source": [
    "#Making a square with ones in border and zeroes in center\n",
    "square = np.ones((5,5))\n",
    "square[1:-1,1:-1]=0"
   ]
  },
  {
   "cell_type": "code",
   "execution_count": 31,
   "metadata": {},
   "outputs": [
    {
     "data": {
      "text/plain": [
       "array([[1., 1., 1., 1., 1.],\n",
       "       [1., 0., 0., 0., 1.],\n",
       "       [1., 0., 0., 0., 1.],\n",
       "       [1., 0., 0., 0., 1.],\n",
       "       [1., 1., 1., 1., 1.]])"
      ]
     },
     "execution_count": 31,
     "metadata": {},
     "output_type": "execute_result"
    }
   ],
   "source": [
    "square"
   ]
  },
  {
   "cell_type": "code",
   "execution_count": 32,
   "metadata": {},
   "outputs": [
    {
     "data": {
      "text/plain": [
       "array([3.16227766, 3.        , 2.82842712, 2.44948974, 3.31662479])"
      ]
     },
     "execution_count": 32,
     "metadata": {},
     "output_type": "execute_result"
    }
   ],
   "source": [
    "x=np.array([10,9,8,6,11])\n",
    "np.sqrt(x)"
   ]
  },
  {
   "cell_type": "code",
   "execution_count": 33,
   "metadata": {},
   "outputs": [
    {
     "data": {
      "text/plain": [
       "array([100,  81,  64,  36, 121], dtype=int32)"
      ]
     },
     "execution_count": 33,
     "metadata": {},
     "output_type": "execute_result"
    }
   ],
   "source": [
    "np.power(x,2)"
   ]
  },
  {
   "cell_type": "code",
   "execution_count": 34,
   "metadata": {},
   "outputs": [
    {
     "data": {
      "text/plain": [
       "array([10, 11,  8,  8, 11])"
      ]
     },
     "execution_count": 34,
     "metadata": {},
     "output_type": "execute_result"
    }
   ],
   "source": [
    "y=np.array([7,11,3,8,10])\n",
    "np.maximum(x,y)"
   ]
  },
  {
   "cell_type": "code",
   "execution_count": 36,
   "metadata": {},
   "outputs": [
    {
     "data": {
      "text/plain": [
       "11"
      ]
     },
     "execution_count": 36,
     "metadata": {},
     "output_type": "execute_result"
    }
   ],
   "source": [
    "np.max(x)"
   ]
  },
  {
   "cell_type": "code",
   "execution_count": 37,
   "metadata": {},
   "outputs": [
    {
     "data": {
      "text/plain": [
       "array([25000, 25000, 10000,   111, 22121])"
      ]
     },
     "execution_count": 37,
     "metadata": {},
     "output_type": "execute_result"
    }
   ],
   "source": [
    "x=np.array([0,-1,10000,111,22121])\n",
    "np.where(x<=0,25000,x)"
   ]
  },
  {
   "cell_type": "code",
   "execution_count": 38,
   "metadata": {},
   "outputs": [
    {
     "data": {
      "text/plain": [
       "array(['25000', '25000', 'NOT OK', 'NOT OK', 'NOT OK'], dtype='<U11')"
      ]
     },
     "execution_count": 38,
     "metadata": {},
     "output_type": "execute_result"
    }
   ],
   "source": [
    "np.where(x<=0,25000,\"NOT OK\")"
   ]
  },
  {
   "cell_type": "code",
   "execution_count": 39,
   "metadata": {},
   "outputs": [
    {
     "name": "stdout",
     "output_type": "stream",
     "text": [
      "2\n"
     ]
    }
   ],
   "source": [
    "print(True+True)"
   ]
  },
  {
   "cell_type": "code",
   "execution_count": 40,
   "metadata": {},
   "outputs": [
    {
     "data": {
      "text/plain": [
       "8.6"
      ]
     },
     "execution_count": 40,
     "metadata": {},
     "output_type": "execute_result"
    }
   ],
   "source": [
    "x=np.array([10,9,7,10,7])\n",
    "x.mean()"
   ]
  },
  {
   "cell_type": "code",
   "execution_count": 42,
   "metadata": {},
   "outputs": [
    {
     "data": {
      "text/plain": [
       "array([10, 19, 26, 36, 43], dtype=int32)"
      ]
     },
     "execution_count": 42,
     "metadata": {},
     "output_type": "execute_result"
    }
   ],
   "source": [
    "x.cumsum()"
   ]
  },
  {
   "cell_type": "code",
   "execution_count": 46,
   "metadata": {},
   "outputs": [
    {
     "name": "stdout",
     "output_type": "stream",
     "text": [
      "[ True  True False  True False]\n"
     ]
    }
   ],
   "source": [
    "y = x>8\n",
    "print(y)"
   ]
  },
  {
   "cell_type": "code",
   "execution_count": 44,
   "metadata": {},
   "outputs": [
    {
     "data": {
      "text/plain": [
       "3"
      ]
     },
     "execution_count": 44,
     "metadata": {},
     "output_type": "execute_result"
    }
   ],
   "source": [
    "y.sum()"
   ]
  },
  {
   "cell_type": "code",
   "execution_count": 45,
   "metadata": {},
   "outputs": [
    {
     "data": {
      "text/plain": [
       "True"
      ]
     },
     "execution_count": 45,
     "metadata": {},
     "output_type": "execute_result"
    }
   ],
   "source": [
    "y.any()"
   ]
  },
  {
   "cell_type": "code",
   "execution_count": 47,
   "metadata": {},
   "outputs": [
    {
     "data": {
      "text/plain": [
       "False"
      ]
     },
     "execution_count": 47,
     "metadata": {},
     "output_type": "execute_result"
    }
   ],
   "source": [
    "y.all()"
   ]
  },
  {
   "cell_type": "code",
   "execution_count": 49,
   "metadata": {},
   "outputs": [
    {
     "data": {
      "text/plain": [
       "array([ 7,  7,  9, 10, 10])"
      ]
     },
     "execution_count": 49,
     "metadata": {},
     "output_type": "execute_result"
    }
   ],
   "source": [
    "x.sort()\n",
    "x"
   ]
  },
  {
   "cell_type": "markdown",
   "metadata": {},
   "source": [
    "# File I/O"
   ]
  },
  {
   "cell_type": "code",
   "execution_count": 21,
   "metadata": {},
   "outputs": [
    {
     "data": {
      "text/plain": [
       "array([8, 7, 9])"
      ]
     },
     "execution_count": 21,
     "metadata": {},
     "output_type": "execute_result"
    }
   ],
   "source": [
    "x=[1,4,5,7,1]\n",
    "y=[8,7,9]\n",
    "np.savez('testx',x=x,y=y)\n",
    "loading = np.load('testx.npz')\n",
    "loading\n",
    "loading['y']"
   ]
  },
  {
   "cell_type": "markdown",
   "metadata": {},
   "source": [
    "# LA"
   ]
  },
  {
   "cell_type": "code",
   "execution_count": 25,
   "metadata": {},
   "outputs": [
    {
     "data": {
      "text/plain": [
       "array([[ 1.12174786,  0.79905237],\n",
       "       [ 0.0414948 ,  0.31803897],\n",
       "       [-0.20565384,  0.71344635]])"
      ]
     },
     "execution_count": 25,
     "metadata": {},
     "output_type": "execute_result"
    }
   ],
   "source": [
    "x=np.random.randn(3,2)\n",
    "y=np.random.randn(2,3)\n",
    "x"
   ]
  },
  {
   "cell_type": "code",
   "execution_count": 26,
   "metadata": {},
   "outputs": [
    {
     "data": {
      "text/plain": [
       "array([[-0.07861379, -1.06694856,  1.32366801],\n",
       "       [ 1.55550578,  2.09772559,  0.14447667]])"
      ]
     },
     "execution_count": 26,
     "metadata": {},
     "output_type": "execute_result"
    }
   ],
   "source": [
    "y"
   ]
  },
  {
   "cell_type": "code",
   "execution_count": 27,
   "metadata": {},
   "outputs": [
    {
     "data": {
      "text/plain": [
       "array([[ 1.15474573,  0.47934533,  1.60026618],\n",
       "       [ 0.4914494 ,  0.62288567,  0.10087456],\n",
       "       [ 1.12593715,  1.71603674, -0.16914105]])"
      ]
     },
     "execution_count": 27,
     "metadata": {},
     "output_type": "execute_result"
    }
   ],
   "source": [
    "x.dot(y)"
   ]
  },
  {
   "cell_type": "code",
   "execution_count": 28,
   "metadata": {},
   "outputs": [
    {
     "data": {
      "text/plain": [
       "array([[ 1.12174786,  0.0414948 , -0.20565384],\n",
       "       [ 0.79905237,  0.31803897,  0.71344635]])"
      ]
     },
     "execution_count": 28,
     "metadata": {},
     "output_type": "execute_result"
    }
   ],
   "source": [
    "x.transpose()"
   ]
  },
  {
   "cell_type": "markdown",
   "metadata": {},
   "source": [
    "# Pseudo Random Numbers"
   ]
  },
  {
   "cell_type": "code",
   "execution_count": 30,
   "metadata": {},
   "outputs": [
    {
     "data": {
      "text/plain": [
       "array([[ 1.69052570e+00, -4.65937371e-01,  3.28201637e-02],\n",
       "       [ 4.07516283e-01, -7.88923029e-01,  2.06557291e-03],\n",
       "       [-8.90385858e-04, -1.75472431e+00,  1.01765801e+00]])"
      ]
     },
     "execution_count": 30,
     "metadata": {},
     "output_type": "execute_result"
    }
   ],
   "source": [
    "np.random.seed(7)\n",
    "np.random.normal(size=(3,3))"
   ]
  },
  {
   "cell_type": "code",
   "execution_count": 32,
   "metadata": {},
   "outputs": [
    {
     "data": {
      "text/plain": [
       "array([[[ 0.60049852, -0.62542897, -0.17154826,  0.50529937,\n",
       "         -0.26135642],\n",
       "        [-0.24274908, -1.45324141,  0.55458031,  0.12388091,\n",
       "          0.27445992]],\n",
       "\n",
       "       [[-1.52652453,  1.65069969,  0.15433554, -0.38713994,\n",
       "          2.02907222],\n",
       "        [-0.04538603, -1.4506787 , -0.40522786, -2.2883151 ,\n",
       "          1.04939655]]])"
      ]
     },
     "execution_count": 32,
     "metadata": {},
     "output_type": "execute_result"
    }
   ],
   "source": [
    "x=np.random.randn(4,5)\n",
    "x.reshape(2,2,5)"
   ]
  },
  {
   "cell_type": "code",
   "execution_count": 33,
   "metadata": {},
   "outputs": [
    {
     "data": {
      "text/plain": [
       "array([ 0.60049852, -0.62542897, -0.17154826,  0.50529937, -0.26135642,\n",
       "       -0.24274908, -1.45324141,  0.55458031,  0.12388091,  0.27445992,\n",
       "       -1.52652453,  1.65069969,  0.15433554, -0.38713994,  2.02907222,\n",
       "       -0.04538603, -1.4506787 , -0.40522786, -2.2883151 ,  1.04939655])"
      ]
     },
     "execution_count": 33,
     "metadata": {},
     "output_type": "execute_result"
    }
   ],
   "source": [
    "x.ravel()"
   ]
  },
  {
   "cell_type": "code",
   "execution_count": 34,
   "metadata": {},
   "outputs": [
    {
     "data": {
      "text/plain": [
       "array([ 0.60049852, -0.62542897, -0.17154826,  0.50529937, -0.26135642,\n",
       "       -0.24274908, -1.45324141,  0.55458031,  0.12388091,  0.27445992,\n",
       "       -1.52652453,  1.65069969,  0.15433554, -0.38713994,  2.02907222,\n",
       "       -0.04538603, -1.4506787 , -0.40522786, -2.2883151 ,  1.04939655])"
      ]
     },
     "execution_count": 34,
     "metadata": {},
     "output_type": "execute_result"
    }
   ],
   "source": [
    "x.flatten()"
   ]
  },
  {
   "cell_type": "code",
   "execution_count": 35,
   "metadata": {},
   "outputs": [],
   "source": [
    "x = np.arange(100)"
   ]
  },
  {
   "cell_type": "code",
   "execution_count": 36,
   "metadata": {},
   "outputs": [
    {
     "data": {
      "text/plain": [
       "array([ 0,  1,  2,  3,  4,  5,  6,  7,  8,  9, 10, 11, 12, 13, 14, 15, 16,\n",
       "       17, 18, 19, 20, 21, 22, 23, 24, 25, 26, 27, 28, 29, 30, 31, 32, 33,\n",
       "       34, 35, 36, 37, 38, 39, 40, 41, 42, 43, 44, 45, 46, 47, 48, 49, 50,\n",
       "       51, 52, 53, 54, 55, 56, 57, 58, 59, 60, 61, 62, 63, 64, 65, 66, 67,\n",
       "       68, 69, 70, 71, 72, 73, 74, 75, 76, 77, 78, 79, 80, 81, 82, 83, 84,\n",
       "       85, 86, 87, 88, 89, 90, 91, 92, 93, 94, 95, 96, 97, 98, 99])"
      ]
     },
     "execution_count": 36,
     "metadata": {},
     "output_type": "execute_result"
    }
   ],
   "source": [
    "x"
   ]
  },
  {
   "cell_type": "code",
   "execution_count": 43,
   "metadata": {},
   "outputs": [
    {
     "data": {
      "text/plain": [
       "array([[ 0, 50],\n",
       "       [ 1, 51],\n",
       "       [ 2, 52],\n",
       "       [ 3, 53],\n",
       "       [ 4, 54],\n",
       "       [ 5, 55],\n",
       "       [ 6, 56],\n",
       "       [ 7, 57],\n",
       "       [ 8, 58],\n",
       "       [ 9, 59],\n",
       "       [10, 60],\n",
       "       [11, 61],\n",
       "       [12, 62],\n",
       "       [13, 63],\n",
       "       [14, 64],\n",
       "       [15, 65],\n",
       "       [16, 66],\n",
       "       [17, 67],\n",
       "       [18, 68],\n",
       "       [19, 69],\n",
       "       [20, 70],\n",
       "       [21, 71],\n",
       "       [22, 72],\n",
       "       [23, 73],\n",
       "       [24, 74],\n",
       "       [25, 75],\n",
       "       [26, 76],\n",
       "       [27, 77],\n",
       "       [28, 78],\n",
       "       [29, 79],\n",
       "       [30, 80],\n",
       "       [31, 81],\n",
       "       [32, 82],\n",
       "       [33, 83],\n",
       "       [34, 84],\n",
       "       [35, 85],\n",
       "       [36, 86],\n",
       "       [37, 87],\n",
       "       [38, 88],\n",
       "       [39, 89],\n",
       "       [40, 90],\n",
       "       [41, 91],\n",
       "       [42, 92],\n",
       "       [43, 93],\n",
       "       [44, 94],\n",
       "       [45, 95],\n",
       "       [46, 96],\n",
       "       [47, 97],\n",
       "       [48, 98],\n",
       "       [49, 99]])"
      ]
     },
     "execution_count": 43,
     "metadata": {},
     "output_type": "execute_result"
    }
   ],
   "source": [
    "x.reshape(50,2,order='F')"
   ]
  },
  {
   "cell_type": "code",
   "execution_count": 44,
   "metadata": {},
   "outputs": [
    {
     "data": {
      "text/plain": [
       "array([[ 0,  1],\n",
       "       [ 2,  3],\n",
       "       [ 4,  5],\n",
       "       [ 6,  7],\n",
       "       [ 8,  9],\n",
       "       [10, 11],\n",
       "       [12, 13],\n",
       "       [14, 15],\n",
       "       [16, 17],\n",
       "       [18, 19],\n",
       "       [20, 21],\n",
       "       [22, 23],\n",
       "       [24, 25],\n",
       "       [26, 27],\n",
       "       [28, 29],\n",
       "       [30, 31],\n",
       "       [32, 33],\n",
       "       [34, 35],\n",
       "       [36, 37],\n",
       "       [38, 39],\n",
       "       [40, 41],\n",
       "       [42, 43],\n",
       "       [44, 45],\n",
       "       [46, 47],\n",
       "       [48, 49],\n",
       "       [50, 51],\n",
       "       [52, 53],\n",
       "       [54, 55],\n",
       "       [56, 57],\n",
       "       [58, 59],\n",
       "       [60, 61],\n",
       "       [62, 63],\n",
       "       [64, 65],\n",
       "       [66, 67],\n",
       "       [68, 69],\n",
       "       [70, 71],\n",
       "       [72, 73],\n",
       "       [74, 75],\n",
       "       [76, 77],\n",
       "       [78, 79],\n",
       "       [80, 81],\n",
       "       [82, 83],\n",
       "       [84, 85],\n",
       "       [86, 87],\n",
       "       [88, 89],\n",
       "       [90, 91],\n",
       "       [92, 93],\n",
       "       [94, 95],\n",
       "       [96, 97],\n",
       "       [98, 99]])"
      ]
     },
     "execution_count": 44,
     "metadata": {},
     "output_type": "execute_result"
    }
   ],
   "source": [
    "x.reshape(50,2,order='C')"
   ]
  },
  {
   "cell_type": "markdown",
   "metadata": {},
   "source": [
    "# Concatenate"
   ]
  },
  {
   "cell_type": "code",
   "execution_count": 54,
   "metadata": {},
   "outputs": [
    {
     "data": {
      "text/plain": [
       "array([[1, 2, 3],\n",
       "       [4, 5, 6],\n",
       "       [3, 2, 1],\n",
       "       [7, 6, 5]])"
      ]
     },
     "execution_count": 54,
     "metadata": {},
     "output_type": "execute_result"
    }
   ],
   "source": [
    "arr1 = np.array([[1,2,3],[4,5,6]])\n",
    "arr2 = np.array([[3,2,1],[7,6,5]])\n",
    "np.concatenate((arr1,arr2),axis=0)"
   ]
  },
  {
   "cell_type": "code",
   "execution_count": 56,
   "metadata": {},
   "outputs": [
    {
     "data": {
      "text/plain": [
       "[array([1, 4]), array([5, 6, 7]), array([9, 1, 4])]"
      ]
     },
     "execution_count": 56,
     "metadata": {},
     "output_type": "execute_result"
    }
   ],
   "source": [
    "d = np.array([1,4,5,6,7,9,1,4])\n",
    "np.split(d,[2,5])"
   ]
  },
  {
   "cell_type": "code",
   "execution_count": 58,
   "metadata": {},
   "outputs": [
    {
     "data": {
      "text/plain": [
       "[array([[1, 4],\n",
       "        [7, 9]]), array([[5, 6],\n",
       "        [1, 4]]), array([], shape=(2, 0), dtype=int32)]"
      ]
     },
     "execution_count": 58,
     "metadata": {},
     "output_type": "execute_result"
    }
   ],
   "source": [
    "d = np.array([[1,4,5,6],[7,9,1,4]])\n",
    "np.split(d,[2,5],axis=1)"
   ]
  },
  {
   "cell_type": "code",
   "execution_count": 59,
   "metadata": {},
   "outputs": [],
   "source": [
    "d=np.array([1,5,7,8])"
   ]
  },
  {
   "cell_type": "code",
   "execution_count": 62,
   "metadata": {},
   "outputs": [
    {
     "data": {
      "text/plain": [
       "array([1, 1, 5, 5, 7, 7, 8, 8])"
      ]
     },
     "execution_count": 62,
     "metadata": {},
     "output_type": "execute_result"
    }
   ],
   "source": [
    "np.repeat(d,2)"
   ]
  },
  {
   "cell_type": "code",
   "execution_count": 65,
   "metadata": {},
   "outputs": [
    {
     "data": {
      "text/plain": [
       "array([1, 5, 7, 8, 1, 5, 7, 8])"
      ]
     },
     "execution_count": 65,
     "metadata": {},
     "output_type": "execute_result"
    }
   ],
   "source": [
    "np.tile(d,2)"
   ]
  },
  {
   "cell_type": "code",
   "execution_count": null,
   "metadata": {},
   "outputs": [],
   "source": []
  }
 ],
 "metadata": {
  "kernelspec": {
   "display_name": "Python 3",
   "language": "python",
   "name": "python3"
  },
  "language_info": {
   "codemirror_mode": {
    "name": "ipython",
    "version": 3
   },
   "file_extension": ".py",
   "mimetype": "text/x-python",
   "name": "python",
   "nbconvert_exporter": "python",
   "pygments_lexer": "ipython3",
   "version": "3.7.4"
  }
 },
 "nbformat": 4,
 "nbformat_minor": 2
}
