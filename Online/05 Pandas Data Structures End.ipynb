{
 "cells": [
  {
   "cell_type": "code",
   "execution_count": 1,
   "metadata": {},
   "outputs": [
    {
     "name": "stdout",
     "output_type": "stream",
     "text": [
      "Ohio         0\n",
      "Colorado     4\n",
      "Utah         8\n",
      "New York    12\n",
      "Name: One, dtype: int32\n"
     ]
    }
   ],
   "source": [
    "import numpy as np\n",
    "import pandas as pd\n",
    "data_df = pd.DataFrame( np.arange(16).reshape((4,4)),\n",
    "                      index = ['Ohio','Colorado','Utah','New York'],\n",
    "                      columns=['One','Two','Three','Four'])\n",
    "# print(data_df,'\\n')\n",
    "# df2 = data_df[['One','Three']]\n",
    "# print(df2)\n",
    "# print( data_df[2:] )\n",
    "print(data_df['One'])\n",
    "\n",
    "# Conditional Selection\n",
    "# print(data_df[data_df['Three']]>5)\n",
    "# print(data_df,'\\n')\n",
    "\n",
    "# df2 = data_df[data_df['Three']]>5\n",
    "# print(df2)\n",
    "# print(data_df[data_df['Three']]>5)"
   ]
  },
  {
   "cell_type": "code",
   "execution_count": null,
   "metadata": {},
   "outputs": [],
   "source": []
  }
 ],
 "metadata": {
  "kernelspec": {
   "display_name": "Python 3",
   "language": "python",
   "name": "python3"
  },
  "language_info": {
   "codemirror_mode": {
    "name": "ipython",
    "version": 3
   },
   "file_extension": ".py",
   "mimetype": "text/x-python",
   "name": "python",
   "nbconvert_exporter": "python",
   "pygments_lexer": "ipython3",
   "version": "3.7.4"
  }
 },
 "nbformat": 4,
 "nbformat_minor": 2
}
